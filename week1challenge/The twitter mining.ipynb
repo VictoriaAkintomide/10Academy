{
 "cells": [
  {
   "cell_type": "markdown",
   "metadata": {},
   "source": [
    "### Importing Libraries\n"
   ]
  },
  {
   "cell_type": "code",
   "execution_count": 12,
   "metadata": {},
   "outputs": [],
   "source": [
    "import sys\n",
    "import os\n",
    "import json\n",
    "import re\n",
    "import string\n"
   ]
  },
  {
   "cell_type": "code",
   "execution_count": 13,
   "metadata": {},
   "outputs": [],
   "source": [
    "import json\n",
    "import tweepy\n",
    "from tweepy.streaming import StreamListener\n",
    "from tweepy import OAuthHandler\n",
    "from tweepy import Stream\n",
    "import datetime\n",
    "\n",
    "\n"
   ]
  },
  {
   "cell_type": "markdown",
   "metadata": {},
   "source": [
    "### Importing the list of twitter handles"
   ]
  },
  {
   "cell_type": "code",
   "execution_count": 3,
   "metadata": {},
   "outputs": [],
   "source": [
    "presidents_list = pd.read_csv('twitterhandles_africanpresidents.csv')\n",
    "presidents = presidents_list['handles'].tolist()\n",
    "\n"
   ]
  },
  {
   "cell_type": "code",
   "execution_count": 4,
   "metadata": {},
   "outputs": [],
   "source": [
    "influencers_list = pd.read_csv('100_influencers_africa.csv')\n",
    "influencers_handles = influencers_list['handle'].tolist()\n"
   ]
  },
  {
   "cell_type": "markdown",
   "metadata": {},
   "source": [
    "### Authentication"
   ]
  },
  {
   "cell_type": "code",
   "execution_count": 5,
   "metadata": {},
   "outputs": [],
   "source": [
    "consumer_key = 'xxxxxxxxxxxxxxxxxxxx",
    "consumer_secret = 'xxxxxxxxxxxxxxxxxxxxxxxxxxxxxxxxxxxxx",
    "access_token_key = 'xxxxxxxxxxxxxxxxxxxxxxxxxxxxxxxxxxxxx",
    "access_token_secret = 'xxxxxxxxxxxxxxxxxxxxxxxxxxxxxxxxxxxxxxx"
   ]
  },
  {
   "cell_type": "code",
   "execution_count": 6,
   "metadata": {},
   "outputs": [],
   "source": [
    "auth = OAuthHandler(consumer_key, consumer_secret)\n",
    "auth.set_access_token(access_token_key, access_token_secret)\n",
    "api = tweepy.API(auth, wait_on_rate_limit=True,\n",
    "                     wait_on_rate_limit_notify=True)"
   ]
  },
  {
   "cell_type": "markdown",
   "metadata": {},
   "source": [
    "### Function Calls"
   ]
  },
  {
   "cell_type": "code",
   "execution_count": 10,
   "metadata": {},
   "outputs": [],
   "source": [
    "\n",
    "def get_user_details(lst): \n",
    "          \n",
    "        # Authorization to consumer key and consumer secret \n",
    "        auth = tweepy.OAuthHandler(consumer_key, consumer_secret) \n",
    "  \n",
    "        # Access to user's access key and access secret \n",
    "        auth.set_access_token(access_token_key, access_token_secret) \n",
    "  \n",
    "        # Calling api \n",
    "        api = tweepy.API(auth) \n",
    "        \n",
    "        \n",
    "        tfile = []\n",
    "        \n",
    "        for username in lst: \n",
    "            try:\n",
    "                tweet = api.get_user(screen_name = username)\n",
    "                tfile.append({'User_Name':username, 'Name':tweet.name, 'User_ID':tweet.id_str, 'Location':tweet.location, \n",
    "                              'Description':tweet.description, 'Followers':tweet.followers_count, \n",
    "                                 'Following': tweet.friends_count, 'Lists':tweet.listed_count,\n",
    "                              'Account Created':tweet.created_at, 'Number of Statuses Liked':tweet.favourites_count,\n",
    "                                 'Verified':tweet.verified,'Language':tweet.lang})\n",
    "                \n",
    "            except tweepy.error.TweepError:\n",
    "                pass\n",
    "                \n",
    "               \n",
    "\n",
    "        data = pd.DataFrame(tfile)\n",
    "        return data\n",
    "\n",
    "def get_user_tweets(lst): \n",
    "          \n",
    "        # Authorization to consumer key and consumer secret \n",
    "        auth = tweepy.OAuthHandler(consumer_key, consumer_secret) \n",
    "  \n",
    "        # Access to user's access key and access secret \n",
    "        auth.set_access_token(access_token_key, access_token_secret) \n",
    "  \n",
    "        # Calling api \n",
    "        api = tweepy.API(auth) \n",
    "        \n",
    "        startDate = datetime.datetime(2019, 7, 1, 0, 0, 0)\n",
    "        endDate =   datetime.datetime(2020, 7, 16, 0, 0, 0)\n",
    "        \n",
    "        tfile = []\n",
    "        \n",
    "        for username in lst:\n",
    "            try:\n",
    "                for tweet in tweepy.Cursor(api.user_timeline, screen_name = username).items():\n",
    "                    if tweet.created_at < endDate and tweet.created_at > startDate:\n",
    "\n",
    "                        tfile.append({'User_Name':username,'Tweet_ID':tweet.id_str,'Source':tweet.source, \n",
    "                                      'Created_date':tweet.created_at, 'Retweet_count':tweet.retweet_count, \n",
    "                                      'Favorite_count':tweet.favorite_count,'Tweet':tweet.text.encode(\"utf-8\"), \n",
    "                                      'Hashtags': tweet.entities['hashtags'],'User_Mentions': tweet.entities['user_mentions']})\n",
    "                    \n",
    "            except tweepy.error.TweepError:\n",
    "                pass\n",
    "\n",
    "        data = pd.DataFrame(tfile)\n",
    "        return data \n",
    "    "
   ]
  },
  {
   "cell_type": "markdown",
   "metadata": {},
   "source": [
    "### Calling functions on the handles and saving the returned data into csv files\n"
   ]
  },
  {
   "cell_type": "code",
   "execution_count": null,
   "metadata": {},
   "outputs": [],
   "source": [
    "data = get_user_details(presidents)"
   ]
  },
  {
   "cell_type": "code",
   "execution_count": 53,
   "metadata": {},
   "outputs": [],
   "source": [
    "data.to_csv('Details_of_presidents.csv', index=False)"
   ]
  },
  {
   "cell_type": "code",
   "execution_count": 48,
   "metadata": {},
   "outputs": [],
   "source": [
    "influencers = get_user_details(influencers_handles)"
   ]
  },
  {
   "cell_type": "code",
   "execution_count": 52,
   "metadata": {},
   "outputs": [],
   "source": [
    "influencers.to_csv('Details_of_influencers.csv', index=False)"
   ]
  },
  {
   "cell_type": "code",
   "execution_count": 10,
   "metadata": {},
   "outputs": [],
   "source": [
    "presidents_tweets = get_user_tweets(presidents)"
   ]
  },
  {
   "cell_type": "code",
   "execution_count": 12,
   "metadata": {},
   "outputs": [],
   "source": [
    "presidents_tweets.to_csv('tweets_of_presidents_one_year.csv', index=False)"
   ]
  },
  {
   "cell_type": "code",
   "execution_count": 13,
   "metadata": {},
   "outputs": [],
   "source": [
    "influencers_tweets = get_user_tweets(influencers_handles)"
   ]
  },
  {
   "cell_type": "code",
   "execution_count": 16,
   "metadata": {},
   "outputs": [],
   "source": [
    "influencers_tweets.to_csv('tweets_of_influencers_one_year.csv', index=False)"
   ]
  },
  {
   "cell_type": "code",
   "execution_count": null,
   "metadata": {},
   "outputs": [],
   "source": []
  }
 ],
 "metadata": {
  "kernelspec": {
   "display_name": "Python 3",
   "language": "python",
   "name": "python3"
  },
  "language_info": {
   "codemirror_mode": {
    "name": "ipython",
    "version": 3
   },
   "file_extension": ".py",
   "mimetype": "text/x-python",
   "name": "python",
   "nbconvert_exporter": "python",
   "pygments_lexer": "ipython3",
   "version": "3.7.3"
  }
 },
 "nbformat": 4,
 "nbformat_minor": 2
}
