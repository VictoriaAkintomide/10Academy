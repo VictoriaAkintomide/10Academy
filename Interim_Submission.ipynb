{
  "nbformat": 4,
  "nbformat_minor": 0,
  "metadata": {
    "colab": {
      "name": "Interim Submission.ipynb",
      "provenance": [],
      "authorship_tag": "ABX9TyNBHDu/lotHw/fCGVAuu8dX",
      "include_colab_link": true
    },
    "kernelspec": {
      "name": "python3",
      "display_name": "Python 3"
    }
  },
  "cells": [
    {
      "cell_type": "markdown",
      "metadata": {
        "id": "view-in-github",
        "colab_type": "text"
      },
      "source": [
        "<a href=\"https://colab.research.google.com/github/VictoriaAkintomide/10Academy/blob/master/Interim_Submission.ipynb\" target=\"_parent\"><img src=\"https://colab.research.google.com/assets/colab-badge.svg\" alt=\"Open In Colab\"/></a>"
      ]
    },
    {
      "cell_type": "code",
      "metadata": {
        "id": "-77i3hMta5-3",
        "colab_type": "code",
        "colab": {}
      },
      "source": [
        "import pandas as pd\n",
        "import numpy as np\n",
        "import matplotlib.pyplot as plt\n",
        "import seaborn as sns\n",
        "import io\n",
        "%matplotlib inline\n",
        "pd.options.display.float_format = '{:20,.2f}'.format"
      ],
      "execution_count": 13,
      "outputs": []
    },
    {
      "cell_type": "code",
      "metadata": {
        "id": "xS4ZJQ9_rD-u",
        "colab_type": "code",
        "colab": {
          "resources": {
            "http://localhost:8080/nbextensions/google.colab/files.js": {
              "data": "Ly8gQ29weXJpZ2h0IDIwMTcgR29vZ2xlIExMQwovLwovLyBMaWNlbnNlZCB1bmRlciB0aGUgQXBhY2hlIExpY2Vuc2UsIFZlcnNpb24gMi4wICh0aGUgIkxpY2Vuc2UiKTsKLy8geW91IG1heSBub3QgdXNlIHRoaXMgZmlsZSBleGNlcHQgaW4gY29tcGxpYW5jZSB3aXRoIHRoZSBMaWNlbnNlLgovLyBZb3UgbWF5IG9idGFpbiBhIGNvcHkgb2YgdGhlIExpY2Vuc2UgYXQKLy8KLy8gICAgICBodHRwOi8vd3d3LmFwYWNoZS5vcmcvbGljZW5zZXMvTElDRU5TRS0yLjAKLy8KLy8gVW5sZXNzIHJlcXVpcmVkIGJ5IGFwcGxpY2FibGUgbGF3IG9yIGFncmVlZCB0byBpbiB3cml0aW5nLCBzb2Z0d2FyZQovLyBkaXN0cmlidXRlZCB1bmRlciB0aGUgTGljZW5zZSBpcyBkaXN0cmlidXRlZCBvbiBhbiAiQVMgSVMiIEJBU0lTLAovLyBXSVRIT1VUIFdBUlJBTlRJRVMgT1IgQ09ORElUSU9OUyBPRiBBTlkgS0lORCwgZWl0aGVyIGV4cHJlc3Mgb3IgaW1wbGllZC4KLy8gU2VlIHRoZSBMaWNlbnNlIGZvciB0aGUgc3BlY2lmaWMgbGFuZ3VhZ2UgZ292ZXJuaW5nIHBlcm1pc3Npb25zIGFuZAovLyBsaW1pdGF0aW9ucyB1bmRlciB0aGUgTGljZW5zZS4KCi8qKgogKiBAZmlsZW92ZXJ2aWV3IEhlbHBlcnMgZm9yIGdvb2dsZS5jb2xhYiBQeXRob24gbW9kdWxlLgogKi8KKGZ1bmN0aW9uKHNjb3BlKSB7CmZ1bmN0aW9uIHNwYW4odGV4dCwgc3R5bGVBdHRyaWJ1dGVzID0ge30pIHsKICBjb25zdCBlbGVtZW50ID0gZG9jdW1lbnQuY3JlYXRlRWxlbWVudCgnc3BhbicpOwogIGVsZW1lbnQudGV4dENvbnRlbnQgPSB0ZXh0OwogIGZvciAoY29uc3Qga2V5IG9mIE9iamVjdC5rZXlzKHN0eWxlQXR0cmlidXRlcykpIHsKICAgIGVsZW1lbnQuc3R5bGVba2V5XSA9IHN0eWxlQXR0cmlidXRlc1trZXldOwogIH0KICByZXR1cm4gZWxlbWVudDsKfQoKLy8gTWF4IG51bWJlciBvZiBieXRlcyB3aGljaCB3aWxsIGJlIHVwbG9hZGVkIGF0IGEgdGltZS4KY29uc3QgTUFYX1BBWUxPQURfU0laRSA9IDEwMCAqIDEwMjQ7CgpmdW5jdGlvbiBfdXBsb2FkRmlsZXMoaW5wdXRJZCwgb3V0cHV0SWQpIHsKICBjb25zdCBzdGVwcyA9IHVwbG9hZEZpbGVzU3RlcChpbnB1dElkLCBvdXRwdXRJZCk7CiAgY29uc3Qgb3V0cHV0RWxlbWVudCA9IGRvY3VtZW50LmdldEVsZW1lbnRCeUlkKG91dHB1dElkKTsKICAvLyBDYWNoZSBzdGVwcyBvbiB0aGUgb3V0cHV0RWxlbWVudCB0byBtYWtlIGl0IGF2YWlsYWJsZSBmb3IgdGhlIG5leHQgY2FsbAogIC8vIHRvIHVwbG9hZEZpbGVzQ29udGludWUgZnJvbSBQeXRob24uCiAgb3V0cHV0RWxlbWVudC5zdGVwcyA9IHN0ZXBzOwoKICByZXR1cm4gX3VwbG9hZEZpbGVzQ29udGludWUob3V0cHV0SWQpOwp9CgovLyBUaGlzIGlzIHJvdWdobHkgYW4gYXN5bmMgZ2VuZXJhdG9yIChub3Qgc3VwcG9ydGVkIGluIHRoZSBicm93c2VyIHlldCksCi8vIHdoZXJlIHRoZXJlIGFyZSBtdWx0aXBsZSBhc3luY2hyb25vdXMgc3RlcHMgYW5kIHRoZSBQeXRob24gc2lkZSBpcyBnb2luZwovLyB0byBwb2xsIGZvciBjb21wbGV0aW9uIG9mIGVhY2ggc3RlcC4KLy8gVGhpcyB1c2VzIGEgUHJvbWlzZSB0byBibG9jayB0aGUgcHl0aG9uIHNpZGUgb24gY29tcGxldGlvbiBvZiBlYWNoIHN0ZXAsCi8vIHRoZW4gcGFzc2VzIHRoZSByZXN1bHQgb2YgdGhlIHByZXZpb3VzIHN0ZXAgYXMgdGhlIGlucHV0IHRvIHRoZSBuZXh0IHN0ZXAuCmZ1bmN0aW9uIF91cGxvYWRGaWxlc0NvbnRpbnVlKG91dHB1dElkKSB7CiAgY29uc3Qgb3V0cHV0RWxlbWVudCA9IGRvY3VtZW50LmdldEVsZW1lbnRCeUlkKG91dHB1dElkKTsKICBjb25zdCBzdGVwcyA9IG91dHB1dEVsZW1lbnQuc3RlcHM7CgogIGNvbnN0IG5leHQgPSBzdGVwcy5uZXh0KG91dHB1dEVsZW1lbnQubGFzdFByb21pc2VWYWx1ZSk7CiAgcmV0dXJuIFByb21pc2UucmVzb2x2ZShuZXh0LnZhbHVlLnByb21pc2UpLnRoZW4oKHZhbHVlKSA9PiB7CiAgICAvLyBDYWNoZSB0aGUgbGFzdCBwcm9taXNlIHZhbHVlIHRvIG1ha2UgaXQgYXZhaWxhYmxlIHRvIHRoZSBuZXh0CiAgICAvLyBzdGVwIG9mIHRoZSBnZW5lcmF0b3IuCiAgICBvdXRwdXRFbGVtZW50Lmxhc3RQcm9taXNlVmFsdWUgPSB2YWx1ZTsKICAgIHJldHVybiBuZXh0LnZhbHVlLnJlc3BvbnNlOwogIH0pOwp9CgovKioKICogR2VuZXJhdG9yIGZ1bmN0aW9uIHdoaWNoIGlzIGNhbGxlZCBiZXR3ZWVuIGVhY2ggYXN5bmMgc3RlcCBvZiB0aGUgdXBsb2FkCiAqIHByb2Nlc3MuCiAqIEBwYXJhbSB7c3RyaW5nfSBpbnB1dElkIEVsZW1lbnQgSUQgb2YgdGhlIGlucHV0IGZpbGUgcGlja2VyIGVsZW1lbnQuCiAqIEBwYXJhbSB7c3RyaW5nfSBvdXRwdXRJZCBFbGVtZW50IElEIG9mIHRoZSBvdXRwdXQgZGlzcGxheS4KICogQHJldHVybiB7IUl0ZXJhYmxlPCFPYmplY3Q+fSBJdGVyYWJsZSBvZiBuZXh0IHN0ZXBzLgogKi8KZnVuY3Rpb24qIHVwbG9hZEZpbGVzU3RlcChpbnB1dElkLCBvdXRwdXRJZCkgewogIGNvbnN0IGlucHV0RWxlbWVudCA9IGRvY3VtZW50LmdldEVsZW1lbnRCeUlkKGlucHV0SWQpOwogIGlucHV0RWxlbWVudC5kaXNhYmxlZCA9IGZhbHNlOwoKICBjb25zdCBvdXRwdXRFbGVtZW50ID0gZG9jdW1lbnQuZ2V0RWxlbWVudEJ5SWQob3V0cHV0SWQpOwogIG91dHB1dEVsZW1lbnQuaW5uZXJIVE1MID0gJyc7CgogIGNvbnN0IHBpY2tlZFByb21pc2UgPSBuZXcgUHJvbWlzZSgocmVzb2x2ZSkgPT4gewogICAgaW5wdXRFbGVtZW50LmFkZEV2ZW50TGlzdGVuZXIoJ2NoYW5nZScsIChlKSA9PiB7CiAgICAgIHJlc29sdmUoZS50YXJnZXQuZmlsZXMpOwogICAgfSk7CiAgfSk7CgogIGNvbnN0IGNhbmNlbCA9IGRvY3VtZW50LmNyZWF0ZUVsZW1lbnQoJ2J1dHRvbicpOwogIGlucHV0RWxlbWVudC5wYXJlbnRFbGVtZW50LmFwcGVuZENoaWxkKGNhbmNlbCk7CiAgY2FuY2VsLnRleHRDb250ZW50ID0gJ0NhbmNlbCB1cGxvYWQnOwogIGNvbnN0IGNhbmNlbFByb21pc2UgPSBuZXcgUHJvbWlzZSgocmVzb2x2ZSkgPT4gewogICAgY2FuY2VsLm9uY2xpY2sgPSAoKSA9PiB7CiAgICAgIHJlc29sdmUobnVsbCk7CiAgICB9OwogIH0pOwoKICAvLyBXYWl0IGZvciB0aGUgdXNlciB0byBwaWNrIHRoZSBmaWxlcy4KICBjb25zdCBmaWxlcyA9IHlpZWxkIHsKICAgIHByb21pc2U6IFByb21pc2UucmFjZShbcGlja2VkUHJvbWlzZSwgY2FuY2VsUHJvbWlzZV0pLAogICAgcmVzcG9uc2U6IHsKICAgICAgYWN0aW9uOiAnc3RhcnRpbmcnLAogICAgfQogIH07CgogIGNhbmNlbC5yZW1vdmUoKTsKCiAgLy8gRGlzYWJsZSB0aGUgaW5wdXQgZWxlbWVudCBzaW5jZSBmdXJ0aGVyIHBpY2tzIGFyZSBub3QgYWxsb3dlZC4KICBpbnB1dEVsZW1lbnQuZGlzYWJsZWQgPSB0cnVlOwoKICBpZiAoIWZpbGVzKSB7CiAgICByZXR1cm4gewogICAgICByZXNwb25zZTogewogICAgICAgIGFjdGlvbjogJ2NvbXBsZXRlJywKICAgICAgfQogICAgfTsKICB9CgogIGZvciAoY29uc3QgZmlsZSBvZiBmaWxlcykgewogICAgY29uc3QgbGkgPSBkb2N1bWVudC5jcmVhdGVFbGVtZW50KCdsaScpOwogICAgbGkuYXBwZW5kKHNwYW4oZmlsZS5uYW1lLCB7Zm9udFdlaWdodDogJ2JvbGQnfSkpOwogICAgbGkuYXBwZW5kKHNwYW4oCiAgICAgICAgYCgke2ZpbGUudHlwZSB8fCAnbi9hJ30pIC0gJHtmaWxlLnNpemV9IGJ5dGVzLCBgICsKICAgICAgICBgbGFzdCBtb2RpZmllZDogJHsKICAgICAgICAgICAgZmlsZS5sYXN0TW9kaWZpZWREYXRlID8gZmlsZS5sYXN0TW9kaWZpZWREYXRlLnRvTG9jYWxlRGF0ZVN0cmluZygpIDoKICAgICAgICAgICAgICAgICAgICAgICAgICAgICAgICAgICAgJ24vYSd9IC0gYCkpOwogICAgY29uc3QgcGVyY2VudCA9IHNwYW4oJzAlIGRvbmUnKTsKICAgIGxpLmFwcGVuZENoaWxkKHBlcmNlbnQpOwoKICAgIG91dHB1dEVsZW1lbnQuYXBwZW5kQ2hpbGQobGkpOwoKICAgIGNvbnN0IGZpbGVEYXRhUHJvbWlzZSA9IG5ldyBQcm9taXNlKChyZXNvbHZlKSA9PiB7CiAgICAgIGNvbnN0IHJlYWRlciA9IG5ldyBGaWxlUmVhZGVyKCk7CiAgICAgIHJlYWRlci5vbmxvYWQgPSAoZSkgPT4gewogICAgICAgIHJlc29sdmUoZS50YXJnZXQucmVzdWx0KTsKICAgICAgfTsKICAgICAgcmVhZGVyLnJlYWRBc0FycmF5QnVmZmVyKGZpbGUpOwogICAgfSk7CiAgICAvLyBXYWl0IGZvciB0aGUgZGF0YSB0byBiZSByZWFkeS4KICAgIGxldCBmaWxlRGF0YSA9IHlpZWxkIHsKICAgICAgcHJvbWlzZTogZmlsZURhdGFQcm9taXNlLAogICAgICByZXNwb25zZTogewogICAgICAgIGFjdGlvbjogJ2NvbnRpbnVlJywKICAgICAgfQogICAgfTsKCiAgICAvLyBVc2UgYSBjaHVua2VkIHNlbmRpbmcgdG8gYXZvaWQgbWVzc2FnZSBzaXplIGxpbWl0cy4gU2VlIGIvNjIxMTU2NjAuCiAgICBsZXQgcG9zaXRpb24gPSAwOwogICAgd2hpbGUgKHBvc2l0aW9uIDwgZmlsZURhdGEuYnl0ZUxlbmd0aCkgewogICAgICBjb25zdCBsZW5ndGggPSBNYXRoLm1pbihmaWxlRGF0YS5ieXRlTGVuZ3RoIC0gcG9zaXRpb24sIE1BWF9QQVlMT0FEX1NJWkUpOwogICAgICBjb25zdCBjaHVuayA9IG5ldyBVaW50OEFycmF5KGZpbGVEYXRhLCBwb3NpdGlvbiwgbGVuZ3RoKTsKICAgICAgcG9zaXRpb24gKz0gbGVuZ3RoOwoKICAgICAgY29uc3QgYmFzZTY0ID0gYnRvYShTdHJpbmcuZnJvbUNoYXJDb2RlLmFwcGx5KG51bGwsIGNodW5rKSk7CiAgICAgIHlpZWxkIHsKICAgICAgICByZXNwb25zZTogewogICAgICAgICAgYWN0aW9uOiAnYXBwZW5kJywKICAgICAgICAgIGZpbGU6IGZpbGUubmFtZSwKICAgICAgICAgIGRhdGE6IGJhc2U2NCwKICAgICAgICB9LAogICAgICB9OwogICAgICBwZXJjZW50LnRleHRDb250ZW50ID0KICAgICAgICAgIGAke01hdGgucm91bmQoKHBvc2l0aW9uIC8gZmlsZURhdGEuYnl0ZUxlbmd0aCkgKiAxMDApfSUgZG9uZWA7CiAgICB9CiAgfQoKICAvLyBBbGwgZG9uZS4KICB5aWVsZCB7CiAgICByZXNwb25zZTogewogICAgICBhY3Rpb246ICdjb21wbGV0ZScsCiAgICB9CiAgfTsKfQoKc2NvcGUuZ29vZ2xlID0gc2NvcGUuZ29vZ2xlIHx8IHt9OwpzY29wZS5nb29nbGUuY29sYWIgPSBzY29wZS5nb29nbGUuY29sYWIgfHwge307CnNjb3BlLmdvb2dsZS5jb2xhYi5fZmlsZXMgPSB7CiAgX3VwbG9hZEZpbGVzLAogIF91cGxvYWRGaWxlc0NvbnRpbnVlLAp9Owp9KShzZWxmKTsK",
              "ok": true,
              "headers": [
                [
                  "content-type",
                  "application/javascript"
                ]
              ],
              "status": 200,
              "status_text": ""
            }
          },
          "base_uri": "https://localhost:8080/",
          "height": 72
        },
        "outputId": "a490d146-5fcb-4761-aa2b-ae029f426687"
      },
      "source": [
        "from google.colab import files\n",
        "uploaded = files.upload()\n"
      ],
      "execution_count": 1,
      "outputs": [
        {
          "output_type": "display_data",
          "data": {
            "text/html": [
              "\n",
              "     <input type=\"file\" id=\"files-9b3be338-0c95-4514-bf3b-982ac284b2c3\" name=\"files[]\" multiple disabled\n",
              "        style=\"border:none\" />\n",
              "     <output id=\"result-9b3be338-0c95-4514-bf3b-982ac284b2c3\">\n",
              "      Upload widget is only available when the cell has been executed in the\n",
              "      current browser session. Please rerun this cell to enable.\n",
              "      </output>\n",
              "      <script src=\"/nbextensions/google.colab/files.js\"></script> "
            ],
            "text/plain": [
              "<IPython.core.display.HTML object>"
            ]
          },
          "metadata": {
            "tags": []
          }
        },
        {
          "output_type": "stream",
          "text": [
            "Saving cleaned_data.csv to cleaned_data.csv\n"
          ],
          "name": "stdout"
        }
      ]
    },
    {
      "cell_type": "code",
      "metadata": {
        "id": "8ixT_sKmn-65",
        "colab_type": "code",
        "colab": {
          "base_uri": "https://localhost:8080/",
          "height": 564
        },
        "outputId": "2f9192a1-0991-4c6e-d32b-0557998d3f77"
      },
      "source": [
        "data = pd.read_csv(io.BytesIO(uploaded['cleaned_data.csv']))\n",
        "data.head()"
      ],
      "execution_count": 4,
      "outputs": [
        {
          "output_type": "stream",
          "text": [
            "/usr/local/lib/python3.6/dist-packages/IPython/core/interactiveshell.py:2718: DtypeWarning: Columns (1) have mixed types.Specify dtype option on import or set low_memory=False.\n",
            "  interactivity=interactivity, compiler=compiler, result=result)\n"
          ],
          "name": "stderr"
        },
        {
          "output_type": "execute_result",
          "data": {
            "text/html": [
              "<div>\n",
              "<style scoped>\n",
              "    .dataframe tbody tr th:only-of-type {\n",
              "        vertical-align: middle;\n",
              "    }\n",
              "\n",
              "    .dataframe tbody tr th {\n",
              "        vertical-align: top;\n",
              "    }\n",
              "\n",
              "    .dataframe thead th {\n",
              "        text-align: right;\n",
              "    }\n",
              "</style>\n",
              "<table border=\"1\" class=\"dataframe\">\n",
              "  <thead>\n",
              "    <tr style=\"text-align: right;\">\n",
              "      <th></th>\n",
              "      <th>Unnamed: 0</th>\n",
              "      <th>Bearer Id</th>\n",
              "      <th>Start</th>\n",
              "      <th>Start ms</th>\n",
              "      <th>End</th>\n",
              "      <th>End ms</th>\n",
              "      <th>Dur. (ms)</th>\n",
              "      <th>IMSI</th>\n",
              "      <th>MSISDN/Number</th>\n",
              "      <th>IMEI</th>\n",
              "      <th>Last Location Name</th>\n",
              "      <th>Avg RTT DL (ms)</th>\n",
              "      <th>Avg RTT UL (ms)</th>\n",
              "      <th>Avg Bearer TP DL (kbps)</th>\n",
              "      <th>Avg Bearer TP UL (kbps)</th>\n",
              "      <th>TCP DL Retrans. Vol (Bytes)</th>\n",
              "      <th>TCP UL Retrans. Vol (Bytes)</th>\n",
              "      <th>DL TP &lt; 50 Kbps (%)</th>\n",
              "      <th>50 Kbps &lt; DL TP &lt; 250 Kbps (%)</th>\n",
              "      <th>250 Kbps &lt; DL TP &lt; 1 Mbps (%)</th>\n",
              "      <th>DL TP &gt; 1 Mbps (%)</th>\n",
              "      <th>UL TP &lt; 10 Kbps (%)</th>\n",
              "      <th>10 Kbps &lt; UL TP &lt; 50 Kbps (%)</th>\n",
              "      <th>50 Kbps &lt; UL TP &lt; 300 Kbps (%)</th>\n",
              "      <th>UL TP &gt; 300 Kbps (%)</th>\n",
              "      <th>HTTP DL (Bytes)</th>\n",
              "      <th>HTTP UL (Bytes)</th>\n",
              "      <th>Activity Duration DL (ms)</th>\n",
              "      <th>Activity Duration UL (ms)</th>\n",
              "      <th>Dur. (ms).1</th>\n",
              "      <th>Handset Manufacturer</th>\n",
              "      <th>Handset Type</th>\n",
              "      <th>Nb of sec with 125000B &lt; Vol DL</th>\n",
              "      <th>Nb of sec with 1250B &lt; Vol UL &lt; 6250B</th>\n",
              "      <th>Nb of sec with 31250B &lt; Vol DL &lt; 125000B</th>\n",
              "      <th>Nb of sec with 37500B &lt; Vol UL</th>\n",
              "      <th>Nb of sec with 6250B &lt; Vol DL &lt; 31250B</th>\n",
              "      <th>Nb of sec with 6250B &lt; Vol UL &lt; 37500B</th>\n",
              "      <th>Nb of sec with Vol DL &lt; 6250B</th>\n",
              "      <th>Nb of sec with Vol UL &lt; 1250B</th>\n",
              "      <th>Social Media DL (Bytes)</th>\n",
              "      <th>Social Media UL (Bytes)</th>\n",
              "      <th>Google DL (Bytes)</th>\n",
              "      <th>Google UL (Bytes)</th>\n",
              "      <th>Email DL (Bytes)</th>\n",
              "      <th>Email UL (Bytes)</th>\n",
              "      <th>Youtube DL (Bytes)</th>\n",
              "      <th>Youtube UL (Bytes)</th>\n",
              "      <th>Netflix DL (Bytes)</th>\n",
              "      <th>Netflix UL (Bytes)</th>\n",
              "      <th>Gaming DL (Bytes)</th>\n",
              "      <th>Gaming UL (Bytes)</th>\n",
              "      <th>Other DL (Bytes)</th>\n",
              "      <th>Other UL (Bytes)</th>\n",
              "      <th>Total UL (Bytes)</th>\n",
              "      <th>Total DL (Bytes)</th>\n",
              "      <th>Total_Data_Social_Media_Bytes</th>\n",
              "      <th>Total_Data_Google_Bytes</th>\n",
              "      <th>Total_Data_Email_Bytes</th>\n",
              "      <th>Total_Data_Youtube_Bytes</th>\n",
              "      <th>Total_Data_Netflix_Bytes</th>\n",
              "      <th>Total_Data_Gaming_Bytes</th>\n",
              "      <th>Total_Data_Other_Bytes</th>\n",
              "      <th>Total_UL_DL_Bytes</th>\n",
              "    </tr>\n",
              "  </thead>\n",
              "  <tbody>\n",
              "    <tr>\n",
              "      <th>0</th>\n",
              "      <td>0</td>\n",
              "      <td>13114483460844900352</td>\n",
              "      <td>2019-04-04 12:01:18</td>\n",
              "      <td>770.00000</td>\n",
              "      <td>2019-04-25 14:35:31</td>\n",
              "      <td>662.00000</td>\n",
              "      <td>1,823,652.00000</td>\n",
              "      <td>208,201,448,079,117.00000</td>\n",
              "      <td>33,664,962,239.00000</td>\n",
              "      <td>35,521,209,507,511.00000</td>\n",
              "      <td>9164566995485190</td>\n",
              "      <td>42.00000</td>\n",
              "      <td>5.00000</td>\n",
              "      <td>23.00000</td>\n",
              "      <td>44.00000</td>\n",
              "      <td>nan</td>\n",
              "      <td>nan</td>\n",
              "      <td>100.00000</td>\n",
              "      <td>0.00000</td>\n",
              "      <td>0.00000</td>\n",
              "      <td>0.00000</td>\n",
              "      <td>100.00000</td>\n",
              "      <td>0.00000</td>\n",
              "      <td>0.00000</td>\n",
              "      <td>0.00000</td>\n",
              "      <td>nan</td>\n",
              "      <td>nan</td>\n",
              "      <td>37,624.00000</td>\n",
              "      <td>38,787.00000</td>\n",
              "      <td>1,823,652,892.00000</td>\n",
              "      <td>Samsung</td>\n",
              "      <td>Samsung Galaxy A5 Sm-A520F</td>\n",
              "      <td>nan</td>\n",
              "      <td>nan</td>\n",
              "      <td>nan</td>\n",
              "      <td>nan</td>\n",
              "      <td>nan</td>\n",
              "      <td>nan</td>\n",
              "      <td>213.00000</td>\n",
              "      <td>214.00000</td>\n",
              "      <td>1,545,765.00000</td>\n",
              "      <td>24,420.00000</td>\n",
              "      <td>1,634,479.00000</td>\n",
              "      <td>1,271,433.00000</td>\n",
              "      <td>3,563,542.00000</td>\n",
              "      <td>137,762.00000</td>\n",
              "      <td>15,854,611.00000</td>\n",
              "      <td>2,501,332.00000</td>\n",
              "      <td>8,198,936.00000</td>\n",
              "      <td>9,656,251.00000</td>\n",
              "      <td>278,082,303.00000</td>\n",
              "      <td>14,344,150.00000</td>\n",
              "      <td>171,744,450.00000</td>\n",
              "      <td>8,814,393.00000</td>\n",
              "      <td>36,749,741.00000</td>\n",
              "      <td>308,879,636.00000</td>\n",
              "      <td>1,570,185.00000</td>\n",
              "      <td>2,905,912.00000</td>\n",
              "      <td>3,701,304.00000</td>\n",
              "      <td>18,355,943.00000</td>\n",
              "      <td>17,855,187.00000</td>\n",
              "      <td>292,426,453.00000</td>\n",
              "      <td>180,558,843.00000</td>\n",
              "      <td>345,629,377.00000</td>\n",
              "    </tr>\n",
              "    <tr>\n",
              "      <th>1</th>\n",
              "      <td>1</td>\n",
              "      <td>13114483482878900224</td>\n",
              "      <td>2019-04-09 13:04:04</td>\n",
              "      <td>235.00000</td>\n",
              "      <td>2019-04-25 08:15:48</td>\n",
              "      <td>606.00000</td>\n",
              "      <td>1,365,104.00000</td>\n",
              "      <td>208,201,909,211,140.00000</td>\n",
              "      <td>33,681,854,413.00000</td>\n",
              "      <td>35,794,009,006,359.00000</td>\n",
              "      <td>L77566A</td>\n",
              "      <td>65.00000</td>\n",
              "      <td>5.00000</td>\n",
              "      <td>16.00000</td>\n",
              "      <td>26.00000</td>\n",
              "      <td>nan</td>\n",
              "      <td>nan</td>\n",
              "      <td>100.00000</td>\n",
              "      <td>0.00000</td>\n",
              "      <td>0.00000</td>\n",
              "      <td>0.00000</td>\n",
              "      <td>100.00000</td>\n",
              "      <td>0.00000</td>\n",
              "      <td>0.00000</td>\n",
              "      <td>0.00000</td>\n",
              "      <td>nan</td>\n",
              "      <td>nan</td>\n",
              "      <td>168.00000</td>\n",
              "      <td>3,560.00000</td>\n",
              "      <td>1,365,104,371.00000</td>\n",
              "      <td>Samsung</td>\n",
              "      <td>Samsung Galaxy J5 (Sm-J530)</td>\n",
              "      <td>nan</td>\n",
              "      <td>nan</td>\n",
              "      <td>nan</td>\n",
              "      <td>nan</td>\n",
              "      <td>nan</td>\n",
              "      <td>nan</td>\n",
              "      <td>971.00000</td>\n",
              "      <td>1,022.00000</td>\n",
              "      <td>1,926,113.00000</td>\n",
              "      <td>7,165.00000</td>\n",
              "      <td>3,493,924.00000</td>\n",
              "      <td>920,172.00000</td>\n",
              "      <td>629,046.00000</td>\n",
              "      <td>308,339.00000</td>\n",
              "      <td>20,247,395.00000</td>\n",
              "      <td>19,111,729.00000</td>\n",
              "      <td>18,338,413.00000</td>\n",
              "      <td>17,227,132.00000</td>\n",
              "      <td>608,750,074.00000</td>\n",
              "      <td>1,170,709.00000</td>\n",
              "      <td>526,904,238.00000</td>\n",
              "      <td>15,055,145.00000</td>\n",
              "      <td>53,800,391.00000</td>\n",
              "      <td>653,384,965.00000</td>\n",
              "      <td>1,933,278.00000</td>\n",
              "      <td>4,414,096.00000</td>\n",
              "      <td>937,385.00000</td>\n",
              "      <td>39,359,124.00000</td>\n",
              "      <td>35,565,545.00000</td>\n",
              "      <td>609,920,783.00000</td>\n",
              "      <td>541,959,383.00000</td>\n",
              "      <td>707,185,356.00000</td>\n",
              "    </tr>\n",
              "    <tr>\n",
              "      <th>2</th>\n",
              "      <td>2</td>\n",
              "      <td>13114483484080500736</td>\n",
              "      <td>2019-04-09 17:42:11</td>\n",
              "      <td>1.00000</td>\n",
              "      <td>2019-04-25 11:58:13</td>\n",
              "      <td>652.00000</td>\n",
              "      <td>1,361,762.00000</td>\n",
              "      <td>208,200,314,458,056.00000</td>\n",
              "      <td>33,760,627,129.00000</td>\n",
              "      <td>35,281,510,359,387.00000</td>\n",
              "      <td>D42335A</td>\n",
              "      <td>nan</td>\n",
              "      <td>nan</td>\n",
              "      <td>6.00000</td>\n",
              "      <td>9.00000</td>\n",
              "      <td>nan</td>\n",
              "      <td>nan</td>\n",
              "      <td>100.00000</td>\n",
              "      <td>0.00000</td>\n",
              "      <td>0.00000</td>\n",
              "      <td>0.00000</td>\n",
              "      <td>100.00000</td>\n",
              "      <td>0.00000</td>\n",
              "      <td>0.00000</td>\n",
              "      <td>0.00000</td>\n",
              "      <td>nan</td>\n",
              "      <td>nan</td>\n",
              "      <td>0.00000</td>\n",
              "      <td>0.00000</td>\n",
              "      <td>1,361,762,651.00000</td>\n",
              "      <td>Samsung</td>\n",
              "      <td>Samsung Galaxy A8 (2018)</td>\n",
              "      <td>nan</td>\n",
              "      <td>nan</td>\n",
              "      <td>nan</td>\n",
              "      <td>nan</td>\n",
              "      <td>nan</td>\n",
              "      <td>nan</td>\n",
              "      <td>751.00000</td>\n",
              "      <td>695.00000</td>\n",
              "      <td>1,684,053.00000</td>\n",
              "      <td>42,224.00000</td>\n",
              "      <td>8,535,055.00000</td>\n",
              "      <td>1,694,064.00000</td>\n",
              "      <td>2,690,151.00000</td>\n",
              "      <td>672,973.00000</td>\n",
              "      <td>19,725,661.00000</td>\n",
              "      <td>14,699,576.00000</td>\n",
              "      <td>17,587,794.00000</td>\n",
              "      <td>6,163,408.00000</td>\n",
              "      <td>229,584,621.00000</td>\n",
              "      <td>395,630.00000</td>\n",
              "      <td>410,692,588.00000</td>\n",
              "      <td>4,215,763.00000</td>\n",
              "      <td>27,883,638.00000</td>\n",
              "      <td>279,807,335.00000</td>\n",
              "      <td>1,726,277.00000</td>\n",
              "      <td>10,229,119.00000</td>\n",
              "      <td>3,363,124.00000</td>\n",
              "      <td>34,425,237.00000</td>\n",
              "      <td>23,751,202.00000</td>\n",
              "      <td>229,980,251.00000</td>\n",
              "      <td>414,908,351.00000</td>\n",
              "      <td>307,690,973.00000</td>\n",
              "    </tr>\n",
              "    <tr>\n",
              "      <th>3</th>\n",
              "      <td>3</td>\n",
              "      <td>13114483485442799616</td>\n",
              "      <td>2019-04-10 00:31:25</td>\n",
              "      <td>486.00000</td>\n",
              "      <td>2019-04-25 07:36:35</td>\n",
              "      <td>171.00000</td>\n",
              "      <td>1,321,509.00000</td>\n",
              "      <td>208,201,402,342,131.00000</td>\n",
              "      <td>33,750,343,200.00000</td>\n",
              "      <td>35,356,610,164,913.00000</td>\n",
              "      <td>T21824A</td>\n",
              "      <td>nan</td>\n",
              "      <td>nan</td>\n",
              "      <td>44.00000</td>\n",
              "      <td>44.00000</td>\n",
              "      <td>nan</td>\n",
              "      <td>nan</td>\n",
              "      <td>100.00000</td>\n",
              "      <td>0.00000</td>\n",
              "      <td>0.00000</td>\n",
              "      <td>0.00000</td>\n",
              "      <td>100.00000</td>\n",
              "      <td>0.00000</td>\n",
              "      <td>0.00000</td>\n",
              "      <td>0.00000</td>\n",
              "      <td>nan</td>\n",
              "      <td>nan</td>\n",
              "      <td>3,330.00000</td>\n",
              "      <td>37,882.00000</td>\n",
              "      <td>1,321,509,685.00000</td>\n",
              "      <td>undefined</td>\n",
              "      <td>undefined</td>\n",
              "      <td>nan</td>\n",
              "      <td>nan</td>\n",
              "      <td>nan</td>\n",
              "      <td>nan</td>\n",
              "      <td>nan</td>\n",
              "      <td>nan</td>\n",
              "      <td>17.00000</td>\n",
              "      <td>207.00000</td>\n",
              "      <td>644,121.00000</td>\n",
              "      <td>13,372.00000</td>\n",
              "      <td>9,023,734.00000</td>\n",
              "      <td>2,788,027.00000</td>\n",
              "      <td>1,439,754.00000</td>\n",
              "      <td>631,229.00000</td>\n",
              "      <td>21,388,122.00000</td>\n",
              "      <td>15,146,643.00000</td>\n",
              "      <td>13,994,646.00000</td>\n",
              "      <td>1,097,942.00000</td>\n",
              "      <td>799,538,153.00000</td>\n",
              "      <td>10,849,722.00000</td>\n",
              "      <td>749,039,933.00000</td>\n",
              "      <td>12,797,283.00000</td>\n",
              "      <td>43,324,218.00000</td>\n",
              "      <td>846,028,530.00000</td>\n",
              "      <td>657,493.00000</td>\n",
              "      <td>11,811,761.00000</td>\n",
              "      <td>2,070,983.00000</td>\n",
              "      <td>36,534,765.00000</td>\n",
              "      <td>15,092,588.00000</td>\n",
              "      <td>810,387,875.00000</td>\n",
              "      <td>761,837,216.00000</td>\n",
              "      <td>889,352,748.00000</td>\n",
              "    </tr>\n",
              "    <tr>\n",
              "      <th>4</th>\n",
              "      <td>4</td>\n",
              "      <td>13114483499480700928</td>\n",
              "      <td>2019-04-12 20:10:23</td>\n",
              "      <td>565.00000</td>\n",
              "      <td>2019-04-25 10:40:32</td>\n",
              "      <td>954.00000</td>\n",
              "      <td>1,089,009.00000</td>\n",
              "      <td>208,201,401,415,120.00000</td>\n",
              "      <td>33,699,795,932.00000</td>\n",
              "      <td>35,407,009,745,539.00000</td>\n",
              "      <td>D88865A</td>\n",
              "      <td>nan</td>\n",
              "      <td>nan</td>\n",
              "      <td>6.00000</td>\n",
              "      <td>9.00000</td>\n",
              "      <td>nan</td>\n",
              "      <td>nan</td>\n",
              "      <td>100.00000</td>\n",
              "      <td>0.00000</td>\n",
              "      <td>0.00000</td>\n",
              "      <td>0.00000</td>\n",
              "      <td>100.00000</td>\n",
              "      <td>0.00000</td>\n",
              "      <td>0.00000</td>\n",
              "      <td>0.00000</td>\n",
              "      <td>nan</td>\n",
              "      <td>nan</td>\n",
              "      <td>0.00000</td>\n",
              "      <td>0.00000</td>\n",
              "      <td>1,089,009,389.00000</td>\n",
              "      <td>Samsung</td>\n",
              "      <td>Samsung Sm-G390F</td>\n",
              "      <td>nan</td>\n",
              "      <td>nan</td>\n",
              "      <td>nan</td>\n",
              "      <td>nan</td>\n",
              "      <td>nan</td>\n",
              "      <td>nan</td>\n",
              "      <td>607.00000</td>\n",
              "      <td>604.00000</td>\n",
              "      <td>862,600.00000</td>\n",
              "      <td>50,188.00000</td>\n",
              "      <td>6,248,284.00000</td>\n",
              "      <td>1,500,559.00000</td>\n",
              "      <td>1,936,496.00000</td>\n",
              "      <td>173,853.00000</td>\n",
              "      <td>15,259,380.00000</td>\n",
              "      <td>18,962,873.00000</td>\n",
              "      <td>17,124,581.00000</td>\n",
              "      <td>415,218.00000</td>\n",
              "      <td>527,707,248.00000</td>\n",
              "      <td>3,529,801.00000</td>\n",
              "      <td>550,709,500.00000</td>\n",
              "      <td>13,910,322.00000</td>\n",
              "      <td>38,542,814.00000</td>\n",
              "      <td>569,138,589.00000</td>\n",
              "      <td>912,788.00000</td>\n",
              "      <td>7,748,843.00000</td>\n",
              "      <td>2,110,349.00000</td>\n",
              "      <td>34,222,253.00000</td>\n",
              "      <td>17,539,799.00000</td>\n",
              "      <td>531,237,049.00000</td>\n",
              "      <td>564,619,822.00000</td>\n",
              "      <td>607,681,403.00000</td>\n",
              "    </tr>\n",
              "  </tbody>\n",
              "</table>\n",
              "</div>"
            ],
            "text/plain": [
              "   Unnamed: 0  ...    Total_UL_DL_Bytes\n",
              "0           0  ...    345,629,377.00000\n",
              "1           1  ...    707,185,356.00000\n",
              "2           2  ...    307,690,973.00000\n",
              "3           3  ...    889,352,748.00000\n",
              "4           4  ...    607,681,403.00000\n",
              "\n",
              "[5 rows x 64 columns]"
            ]
          },
          "metadata": {
            "tags": []
          },
          "execution_count": 4
        }
      ]
    },
    {
      "cell_type": "code",
      "metadata": {
        "id": "Y16CKVFgrTlY",
        "colab_type": "code",
        "colab": {
          "base_uri": "https://localhost:8080/",
          "height": 473
        },
        "outputId": "4fcb0410-01d6-47d3-8706-20084d70a797"
      },
      "source": [
        "data.iloc[:,np.r_[1,8,29,40:64]]"
      ],
      "execution_count": 7,
      "outputs": [
        {
          "output_type": "execute_result",
          "data": {
            "text/html": [
              "<div>\n",
              "<style scoped>\n",
              "    .dataframe tbody tr th:only-of-type {\n",
              "        vertical-align: middle;\n",
              "    }\n",
              "\n",
              "    .dataframe tbody tr th {\n",
              "        vertical-align: top;\n",
              "    }\n",
              "\n",
              "    .dataframe thead th {\n",
              "        text-align: right;\n",
              "    }\n",
              "</style>\n",
              "<table border=\"1\" class=\"dataframe\">\n",
              "  <thead>\n",
              "    <tr style=\"text-align: right;\">\n",
              "      <th></th>\n",
              "      <th>Bearer Id</th>\n",
              "      <th>MSISDN/Number</th>\n",
              "      <th>Dur. (ms).1</th>\n",
              "      <th>Social Media DL (Bytes)</th>\n",
              "      <th>Social Media UL (Bytes)</th>\n",
              "      <th>Google DL (Bytes)</th>\n",
              "      <th>Google UL (Bytes)</th>\n",
              "      <th>Email DL (Bytes)</th>\n",
              "      <th>Email UL (Bytes)</th>\n",
              "      <th>Youtube DL (Bytes)</th>\n",
              "      <th>Youtube UL (Bytes)</th>\n",
              "      <th>Netflix DL (Bytes)</th>\n",
              "      <th>Netflix UL (Bytes)</th>\n",
              "      <th>Gaming DL (Bytes)</th>\n",
              "      <th>Gaming UL (Bytes)</th>\n",
              "      <th>Other DL (Bytes)</th>\n",
              "      <th>Other UL (Bytes)</th>\n",
              "      <th>Total UL (Bytes)</th>\n",
              "      <th>Total DL (Bytes)</th>\n",
              "      <th>Total_Data_Social_Media_Bytes</th>\n",
              "      <th>Total_Data_Google_Bytes</th>\n",
              "      <th>Total_Data_Email_Bytes</th>\n",
              "      <th>Total_Data_Youtube_Bytes</th>\n",
              "      <th>Total_Data_Netflix_Bytes</th>\n",
              "      <th>Total_Data_Gaming_Bytes</th>\n",
              "      <th>Total_Data_Other_Bytes</th>\n",
              "      <th>Total_UL_DL_Bytes</th>\n",
              "    </tr>\n",
              "  </thead>\n",
              "  <tbody>\n",
              "    <tr>\n",
              "      <th>0</th>\n",
              "      <td>13114483460844900352</td>\n",
              "      <td>33,664,962,239.00000</td>\n",
              "      <td>1,823,652,892.00000</td>\n",
              "      <td>1,545,765.00000</td>\n",
              "      <td>24,420.00000</td>\n",
              "      <td>1,634,479.00000</td>\n",
              "      <td>1,271,433.00000</td>\n",
              "      <td>3,563,542.00000</td>\n",
              "      <td>137,762.00000</td>\n",
              "      <td>15,854,611.00000</td>\n",
              "      <td>2,501,332.00000</td>\n",
              "      <td>8,198,936.00000</td>\n",
              "      <td>9,656,251.00000</td>\n",
              "      <td>278,082,303.00000</td>\n",
              "      <td>14,344,150.00000</td>\n",
              "      <td>171,744,450.00000</td>\n",
              "      <td>8,814,393.00000</td>\n",
              "      <td>36,749,741.00000</td>\n",
              "      <td>308,879,636.00000</td>\n",
              "      <td>1,570,185.00000</td>\n",
              "      <td>2,905,912.00000</td>\n",
              "      <td>3,701,304.00000</td>\n",
              "      <td>18,355,943.00000</td>\n",
              "      <td>17,855,187.00000</td>\n",
              "      <td>292,426,453.00000</td>\n",
              "      <td>180,558,843.00000</td>\n",
              "      <td>345,629,377.00000</td>\n",
              "    </tr>\n",
              "    <tr>\n",
              "      <th>1</th>\n",
              "      <td>13114483482878900224</td>\n",
              "      <td>33,681,854,413.00000</td>\n",
              "      <td>1,365,104,371.00000</td>\n",
              "      <td>1,926,113.00000</td>\n",
              "      <td>7,165.00000</td>\n",
              "      <td>3,493,924.00000</td>\n",
              "      <td>920,172.00000</td>\n",
              "      <td>629,046.00000</td>\n",
              "      <td>308,339.00000</td>\n",
              "      <td>20,247,395.00000</td>\n",
              "      <td>19,111,729.00000</td>\n",
              "      <td>18,338,413.00000</td>\n",
              "      <td>17,227,132.00000</td>\n",
              "      <td>608,750,074.00000</td>\n",
              "      <td>1,170,709.00000</td>\n",
              "      <td>526,904,238.00000</td>\n",
              "      <td>15,055,145.00000</td>\n",
              "      <td>53,800,391.00000</td>\n",
              "      <td>653,384,965.00000</td>\n",
              "      <td>1,933,278.00000</td>\n",
              "      <td>4,414,096.00000</td>\n",
              "      <td>937,385.00000</td>\n",
              "      <td>39,359,124.00000</td>\n",
              "      <td>35,565,545.00000</td>\n",
              "      <td>609,920,783.00000</td>\n",
              "      <td>541,959,383.00000</td>\n",
              "      <td>707,185,356.00000</td>\n",
              "    </tr>\n",
              "    <tr>\n",
              "      <th>2</th>\n",
              "      <td>13114483484080500736</td>\n",
              "      <td>33,760,627,129.00000</td>\n",
              "      <td>1,361,762,651.00000</td>\n",
              "      <td>1,684,053.00000</td>\n",
              "      <td>42,224.00000</td>\n",
              "      <td>8,535,055.00000</td>\n",
              "      <td>1,694,064.00000</td>\n",
              "      <td>2,690,151.00000</td>\n",
              "      <td>672,973.00000</td>\n",
              "      <td>19,725,661.00000</td>\n",
              "      <td>14,699,576.00000</td>\n",
              "      <td>17,587,794.00000</td>\n",
              "      <td>6,163,408.00000</td>\n",
              "      <td>229,584,621.00000</td>\n",
              "      <td>395,630.00000</td>\n",
              "      <td>410,692,588.00000</td>\n",
              "      <td>4,215,763.00000</td>\n",
              "      <td>27,883,638.00000</td>\n",
              "      <td>279,807,335.00000</td>\n",
              "      <td>1,726,277.00000</td>\n",
              "      <td>10,229,119.00000</td>\n",
              "      <td>3,363,124.00000</td>\n",
              "      <td>34,425,237.00000</td>\n",
              "      <td>23,751,202.00000</td>\n",
              "      <td>229,980,251.00000</td>\n",
              "      <td>414,908,351.00000</td>\n",
              "      <td>307,690,973.00000</td>\n",
              "    </tr>\n",
              "    <tr>\n",
              "      <th>3</th>\n",
              "      <td>13114483485442799616</td>\n",
              "      <td>33,750,343,200.00000</td>\n",
              "      <td>1,321,509,685.00000</td>\n",
              "      <td>644,121.00000</td>\n",
              "      <td>13,372.00000</td>\n",
              "      <td>9,023,734.00000</td>\n",
              "      <td>2,788,027.00000</td>\n",
              "      <td>1,439,754.00000</td>\n",
              "      <td>631,229.00000</td>\n",
              "      <td>21,388,122.00000</td>\n",
              "      <td>15,146,643.00000</td>\n",
              "      <td>13,994,646.00000</td>\n",
              "      <td>1,097,942.00000</td>\n",
              "      <td>799,538,153.00000</td>\n",
              "      <td>10,849,722.00000</td>\n",
              "      <td>749,039,933.00000</td>\n",
              "      <td>12,797,283.00000</td>\n",
              "      <td>43,324,218.00000</td>\n",
              "      <td>846,028,530.00000</td>\n",
              "      <td>657,493.00000</td>\n",
              "      <td>11,811,761.00000</td>\n",
              "      <td>2,070,983.00000</td>\n",
              "      <td>36,534,765.00000</td>\n",
              "      <td>15,092,588.00000</td>\n",
              "      <td>810,387,875.00000</td>\n",
              "      <td>761,837,216.00000</td>\n",
              "      <td>889,352,748.00000</td>\n",
              "    </tr>\n",
              "    <tr>\n",
              "      <th>4</th>\n",
              "      <td>13114483499480700928</td>\n",
              "      <td>33,699,795,932.00000</td>\n",
              "      <td>1,089,009,389.00000</td>\n",
              "      <td>862,600.00000</td>\n",
              "      <td>50,188.00000</td>\n",
              "      <td>6,248,284.00000</td>\n",
              "      <td>1,500,559.00000</td>\n",
              "      <td>1,936,496.00000</td>\n",
              "      <td>173,853.00000</td>\n",
              "      <td>15,259,380.00000</td>\n",
              "      <td>18,962,873.00000</td>\n",
              "      <td>17,124,581.00000</td>\n",
              "      <td>415,218.00000</td>\n",
              "      <td>527,707,248.00000</td>\n",
              "      <td>3,529,801.00000</td>\n",
              "      <td>550,709,500.00000</td>\n",
              "      <td>13,910,322.00000</td>\n",
              "      <td>38,542,814.00000</td>\n",
              "      <td>569,138,589.00000</td>\n",
              "      <td>912,788.00000</td>\n",
              "      <td>7,748,843.00000</td>\n",
              "      <td>2,110,349.00000</td>\n",
              "      <td>34,222,253.00000</td>\n",
              "      <td>17,539,799.00000</td>\n",
              "      <td>531,237,049.00000</td>\n",
              "      <td>564,619,822.00000</td>\n",
              "      <td>607,681,403.00000</td>\n",
              "    </tr>\n",
              "    <tr>\n",
              "      <th>...</th>\n",
              "      <td>...</td>\n",
              "      <td>...</td>\n",
              "      <td>...</td>\n",
              "      <td>...</td>\n",
              "      <td>...</td>\n",
              "      <td>...</td>\n",
              "      <td>...</td>\n",
              "      <td>...</td>\n",
              "      <td>...</td>\n",
              "      <td>...</td>\n",
              "      <td>...</td>\n",
              "      <td>...</td>\n",
              "      <td>...</td>\n",
              "      <td>...</td>\n",
              "      <td>...</td>\n",
              "      <td>...</td>\n",
              "      <td>...</td>\n",
              "      <td>...</td>\n",
              "      <td>...</td>\n",
              "      <td>...</td>\n",
              "      <td>...</td>\n",
              "      <td>...</td>\n",
              "      <td>...</td>\n",
              "      <td>...</td>\n",
              "      <td>...</td>\n",
              "      <td>...</td>\n",
              "      <td>...</td>\n",
              "    </tr>\n",
              "    <tr>\n",
              "      <th>148930</th>\n",
              "      <td>13042425979329300480</td>\n",
              "      <td>33,668,648,496.00000</td>\n",
              "      <td>59,587,792.00000</td>\n",
              "      <td>962,097.00000</td>\n",
              "      <td>31,078.00000</td>\n",
              "      <td>1,139,573.00000</td>\n",
              "      <td>126,061.00000</td>\n",
              "      <td>3,459,965.00000</td>\n",
              "      <td>820,142.00000</td>\n",
              "      <td>6,550,499.00000</td>\n",
              "      <td>18,003,146.00000</td>\n",
              "      <td>22,468,983.00000</td>\n",
              "      <td>7,149,728.00000</td>\n",
              "      <td>784,435,351.00000</td>\n",
              "      <td>12,724,751.00000</td>\n",
              "      <td>321,383,162.00000</td>\n",
              "      <td>14,890,486.00000</td>\n",
              "      <td>53,745,392.00000</td>\n",
              "      <td>819,016,468.00000</td>\n",
              "      <td>993,175.00000</td>\n",
              "      <td>1,265,634.00000</td>\n",
              "      <td>4,280,107.00000</td>\n",
              "      <td>24,553,645.00000</td>\n",
              "      <td>29,618,711.00000</td>\n",
              "      <td>797,160,102.00000</td>\n",
              "      <td>336,273,648.00000</td>\n",
              "      <td>872,761,860.00000</td>\n",
              "    </tr>\n",
              "    <tr>\n",
              "      <th>148931</th>\n",
              "      <td>7277825670196679680</td>\n",
              "      <td>33,650,688,697.00000</td>\n",
              "      <td>81,230,763.00000</td>\n",
              "      <td>3,464,974.00000</td>\n",
              "      <td>52,091.00000</td>\n",
              "      <td>9,967,603.00000</td>\n",
              "      <td>2,817,311.00000</td>\n",
              "      <td>57,639.00000</td>\n",
              "      <td>633,237.00000</td>\n",
              "      <td>16,191,667.00000</td>\n",
              "      <td>11,763,428.00000</td>\n",
              "      <td>17,883,703.00000</td>\n",
              "      <td>19,678,161.00000</td>\n",
              "      <td>526,609,673.00000</td>\n",
              "      <td>9,197,207.00000</td>\n",
              "      <td>3,264,510.00000</td>\n",
              "      <td>13,487,416.00000</td>\n",
              "      <td>57,628,851.00000</td>\n",
              "      <td>574,175,259.00000</td>\n",
              "      <td>3,517,065.00000</td>\n",
              "      <td>12,784,914.00000</td>\n",
              "      <td>690,876.00000</td>\n",
              "      <td>27,955,095.00000</td>\n",
              "      <td>37,561,864.00000</td>\n",
              "      <td>535,806,880.00000</td>\n",
              "      <td>16,751,926.00000</td>\n",
              "      <td>631,804,110.00000</td>\n",
              "    </tr>\n",
              "    <tr>\n",
              "      <th>148932</th>\n",
              "      <td>7349883264234609664</td>\n",
              "      <td>33,663,449,963.00000</td>\n",
              "      <td>97,970,704.00000</td>\n",
              "      <td>2,344,568.00000</td>\n",
              "      <td>7,613.00000</td>\n",
              "      <td>2,229,420.00000</td>\n",
              "      <td>2,185,941.00000</td>\n",
              "      <td>1,954,414.00000</td>\n",
              "      <td>167,304.00000</td>\n",
              "      <td>13,877,234.00000</td>\n",
              "      <td>8,288,284.00000</td>\n",
              "      <td>19,350,146.00000</td>\n",
              "      <td>21,293,148.00000</td>\n",
              "      <td>626,893,062.00000</td>\n",
              "      <td>4,735,033.00000</td>\n",
              "      <td>712,180,387.00000</td>\n",
              "      <td>2,457,758.00000</td>\n",
              "      <td>39,135,081.00000</td>\n",
              "      <td>666,648,844.00000</td>\n",
              "      <td>2,352,181.00000</td>\n",
              "      <td>4,415,361.00000</td>\n",
              "      <td>2,121,718.00000</td>\n",
              "      <td>22,165,518.00000</td>\n",
              "      <td>40,643,294.00000</td>\n",
              "      <td>631,628,095.00000</td>\n",
              "      <td>714,638,145.00000</td>\n",
              "      <td>705,783,925.00000</td>\n",
              "    </tr>\n",
              "    <tr>\n",
              "      <th>148933</th>\n",
              "      <td>13114483573367300096</td>\n",
              "      <td>33,621,890,103.00000</td>\n",
              "      <td>98,249,527.00000</td>\n",
              "      <td>1,245,845.00000</td>\n",
              "      <td>14,394.00000</td>\n",
              "      <td>3,850,890.00000</td>\n",
              "      <td>2,734,579.00000</td>\n",
              "      <td>1,525,734.00000</td>\n",
              "      <td>532,543.00000</td>\n",
              "      <td>22,660,510.00000</td>\n",
              "      <td>1,855,903.00000</td>\n",
              "      <td>9,963,942.00000</td>\n",
              "      <td>5,065,760.00000</td>\n",
              "      <td>553,539,484.00000</td>\n",
              "      <td>13,394,316.00000</td>\n",
              "      <td>121,100,856.00000</td>\n",
              "      <td>11,314,729.00000</td>\n",
              "      <td>34,912,224.00000</td>\n",
              "      <td>592,786,405.00000</td>\n",
              "      <td>1,260,239.00000</td>\n",
              "      <td>6,585,469.00000</td>\n",
              "      <td>2,058,277.00000</td>\n",
              "      <td>24,516,413.00000</td>\n",
              "      <td>15,029,702.00000</td>\n",
              "      <td>566,933,800.00000</td>\n",
              "      <td>132,415,585.00000</td>\n",
              "      <td>627,698,629.00000</td>\n",
              "    </tr>\n",
              "    <tr>\n",
              "      <th>148934</th>\n",
              "      <td>13114483573367300096</td>\n",
              "      <td>33,619,622,058.00000</td>\n",
              "      <td>97,910,631.00000</td>\n",
              "      <td>801,547.00000</td>\n",
              "      <td>21,562.00000</td>\n",
              "      <td>4,189,773.00000</td>\n",
              "      <td>3,567,494.00000</td>\n",
              "      <td>2,228,270.00000</td>\n",
              "      <td>622,644.00000</td>\n",
              "      <td>8,817,106.00000</td>\n",
              "      <td>8,305,402.00000</td>\n",
              "      <td>3,322,253.00000</td>\n",
              "      <td>13,172,589.00000</td>\n",
              "      <td>352,536,971.00000</td>\n",
              "      <td>2,529,475.00000</td>\n",
              "      <td>814,713,113.00000</td>\n",
              "      <td>1,406,930.00000</td>\n",
              "      <td>29,626,096.00000</td>\n",
              "      <td>371,895,920.00000</td>\n",
              "      <td>823,109.00000</td>\n",
              "      <td>7,757,267.00000</td>\n",
              "      <td>2,850,914.00000</td>\n",
              "      <td>17,122,508.00000</td>\n",
              "      <td>16,494,842.00000</td>\n",
              "      <td>355,066,446.00000</td>\n",
              "      <td>816,120,043.00000</td>\n",
              "      <td>401,522,016.00000</td>\n",
              "    </tr>\n",
              "  </tbody>\n",
              "</table>\n",
              "<p>148935 rows × 27 columns</p>\n",
              "</div>"
            ],
            "text/plain": [
              "                   Bearer Id  ...    Total_UL_DL_Bytes\n",
              "0       13114483460844900352  ...    345,629,377.00000\n",
              "1       13114483482878900224  ...    707,185,356.00000\n",
              "2       13114483484080500736  ...    307,690,973.00000\n",
              "3       13114483485442799616  ...    889,352,748.00000\n",
              "4       13114483499480700928  ...    607,681,403.00000\n",
              "...                      ...  ...                  ...\n",
              "148930  13042425979329300480  ...    872,761,860.00000\n",
              "148931   7277825670196679680  ...    631,804,110.00000\n",
              "148932   7349883264234609664  ...    705,783,925.00000\n",
              "148933  13114483573367300096  ...    627,698,629.00000\n",
              "148934  13114483573367300096  ...    401,522,016.00000\n",
              "\n",
              "[148935 rows x 27 columns]"
            ]
          },
          "metadata": {
            "tags": []
          },
          "execution_count": 7
        }
      ]
    },
    {
      "cell_type": "code",
      "metadata": {
        "id": "4aNtDKATrpBY",
        "colab_type": "code",
        "colab": {
          "base_uri": "https://localhost:8080/",
          "height": 297
        },
        "outputId": "ec0393bf-58ab-4ba8-98b1-f39e6cbfbc87"
      },
      "source": [
        "#Aggregate per user the number of xDR sessions\n",
        "#Bearer Id - xDr session identifier\n",
        "#MSISDN/Number MS International PSTN/ISDN Number of mobile - customer number\n",
        "xdr_session_per_user = data.groupby('MSISDN/Number').agg({'Bearer Id': 'count'})\n",
        "xdr_session_per_user.describe()"
      ],
      "execution_count": 14,
      "outputs": [
        {
          "output_type": "execute_result",
          "data": {
            "text/html": [
              "<div>\n",
              "<style scoped>\n",
              "    .dataframe tbody tr th:only-of-type {\n",
              "        vertical-align: middle;\n",
              "    }\n",
              "\n",
              "    .dataframe tbody tr th {\n",
              "        vertical-align: top;\n",
              "    }\n",
              "\n",
              "    .dataframe thead th {\n",
              "        text-align: right;\n",
              "    }\n",
              "</style>\n",
              "<table border=\"1\" class=\"dataframe\">\n",
              "  <thead>\n",
              "    <tr style=\"text-align: right;\">\n",
              "      <th></th>\n",
              "      <th>Bearer Id</th>\n",
              "    </tr>\n",
              "  </thead>\n",
              "  <tbody>\n",
              "    <tr>\n",
              "      <th>count</th>\n",
              "      <td>106,856.00</td>\n",
              "    </tr>\n",
              "    <tr>\n",
              "      <th>mean</th>\n",
              "      <td>1.39</td>\n",
              "    </tr>\n",
              "    <tr>\n",
              "      <th>std</th>\n",
              "      <td>0.81</td>\n",
              "    </tr>\n",
              "    <tr>\n",
              "      <th>min</th>\n",
              "      <td>1.00</td>\n",
              "    </tr>\n",
              "    <tr>\n",
              "      <th>25%</th>\n",
              "      <td>1.00</td>\n",
              "    </tr>\n",
              "    <tr>\n",
              "      <th>50%</th>\n",
              "      <td>1.00</td>\n",
              "    </tr>\n",
              "    <tr>\n",
              "      <th>75%</th>\n",
              "      <td>2.00</td>\n",
              "    </tr>\n",
              "    <tr>\n",
              "      <th>max</th>\n",
              "      <td>18.00</td>\n",
              "    </tr>\n",
              "  </tbody>\n",
              "</table>\n",
              "</div>"
            ],
            "text/plain": [
              "                 Bearer Id\n",
              "count           106,856.00\n",
              "mean                  1.39\n",
              "std                   0.81\n",
              "min                   1.00\n",
              "25%                   1.00\n",
              "50%                   1.00\n",
              "75%                   2.00\n",
              "max                  18.00"
            ]
          },
          "metadata": {
            "tags": []
          },
          "execution_count": 14
        }
      ]
    },
    {
      "cell_type": "code",
      "metadata": {
        "id": "nHlvHFIc4M7A",
        "colab_type": "code",
        "colab": {
          "base_uri": "https://localhost:8080/",
          "height": 450
        },
        "outputId": "3cd64d6e-b54b-4687-c233-e37b00f24e4f"
      },
      "source": [
        "xdr_session_per_user"
      ],
      "execution_count": 9,
      "outputs": [
        {
          "output_type": "execute_result",
          "data": {
            "text/html": [
              "<div>\n",
              "<style scoped>\n",
              "    .dataframe tbody tr th:only-of-type {\n",
              "        vertical-align: middle;\n",
              "    }\n",
              "\n",
              "    .dataframe tbody tr th {\n",
              "        vertical-align: top;\n",
              "    }\n",
              "\n",
              "    .dataframe thead th {\n",
              "        text-align: right;\n",
              "    }\n",
              "</style>\n",
              "<table border=\"1\" class=\"dataframe\">\n",
              "  <thead>\n",
              "    <tr style=\"text-align: right;\">\n",
              "      <th></th>\n",
              "      <th>Bearer Id</th>\n",
              "    </tr>\n",
              "    <tr>\n",
              "      <th>MSISDN/Number</th>\n",
              "      <th></th>\n",
              "    </tr>\n",
              "  </thead>\n",
              "  <tbody>\n",
              "    <tr>\n",
              "      <th>33,601,001,722.00000</th>\n",
              "      <td>1</td>\n",
              "    </tr>\n",
              "    <tr>\n",
              "      <th>33,601,001,754.00000</th>\n",
              "      <td>1</td>\n",
              "    </tr>\n",
              "    <tr>\n",
              "      <th>33,601,002,511.00000</th>\n",
              "      <td>1</td>\n",
              "    </tr>\n",
              "    <tr>\n",
              "      <th>33,601,007,832.00000</th>\n",
              "      <td>1</td>\n",
              "    </tr>\n",
              "    <tr>\n",
              "      <th>33,601,008,617.00000</th>\n",
              "      <td>2</td>\n",
              "    </tr>\n",
              "    <tr>\n",
              "      <th>...</th>\n",
              "      <td>...</td>\n",
              "    </tr>\n",
              "    <tr>\n",
              "      <th>33,789,996,170.00000</th>\n",
              "      <td>1</td>\n",
              "    </tr>\n",
              "    <tr>\n",
              "      <th>33,789,997,247.00000</th>\n",
              "      <td>1</td>\n",
              "    </tr>\n",
              "    <tr>\n",
              "      <th>3,197,020,876,596.00000</th>\n",
              "      <td>1</td>\n",
              "    </tr>\n",
              "    <tr>\n",
              "      <th>337,000,037,000,919.00000</th>\n",
              "      <td>1</td>\n",
              "    </tr>\n",
              "    <tr>\n",
              "      <th>882,397,108,489,451.00000</th>\n",
              "      <td>1</td>\n",
              "    </tr>\n",
              "  </tbody>\n",
              "</table>\n",
              "<p>106856 rows × 1 columns</p>\n",
              "</div>"
            ],
            "text/plain": [
              "                           Bearer Id\n",
              "MSISDN/Number                       \n",
              "33,601,001,722.00000               1\n",
              "33,601,001,754.00000               1\n",
              "33,601,002,511.00000               1\n",
              "33,601,007,832.00000               1\n",
              "33,601,008,617.00000               2\n",
              "...                              ...\n",
              "33,789,996,170.00000               1\n",
              "33,789,997,247.00000               1\n",
              "3,197,020,876,596.00000            1\n",
              "337,000,037,000,919.00000          1\n",
              "882,397,108,489,451.00000          1\n",
              "\n",
              "[106856 rows x 1 columns]"
            ]
          },
          "metadata": {
            "tags": []
          },
          "execution_count": 9
        }
      ]
    },
    {
      "cell_type": "code",
      "metadata": {
        "id": "bVkeobNbL78A",
        "colab_type": "code",
        "colab": {
          "base_uri": "https://localhost:8080/",
          "height": 295
        },
        "outputId": "6bac0cbe-c1e4-4378-8f00-09e8843e2253"
      },
      "source": [
        "sample_a = xdr_session_per_user.sample(n=1000)\n",
        "plt.xlabel('Number of XDR Sessions')\n",
        "plt.ylabel('Count')\n",
        "plt.title('Distribution of the number of XDR sessions')\n",
        "plt.boxplot(sample_a['Bearer Id'])\n",
        "plt.savefig('xdr_sessions.png', dpi=300)\n",
        "plt.show()\n"
      ],
      "execution_count": 34,
      "outputs": [
        {
          "output_type": "display_data",
          "data": {
            "image/png": "[encoded data removed]",
            "text/plain": [
              "<Figure size 432x288 with 1 Axes>"
            ]
          },
          "metadata": {
            "tags": [],
            "needs_background": "light"
          }
        }
      ]
    },
    {
      "cell_type": "code",
      "metadata": {
        "id": "IpOulWdNL23n",
        "colab_type": "code",
        "colab": {}
      },
      "source": [
        ""
      ],
      "execution_count": null,
      "outputs": []
    },
    {
      "cell_type": "code",
      "metadata": {
        "id": "N43DZ2_LBEFS",
        "colab_type": "code",
        "colab": {
          "base_uri": "https://localhost:8080/",
          "height": 297
        },
        "outputId": "6d0dcf9f-b33b-4385-df41-5096436ebda7"
      },
      "source": [
        "#Aggregate per user the session duration\n",
        "#Dur. (ms) Total Duration of the xDR (in ms)\n",
        "#MSISDN/Number MS International PSTN/ISDN Number of mobile - customer number\n",
        "session_duration_per_user = data.groupby('MSISDN/Number').agg({'Dur. (ms).1': 'sum'})\n",
        "session_duration_per_user.describe()"
      ],
      "execution_count": 15,
      "outputs": [
        {
          "output_type": "execute_result",
          "data": {
            "text/html": [
              "<div>\n",
              "<style scoped>\n",
              "    .dataframe tbody tr th:only-of-type {\n",
              "        vertical-align: middle;\n",
              "    }\n",
              "\n",
              "    .dataframe tbody tr th {\n",
              "        vertical-align: top;\n",
              "    }\n",
              "\n",
              "    .dataframe thead th {\n",
              "        text-align: right;\n",
              "    }\n",
              "</style>\n",
              "<table border=\"1\" class=\"dataframe\">\n",
              "  <thead>\n",
              "    <tr style=\"text-align: right;\">\n",
              "      <th></th>\n",
              "      <th>Dur. (ms).1</th>\n",
              "    </tr>\n",
              "  </thead>\n",
              "  <tbody>\n",
              "    <tr>\n",
              "      <th>count</th>\n",
              "      <td>106,856.00</td>\n",
              "    </tr>\n",
              "    <tr>\n",
              "      <th>mean</th>\n",
              "      <td>146,167,916.58</td>\n",
              "    </tr>\n",
              "    <tr>\n",
              "      <th>std</th>\n",
              "      <td>186,358,950.77</td>\n",
              "    </tr>\n",
              "    <tr>\n",
              "      <th>min</th>\n",
              "      <td>7,142,988.00</td>\n",
              "    </tr>\n",
              "    <tr>\n",
              "      <th>25%</th>\n",
              "      <td>71,308,343.00</td>\n",
              "    </tr>\n",
              "    <tr>\n",
              "      <th>50%</th>\n",
              "      <td>102,740,222.00</td>\n",
              "    </tr>\n",
              "    <tr>\n",
              "      <th>75%</th>\n",
              "      <td>172,800,001.00</td>\n",
              "    </tr>\n",
              "    <tr>\n",
              "      <th>max</th>\n",
              "      <td>18,553,763,486.00</td>\n",
              "    </tr>\n",
              "  </tbody>\n",
              "</table>\n",
              "</div>"
            ],
            "text/plain": [
              "               Dur. (ms).1\n",
              "count           106,856.00\n",
              "mean        146,167,916.58\n",
              "std         186,358,950.77\n",
              "min           7,142,988.00\n",
              "25%          71,308,343.00\n",
              "50%         102,740,222.00\n",
              "75%         172,800,001.00\n",
              "max      18,553,763,486.00"
            ]
          },
          "metadata": {
            "tags": []
          },
          "execution_count": 15
        }
      ]
    },
    {
      "cell_type": "code",
      "metadata": {
        "id": "fufRo4ruPXc-",
        "colab_type": "code",
        "colab": {
          "base_uri": "https://localhost:8080/",
          "height": 295
        },
        "outputId": "8e724648-71e8-4cc0-c06e-744823cf7d53"
      },
      "source": [
        "sample_b = session_duration_per_user.sample(n=1000)\n",
        "plt.xlabel('Session duration per user')\n",
        "plt.ylabel('The duration time (ms)')\n",
        "plt.title('Distribution of the session duration')\n",
        "plt.boxplot(sample_b['Dur. (ms).1'])\n",
        "plt.savefig('session_duration.png', dpi=300)\n",
        "plt.show()\n"
      ],
      "execution_count": 35,
      "outputs": [
        {
          "output_type": "display_data",
          "data": {
            "image/png": "[encoded data removed]",
            "text/plain": [
              "<Figure size 432x288 with 1 Axes>"
            ]
          },
          "metadata": {
            "tags": [],
            "needs_background": "light"
          }
        }
      ]
    },
    {
      "cell_type": "code",
      "metadata": {
        "id": "MIlh6zafCIZf",
        "colab_type": "code",
        "colab": {
          "base_uri": "https://localhost:8080/",
          "height": 297
        },
        "outputId": "e1ce6e13-0f64-479d-d13e-061b0f822d7d"
      },
      "source": [
        "#Aggregate per user the  total download (DL) data\n",
        "#Total DL (Bytes) Data volume (in Bytes) received by the MS during this session (IP layer + overhead)\n",
        "#MSISDN/Number MS International PSTN/ISDN Number of mobile - customer number\n",
        "total_download_per_user = data.groupby('MSISDN/Number').agg({'Total DL (Bytes)': 'sum'})\n",
        "total_download_per_user.describe()"
      ],
      "execution_count": 16,
      "outputs": [
        {
          "output_type": "execute_result",
          "data": {
            "text/html": [
              "<div>\n",
              "<style scoped>\n",
              "    .dataframe tbody tr th:only-of-type {\n",
              "        vertical-align: middle;\n",
              "    }\n",
              "\n",
              "    .dataframe tbody tr th {\n",
              "        vertical-align: top;\n",
              "    }\n",
              "\n",
              "    .dataframe thead th {\n",
              "        text-align: right;\n",
              "    }\n",
              "</style>\n",
              "<table border=\"1\" class=\"dataframe\">\n",
              "  <thead>\n",
              "    <tr style=\"text-align: right;\">\n",
              "      <th></th>\n",
              "      <th>Total DL (Bytes)</th>\n",
              "    </tr>\n",
              "  </thead>\n",
              "  <tbody>\n",
              "    <tr>\n",
              "      <th>count</th>\n",
              "      <td>106,856.00</td>\n",
              "    </tr>\n",
              "    <tr>\n",
              "      <th>mean</th>\n",
              "      <td>633,652,680.89</td>\n",
              "    </tr>\n",
              "    <tr>\n",
              "      <th>std</th>\n",
              "      <td>464,555,056.46</td>\n",
              "    </tr>\n",
              "    <tr>\n",
              "      <th>min</th>\n",
              "      <td>8,827,082.00</td>\n",
              "    </tr>\n",
              "    <tr>\n",
              "      <th>25%</th>\n",
              "      <td>314,827,063.75</td>\n",
              "    </tr>\n",
              "    <tr>\n",
              "      <th>50%</th>\n",
              "      <td>570,367,723.00</td>\n",
              "    </tr>\n",
              "    <tr>\n",
              "      <th>75%</th>\n",
              "      <td>807,364,490.25</td>\n",
              "    </tr>\n",
              "    <tr>\n",
              "      <th>max</th>\n",
              "      <td>8,156,743,493.00</td>\n",
              "    </tr>\n",
              "  </tbody>\n",
              "</table>\n",
              "</div>"
            ],
            "text/plain": [
              "          Total DL (Bytes)\n",
              "count           106,856.00\n",
              "mean        633,652,680.89\n",
              "std         464,555,056.46\n",
              "min           8,827,082.00\n",
              "25%         314,827,063.75\n",
              "50%         570,367,723.00\n",
              "75%         807,364,490.25\n",
              "max       8,156,743,493.00"
            ]
          },
          "metadata": {
            "tags": []
          },
          "execution_count": 16
        }
      ]
    },
    {
      "cell_type": "code",
      "metadata": {
        "id": "2GtEoDgsQGUw",
        "colab_type": "code",
        "colab": {
          "base_uri": "https://localhost:8080/",
          "height": 295
        },
        "outputId": "55b9aec0-7b2f-488d-e9b2-fdd423f21efe"
      },
      "source": [
        "sample_c = total_download_per_user.sample(n=1000)\n",
        "plt.xlabel('total download per user')\n",
        "plt.ylabel('total download (bytes)')\n",
        "plt.title('Distribution of the total download per user ')\n",
        "plt.boxplot(sample_c['Total DL (Bytes)'])\n",
        "plt.savefig('download.png', dpi=300)\n",
        "plt.show()\n"
      ],
      "execution_count": 36,
      "outputs": [
        {
          "output_type": "display_data",
          "data": {
            "image/png": "[encoded data removed]",
            "text/plain": [
              "<Figure size 432x288 with 1 Axes>"
            ]
          },
          "metadata": {
            "tags": [],
            "needs_background": "light"
          }
        }
      ]
    },
    {
      "cell_type": "code",
      "metadata": {
        "id": "VXBlqxMeDDTB",
        "colab_type": "code",
        "colab": {
          "base_uri": "https://localhost:8080/",
          "height": 297
        },
        "outputId": "86009410-a6ef-43e3-a468-62e583c41b64"
      },
      "source": [
        "#Aggregate per user the total upload (UL) data\n",
        "#Total UL (Bytes) Data volume (in Bytes) sent by the MS during this session (IP layer + overhead)\n",
        "#MSISDN/Number MS International PSTN/ISDN Number of mobile - customer number\n",
        "total_upload_per_user = data.groupby('MSISDN/Number').agg({'Total UL (Bytes)': 'sum'})\n",
        "total_upload_per_user.describe()"
      ],
      "execution_count": 17,
      "outputs": [
        {
          "output_type": "execute_result",
          "data": {
            "text/html": [
              "<div>\n",
              "<style scoped>\n",
              "    .dataframe tbody tr th:only-of-type {\n",
              "        vertical-align: middle;\n",
              "    }\n",
              "\n",
              "    .dataframe tbody tr th {\n",
              "        vertical-align: top;\n",
              "    }\n",
              "\n",
              "    .dataframe thead th {\n",
              "        text-align: right;\n",
              "    }\n",
              "</style>\n",
              "<table border=\"1\" class=\"dataframe\">\n",
              "  <thead>\n",
              "    <tr style=\"text-align: right;\">\n",
              "      <th></th>\n",
              "      <th>Total UL (Bytes)</th>\n",
              "    </tr>\n",
              "  </thead>\n",
              "  <tbody>\n",
              "    <tr>\n",
              "      <th>count</th>\n",
              "      <td>106,856.00</td>\n",
              "    </tr>\n",
              "    <tr>\n",
              "      <th>mean</th>\n",
              "      <td>57,309,422.41</td>\n",
              "    </tr>\n",
              "    <tr>\n",
              "      <th>std</th>\n",
              "      <td>35,657,649.75</td>\n",
              "    </tr>\n",
              "    <tr>\n",
              "      <th>min</th>\n",
              "      <td>2,866,892.00</td>\n",
              "    </tr>\n",
              "    <tr>\n",
              "      <th>25%</th>\n",
              "      <td>36,395,474.75</td>\n",
              "    </tr>\n",
              "    <tr>\n",
              "      <th>50%</th>\n",
              "      <td>46,793,865.50</td>\n",
              "    </tr>\n",
              "    <tr>\n",
              "      <th>75%</th>\n",
              "      <td>65,731,993.00</td>\n",
              "    </tr>\n",
              "    <tr>\n",
              "      <th>max</th>\n",
              "      <td>729,577,380.00</td>\n",
              "    </tr>\n",
              "  </tbody>\n",
              "</table>\n",
              "</div>"
            ],
            "text/plain": [
              "          Total UL (Bytes)\n",
              "count           106,856.00\n",
              "mean         57,309,422.41\n",
              "std          35,657,649.75\n",
              "min           2,866,892.00\n",
              "25%          36,395,474.75\n",
              "50%          46,793,865.50\n",
              "75%          65,731,993.00\n",
              "max         729,577,380.00"
            ]
          },
          "metadata": {
            "tags": []
          },
          "execution_count": 17
        }
      ]
    },
    {
      "cell_type": "code",
      "metadata": {
        "id": "lqN1WdWZRm9K",
        "colab_type": "code",
        "colab": {
          "base_uri": "https://localhost:8080/",
          "height": 295
        },
        "outputId": "f9a6912c-f00b-421a-fc39-da73b2b553c7"
      },
      "source": [
        "sample_d = total_upload_per_user.sample(n=1000)\n",
        "plt.xlabel('total upload per user')\n",
        "plt.ylabel('total upload (bytes)')\n",
        "plt.title('Distribution of the total upload per user ')\n",
        "plt.boxplot(sample_d['Total UL (Bytes)'])\n",
        "plt.savefig('upload.png', dpi=300)\n",
        "plt.show()\n"
      ],
      "execution_count": 37,
      "outputs": [
        {
          "output_type": "display_data",
          "data": {
            "image/png": "[encoded data removed]",
            "text/plain": [
              "<Figure size 432x288 with 1 Axes>"
            ]
          },
          "metadata": {
            "tags": [],
            "needs_background": "light"
          }
        }
      ]
    },
    {
      "cell_type": "code",
      "metadata": {
        "id": "MKUvEYuCFSaJ",
        "colab_type": "code",
        "colab": {
          "base_uri": "https://localhost:8080/",
          "height": 297
        },
        "outputId": "8474af90-82f7-40ec-e183-0c8919d6f97e"
      },
      "source": [
        "#the total data volume (in Bytes) during this session for Social Media\n",
        "total_data_volume_social_media_per_user = data.groupby('MSISDN/Number').agg({'Total_Data_Social_Media_Bytes': 'sum'})\n",
        "total_data_volume_social_media_per_user.describe()"
      ],
      "execution_count": 18,
      "outputs": [
        {
          "output_type": "execute_result",
          "data": {
            "text/html": [
              "<div>\n",
              "<style scoped>\n",
              "    .dataframe tbody tr th:only-of-type {\n",
              "        vertical-align: middle;\n",
              "    }\n",
              "\n",
              "    .dataframe tbody tr th {\n",
              "        vertical-align: top;\n",
              "    }\n",
              "\n",
              "    .dataframe thead th {\n",
              "        text-align: right;\n",
              "    }\n",
              "</style>\n",
              "<table border=\"1\" class=\"dataframe\">\n",
              "  <thead>\n",
              "    <tr style=\"text-align: right;\">\n",
              "      <th></th>\n",
              "      <th>Total_Data_Social_Media_Bytes</th>\n",
              "    </tr>\n",
              "  </thead>\n",
              "  <tbody>\n",
              "    <tr>\n",
              "      <th>count</th>\n",
              "      <td>106,856.00</td>\n",
              "    </tr>\n",
              "    <tr>\n",
              "      <th>mean</th>\n",
              "      <td>2,547,966.82</td>\n",
              "    </tr>\n",
              "    <tr>\n",
              "      <th>std</th>\n",
              "      <td>1,908,038.04</td>\n",
              "    </tr>\n",
              "    <tr>\n",
              "      <th>min</th>\n",
              "      <td>1,563.00</td>\n",
              "    </tr>\n",
              "    <tr>\n",
              "      <th>25%</th>\n",
              "      <td>1,211,281.50</td>\n",
              "    </tr>\n",
              "    <tr>\n",
              "      <th>50%</th>\n",
              "      <td>2,303,756.00</td>\n",
              "    </tr>\n",
              "    <tr>\n",
              "      <th>75%</th>\n",
              "      <td>3,307,509.00</td>\n",
              "    </tr>\n",
              "    <tr>\n",
              "      <th>max</th>\n",
              "      <td>43,374,779.00</td>\n",
              "    </tr>\n",
              "  </tbody>\n",
              "</table>\n",
              "</div>"
            ],
            "text/plain": [
              "       Total_Data_Social_Media_Bytes\n",
              "count                     106,856.00\n",
              "mean                    2,547,966.82\n",
              "std                     1,908,038.04\n",
              "min                         1,563.00\n",
              "25%                     1,211,281.50\n",
              "50%                     2,303,756.00\n",
              "75%                     3,307,509.00\n",
              "max                    43,374,779.00"
            ]
          },
          "metadata": {
            "tags": []
          },
          "execution_count": 18
        }
      ]
    },
    {
      "cell_type": "code",
      "metadata": {
        "id": "CG4ayOxhV6cc",
        "colab_type": "code",
        "colab": {
          "base_uri": "https://localhost:8080/",
          "height": 295
        },
        "outputId": "f525112a-c351-4451-c2ef-2928f8de0231"
      },
      "source": [
        "sample_e = total_data_volume_social_media_per_user.sample(n=1000)\n",
        "plt.xlabel('social media')\n",
        "plt.ylabel('total social media bytes per user (bytes)')\n",
        "plt.title('Distribution of the social media bytes per user ')\n",
        "plt.boxplot(sample_e['Total_Data_Social_Media_Bytes'])\n",
        "plt.savefig('social.png', dpi=300)\n",
        "plt.show()\n"
      ],
      "execution_count": 39,
      "outputs": [
        {
          "output_type": "display_data",
          "data": {
            "image/png": "[encoded data removed]",
            "text/plain": [
              "<Figure size 432x288 with 1 Axes>"
            ]
          },
          "metadata": {
            "tags": [],
            "needs_background": "light"
          }
        }
      ]
    },
    {
      "cell_type": "code",
      "metadata": {
        "id": "dAsenB5aGKq8",
        "colab_type": "code",
        "colab": {
          "base_uri": "https://localhost:8080/",
          "height": 297
        },
        "outputId": "e51dddf2-76e8-4438-dacc-9c9be4629064"
      },
      "source": [
        "#the total data volume (in Bytes) during this session for Google\n",
        "total_data_volume_google_per_user = data.groupby('MSISDN/Number').agg({'Total_Data_Google_Bytes': 'sum'})\n",
        "total_data_volume_google_per_user.describe()"
      ],
      "execution_count": 19,
      "outputs": [
        {
          "output_type": "execute_result",
          "data": {
            "text/html": [
              "<div>\n",
              "<style scoped>\n",
              "    .dataframe tbody tr th:only-of-type {\n",
              "        vertical-align: middle;\n",
              "    }\n",
              "\n",
              "    .dataframe tbody tr th {\n",
              "        vertical-align: top;\n",
              "    }\n",
              "\n",
              "    .dataframe thead th {\n",
              "        text-align: right;\n",
              "    }\n",
              "</style>\n",
              "<table border=\"1\" class=\"dataframe\">\n",
              "  <thead>\n",
              "    <tr style=\"text-align: right;\">\n",
              "      <th></th>\n",
              "      <th>Total_Data_Google_Bytes</th>\n",
              "    </tr>\n",
              "  </thead>\n",
              "  <tbody>\n",
              "    <tr>\n",
              "      <th>count</th>\n",
              "      <td>106,856.00</td>\n",
              "    </tr>\n",
              "    <tr>\n",
              "      <th>mean</th>\n",
              "      <td>10,882,434.42</td>\n",
              "    </tr>\n",
              "    <tr>\n",
              "      <th>std</th>\n",
              "      <td>7,544,861.44</td>\n",
              "    </tr>\n",
              "    <tr>\n",
              "      <th>min</th>\n",
              "      <td>40,330.00</td>\n",
              "    </tr>\n",
              "    <tr>\n",
              "      <th>25%</th>\n",
              "      <td>5,942,636.00</td>\n",
              "    </tr>\n",
              "    <tr>\n",
              "      <th>50%</th>\n",
              "      <td>9,586,153.00</td>\n",
              "    </tr>\n",
              "    <tr>\n",
              "      <th>75%</th>\n",
              "      <td>13,214,739.75</td>\n",
              "    </tr>\n",
              "    <tr>\n",
              "      <th>max</th>\n",
              "      <td>152,191,852.00</td>\n",
              "    </tr>\n",
              "  </tbody>\n",
              "</table>\n",
              "</div>"
            ],
            "text/plain": [
              "       Total_Data_Google_Bytes\n",
              "count               106,856.00\n",
              "mean             10,882,434.42\n",
              "std               7,544,861.44\n",
              "min                  40,330.00\n",
              "25%               5,942,636.00\n",
              "50%               9,586,153.00\n",
              "75%              13,214,739.75\n",
              "max             152,191,852.00"
            ]
          },
          "metadata": {
            "tags": []
          },
          "execution_count": 19
        }
      ]
    },
    {
      "cell_type": "code",
      "metadata": {
        "id": "ZGD2e2xVY_6H",
        "colab_type": "code",
        "colab": {
          "base_uri": "https://localhost:8080/",
          "height": 295
        },
        "outputId": "db8490e8-7a6b-4638-b0a6-746c5e5c5378"
      },
      "source": [
        "sample_f = total_data_volume_google_per_user.sample(n=1000)\n",
        "plt.xlabel('google')\n",
        "plt.ylabel('total google bytes per user (bytes)')\n",
        "plt.title('Distribution of the google bytes per user ')\n",
        "plt.boxplot(sample_f['Total_Data_Google_Bytes'])\n",
        "plt.savefig('google.png', dpi=300)\n",
        "plt.show()\n"
      ],
      "execution_count": 41,
      "outputs": [
        {
          "output_type": "display_data",
          "data": {
            "image/png": "[encoded data removed]",
            "text/plain": [
              "<Figure size 432x288 with 1 Axes>"
            ]
          },
          "metadata": {
            "tags": [],
            "needs_background": "light"
          }
        }
      ]
    },
    {
      "cell_type": "code",
      "metadata": {
        "id": "64zjmGPHHtps",
        "colab_type": "code",
        "colab": {
          "base_uri": "https://localhost:8080/",
          "height": 297
        },
        "outputId": "4c3466f1-1ac4-4f58-8f46-c0c9c4a505d7"
      },
      "source": [
        "#the total data volume (in Bytes) during this session for Email\n",
        "total_data_volume_email_per_user = data.groupby('MSISDN/Number').agg({'Total_Data_Email_Bytes': 'sum'})\n",
        "total_data_volume_email_per_user.describe()"
      ],
      "execution_count": 20,
      "outputs": [
        {
          "output_type": "execute_result",
          "data": {
            "text/html": [
              "<div>\n",
              "<style scoped>\n",
              "    .dataframe tbody tr th:only-of-type {\n",
              "        vertical-align: middle;\n",
              "    }\n",
              "\n",
              "    .dataframe tbody tr th {\n",
              "        vertical-align: top;\n",
              "    }\n",
              "\n",
              "    .dataframe thead th {\n",
              "        text-align: right;\n",
              "    }\n",
              "</style>\n",
              "<table border=\"1\" class=\"dataframe\">\n",
              "  <thead>\n",
              "    <tr style=\"text-align: right;\">\n",
              "      <th></th>\n",
              "      <th>Total_Data_Email_Bytes</th>\n",
              "    </tr>\n",
              "  </thead>\n",
              "  <tbody>\n",
              "    <tr>\n",
              "      <th>count</th>\n",
              "      <td>106,856.00</td>\n",
              "    </tr>\n",
              "    <tr>\n",
              "      <th>mean</th>\n",
              "      <td>3,148,795.81</td>\n",
              "    </tr>\n",
              "    <tr>\n",
              "      <th>std</th>\n",
              "      <td>2,222,400.10</td>\n",
              "    </tr>\n",
              "    <tr>\n",
              "      <th>min</th>\n",
              "      <td>18,176.00</td>\n",
              "    </tr>\n",
              "    <tr>\n",
              "      <th>25%</th>\n",
              "      <td>1,674,481.00</td>\n",
              "    </tr>\n",
              "    <tr>\n",
              "      <th>50%</th>\n",
              "      <td>2,799,824.50</td>\n",
              "    </tr>\n",
              "    <tr>\n",
              "      <th>75%</th>\n",
              "      <td>3,847,197.50</td>\n",
              "    </tr>\n",
              "    <tr>\n",
              "      <th>max</th>\n",
              "      <td>42,418,782.00</td>\n",
              "    </tr>\n",
              "  </tbody>\n",
              "</table>\n",
              "</div>"
            ],
            "text/plain": [
              "       Total_Data_Email_Bytes\n",
              "count              106,856.00\n",
              "mean             3,148,795.81\n",
              "std              2,222,400.10\n",
              "min                 18,176.00\n",
              "25%              1,674,481.00\n",
              "50%              2,799,824.50\n",
              "75%              3,847,197.50\n",
              "max             42,418,782.00"
            ]
          },
          "metadata": {
            "tags": []
          },
          "execution_count": 20
        }
      ]
    },
    {
      "cell_type": "code",
      "metadata": {
        "id": "Zzss4TxwZWYZ",
        "colab_type": "code",
        "colab": {
          "base_uri": "https://localhost:8080/",
          "height": 295
        },
        "outputId": "1a313069-0e7a-45d4-a452-b8b37c904654"
      },
      "source": [
        "sample_g = total_data_volume_email_per_user.sample(n=1000)\n",
        "plt.xlabel('email')\n",
        "plt.ylabel('total email bytes per user (bytes)')\n",
        "plt.title('Distribution of the email bytes per user ')\n",
        "plt.boxplot(sample_g['Total_Data_Email_Bytes'])\n",
        "plt.savefig('email.png', dpi=300)\n",
        "plt.show()\n"
      ],
      "execution_count": 43,
      "outputs": [
        {
          "output_type": "display_data",
          "data": {
            "image/png": "[encoded data removed]",
            "text/plain": [
              "<Figure size 432x288 with 1 Axes>"
            ]
          },
          "metadata": {
            "tags": [],
            "needs_background": "light"
          }
        }
      ]
    },
    {
      "cell_type": "code",
      "metadata": {
        "id": "6RgvIWOmH1eP",
        "colab_type": "code",
        "colab": {
          "base_uri": "https://localhost:8080/",
          "height": 297
        },
        "outputId": "04e76669-fa23-4480-c8b7-caac47272427"
      },
      "source": [
        "#the total data volume (in Bytes) during this session for Youtube\n",
        "total_data_volume_youtube_per_user = data.groupby('MSISDN/Number').agg({'Total_Data_Youtube_Bytes': 'sum'})\n",
        "total_data_volume_youtube_per_user.describe()"
      ],
      "execution_count": 21,
      "outputs": [
        {
          "output_type": "execute_result",
          "data": {
            "text/html": [
              "<div>\n",
              "<style scoped>\n",
              "    .dataframe tbody tr th:only-of-type {\n",
              "        vertical-align: middle;\n",
              "    }\n",
              "\n",
              "    .dataframe tbody tr th {\n",
              "        vertical-align: top;\n",
              "    }\n",
              "\n",
              "    .dataframe thead th {\n",
              "        text-align: right;\n",
              "    }\n",
              "</style>\n",
              "<table border=\"1\" class=\"dataframe\">\n",
              "  <thead>\n",
              "    <tr style=\"text-align: right;\">\n",
              "      <th></th>\n",
              "      <th>Total_Data_Youtube_Bytes</th>\n",
              "    </tr>\n",
              "  </thead>\n",
              "  <tbody>\n",
              "    <tr>\n",
              "      <th>count</th>\n",
              "      <td>106,856.00</td>\n",
              "    </tr>\n",
              "    <tr>\n",
              "      <th>mean</th>\n",
              "      <td>31,558,399.28</td>\n",
              "    </tr>\n",
              "    <tr>\n",
              "      <th>std</th>\n",
              "      <td>21,294,917.68</td>\n",
              "    </tr>\n",
              "    <tr>\n",
              "      <th>min</th>\n",
              "      <td>78,903.00</td>\n",
              "    </tr>\n",
              "    <tr>\n",
              "      <th>25%</th>\n",
              "      <td>18,631,088.50</td>\n",
              "    </tr>\n",
              "    <tr>\n",
              "      <th>50%</th>\n",
              "      <td>26,800,376.00</td>\n",
              "    </tr>\n",
              "    <tr>\n",
              "      <th>75%</th>\n",
              "      <td>37,927,975.75</td>\n",
              "    </tr>\n",
              "    <tr>\n",
              "      <th>max</th>\n",
              "      <td>452,958,769.00</td>\n",
              "    </tr>\n",
              "  </tbody>\n",
              "</table>\n",
              "</div>"
            ],
            "text/plain": [
              "       Total_Data_Youtube_Bytes\n",
              "count                106,856.00\n",
              "mean              31,558,399.28\n",
              "std               21,294,917.68\n",
              "min                   78,903.00\n",
              "25%               18,631,088.50\n",
              "50%               26,800,376.00\n",
              "75%               37,927,975.75\n",
              "max              452,958,769.00"
            ]
          },
          "metadata": {
            "tags": []
          },
          "execution_count": 21
        }
      ]
    },
    {
      "cell_type": "code",
      "metadata": {
        "id": "8Q2W-rCLZav4",
        "colab_type": "code",
        "colab": {
          "base_uri": "https://localhost:8080/",
          "height": 295
        },
        "outputId": "1bed5953-da06-49fc-f9d4-09dac6c6f9cb"
      },
      "source": [
        "sample_h = total_data_volume_youtube_per_user.sample(n=1000)\n",
        "plt.xlabel('youtube')\n",
        "plt.ylabel('total youtube bytes per user (bytes)')\n",
        "plt.title('Distribution of the youtube bytes per user ')\n",
        "plt.boxplot(sample_h['Total_Data_Youtube_Bytes'])\n",
        "plt.savefig('youtube.png', dpi=300)\n",
        "plt.show()"
      ],
      "execution_count": 45,
      "outputs": [
        {
          "output_type": "display_data",
          "data": {
            "image/png": "[encoded data removed]",
            "text/plain": [
              "<Figure size 432x288 with 1 Axes>"
            ]
          },
          "metadata": {
            "tags": [],
            "needs_background": "light"
          }
        }
      ]
    },
    {
      "cell_type": "code",
      "metadata": {
        "id": "jeq9fRz0IEMi",
        "colab_type": "code",
        "colab": {
          "base_uri": "https://localhost:8080/",
          "height": 297
        },
        "outputId": "8331cb71-f648-453a-b314-75564326403e"
      },
      "source": [
        "#the total data volume (in Bytes) during this session for Netflix\n",
        "total_data_volume_netflix_per_user = data.groupby('MSISDN/Number').agg({'Total_Data_Netflix_Bytes': 'sum'})\n",
        "total_data_volume_netflix_per_user.describe()"
      ],
      "execution_count": 22,
      "outputs": [
        {
          "output_type": "execute_result",
          "data": {
            "text/html": [
              "<div>\n",
              "<style scoped>\n",
              "    .dataframe tbody tr th:only-of-type {\n",
              "        vertical-align: middle;\n",
              "    }\n",
              "\n",
              "    .dataframe tbody tr th {\n",
              "        vertical-align: top;\n",
              "    }\n",
              "\n",
              "    .dataframe thead th {\n",
              "        text-align: right;\n",
              "    }\n",
              "</style>\n",
              "<table border=\"1\" class=\"dataframe\">\n",
              "  <thead>\n",
              "    <tr style=\"text-align: right;\">\n",
              "      <th></th>\n",
              "      <th>Total_Data_Netflix_Bytes</th>\n",
              "    </tr>\n",
              "  </thead>\n",
              "  <tbody>\n",
              "    <tr>\n",
              "      <th>count</th>\n",
              "      <td>106,856.00</td>\n",
              "    </tr>\n",
              "    <tr>\n",
              "      <th>mean</th>\n",
              "      <td>31,538,332.31</td>\n",
              "    </tr>\n",
              "    <tr>\n",
              "      <th>std</th>\n",
              "      <td>21,289,556.97</td>\n",
              "    </tr>\n",
              "    <tr>\n",
              "      <th>min</th>\n",
              "      <td>184,569.00</td>\n",
              "    </tr>\n",
              "    <tr>\n",
              "      <th>25%</th>\n",
              "      <td>18,555,972.75</td>\n",
              "    </tr>\n",
              "    <tr>\n",
              "      <th>50%</th>\n",
              "      <td>26,718,889.50</td>\n",
              "    </tr>\n",
              "    <tr>\n",
              "      <th>75%</th>\n",
              "      <td>37,976,957.00</td>\n",
              "    </tr>\n",
              "    <tr>\n",
              "      <th>max</th>\n",
              "      <td>399,519,079.00</td>\n",
              "    </tr>\n",
              "  </tbody>\n",
              "</table>\n",
              "</div>"
            ],
            "text/plain": [
              "       Total_Data_Netflix_Bytes\n",
              "count                106,856.00\n",
              "mean              31,538,332.31\n",
              "std               21,289,556.97\n",
              "min                  184,569.00\n",
              "25%               18,555,972.75\n",
              "50%               26,718,889.50\n",
              "75%               37,976,957.00\n",
              "max              399,519,079.00"
            ]
          },
          "metadata": {
            "tags": []
          },
          "execution_count": 22
        }
      ]
    },
    {
      "cell_type": "code",
      "metadata": {
        "id": "PtFW4XVVZ7mS",
        "colab_type": "code",
        "colab": {
          "base_uri": "https://localhost:8080/",
          "height": 295
        },
        "outputId": "539c1f67-5bca-45dd-f1d5-c79f20370dc9"
      },
      "source": [
        "sample_i = total_data_volume_netflix_per_user.sample(n=1000)\n",
        "plt.xlabel('netflix')\n",
        "plt.ylabel('total netflix bytes per user (bytes)')\n",
        "plt.title('Distribution of the netflix bytes per user')\n",
        "plt.boxplot(sample_i['Total_Data_Netflix_Bytes'])\n",
        "plt.savefig('netflix.png', dpi=300)\n",
        "plt.show()"
      ],
      "execution_count": 46,
      "outputs": [
        {
          "output_type": "display_data",
          "data": {
            "image/png": "[encoded data removed]",
            "text/plain": [
              "<Figure size 432x288 with 1 Axes>"
            ]
          },
          "metadata": {
            "tags": [],
            "needs_background": "light"
          }
        }
      ]
    },
    {
      "cell_type": "code",
      "metadata": {
        "id": "Q3Hllm2NIROJ",
        "colab_type": "code",
        "colab": {
          "base_uri": "https://localhost:8080/",
          "height": 297
        },
        "outputId": "2b8812ee-f47d-4d61-e764-6c5c93d5b040"
      },
      "source": [
        "#the total data volume (in Bytes) during this session for Gaming\n",
        "total_data_volume_gaming_per_user = data.groupby('MSISDN/Number').agg({'Total_Data_Gaming_Bytes': 'sum'})\n",
        "total_data_volume_gaming_per_user.describe()"
      ],
      "execution_count": 23,
      "outputs": [
        {
          "output_type": "execute_result",
          "data": {
            "text/html": [
              "<div>\n",
              "<style scoped>\n",
              "    .dataframe tbody tr th:only-of-type {\n",
              "        vertical-align: middle;\n",
              "    }\n",
              "\n",
              "    .dataframe tbody tr th {\n",
              "        vertical-align: top;\n",
              "    }\n",
              "\n",
              "    .dataframe thead th {\n",
              "        text-align: right;\n",
              "    }\n",
              "</style>\n",
              "<table border=\"1\" class=\"dataframe\">\n",
              "  <thead>\n",
              "    <tr style=\"text-align: right;\">\n",
              "      <th></th>\n",
              "      <th>Total_Data_Gaming_Bytes</th>\n",
              "    </tr>\n",
              "  </thead>\n",
              "  <tbody>\n",
              "    <tr>\n",
              "      <th>count</th>\n",
              "      <td>106,856.00</td>\n",
              "    </tr>\n",
              "    <tr>\n",
              "      <th>mean</th>\n",
              "      <td>599,769,010.72</td>\n",
              "    </tr>\n",
              "    <tr>\n",
              "      <th>std</th>\n",
              "      <td>449,150,462.40</td>\n",
              "    </tr>\n",
              "    <tr>\n",
              "      <th>min</th>\n",
              "      <td>306,358.00</td>\n",
              "    </tr>\n",
              "    <tr>\n",
              "      <th>25%</th>\n",
              "      <td>288,063,112.50</td>\n",
              "    </tr>\n",
              "    <tr>\n",
              "      <th>50%</th>\n",
              "      <td>542,349,206.50</td>\n",
              "    </tr>\n",
              "    <tr>\n",
              "      <th>75%</th>\n",
              "      <td>777,304,138.00</td>\n",
              "    </tr>\n",
              "    <tr>\n",
              "      <th>max</th>\n",
              "      <td>7,749,432,234.00</td>\n",
              "    </tr>\n",
              "  </tbody>\n",
              "</table>\n",
              "</div>"
            ],
            "text/plain": [
              "       Total_Data_Gaming_Bytes\n",
              "count               106,856.00\n",
              "mean            599,769,010.72\n",
              "std             449,150,462.40\n",
              "min                 306,358.00\n",
              "25%             288,063,112.50\n",
              "50%             542,349,206.50\n",
              "75%             777,304,138.00\n",
              "max           7,749,432,234.00"
            ]
          },
          "metadata": {
            "tags": []
          },
          "execution_count": 23
        }
      ]
    },
    {
      "cell_type": "code",
      "metadata": {
        "id": "fenP-h1XZ9xs",
        "colab_type": "code",
        "colab": {
          "base_uri": "https://localhost:8080/",
          "height": 295
        },
        "outputId": "bc7469bb-b5b1-4180-8690-c0ecf154b0f1"
      },
      "source": [
        "sample_j = total_data_volume_gaming_per_user.sample(n=1000)\n",
        "plt.xlabel('gaming')\n",
        "plt.ylabel('total gaming bytes per user (bytes)')\n",
        "plt.title('Distribution of the gaming bytes per user ')\n",
        "plt.boxplot(sample_j['Total_Data_Gaming_Bytes'])\n",
        "plt.savefig('gaming.png', dpi=300)\n",
        "plt.show()"
      ],
      "execution_count": 49,
      "outputs": [
        {
          "output_type": "display_data",
          "data": {
            "image/png": "[encoded data removed]",
            "text/plain": [
              "<Figure size 432x288 with 1 Axes>"
            ]
          },
          "metadata": {
            "tags": [],
            "needs_background": "light"
          }
        }
      ]
    },
    {
      "cell_type": "code",
      "metadata": {
        "id": "EbenMeiWIdWC",
        "colab_type": "code",
        "colab": {
          "base_uri": "https://localhost:8080/",
          "height": 297
        },
        "outputId": "e7dd1439-782b-400f-fb96-1d2d33b8cc6e"
      },
      "source": [
        "#the total data volume (in Bytes) during this session for Other \n",
        "total_data_volume_other_per_user = data.groupby('MSISDN/Number').agg({'Total_Data_Other_Bytes': 'sum'})\n",
        "total_data_volume_other_per_user.describe()"
      ],
      "execution_count": 24,
      "outputs": [
        {
          "output_type": "execute_result",
          "data": {
            "text/html": [
              "<div>\n",
              "<style scoped>\n",
              "    .dataframe tbody tr th:only-of-type {\n",
              "        vertical-align: middle;\n",
              "    }\n",
              "\n",
              "    .dataframe tbody tr th {\n",
              "        vertical-align: top;\n",
              "    }\n",
              "\n",
              "    .dataframe thead th {\n",
              "        text-align: right;\n",
              "    }\n",
              "</style>\n",
              "<table border=\"1\" class=\"dataframe\">\n",
              "  <thead>\n",
              "    <tr style=\"text-align: right;\">\n",
              "      <th></th>\n",
              "      <th>Total_Data_Other_Bytes</th>\n",
              "    </tr>\n",
              "  </thead>\n",
              "  <tbody>\n",
              "    <tr>\n",
              "      <th>count</th>\n",
              "      <td>106,856.00</td>\n",
              "    </tr>\n",
              "    <tr>\n",
              "      <th>mean</th>\n",
              "      <td>598,508,764.28</td>\n",
              "    </tr>\n",
              "    <tr>\n",
              "      <th>std</th>\n",
              "      <td>448,922,110.04</td>\n",
              "    </tr>\n",
              "    <tr>\n",
              "      <th>min</th>\n",
              "      <td>149,045.00</td>\n",
              "    </tr>\n",
              "    <tr>\n",
              "      <th>25%</th>\n",
              "      <td>285,559,911.00</td>\n",
              "    </tr>\n",
              "    <tr>\n",
              "      <th>50%</th>\n",
              "      <td>539,832,343.00</td>\n",
              "    </tr>\n",
              "    <tr>\n",
              "      <th>75%</th>\n",
              "      <td>775,397,530.75</td>\n",
              "    </tr>\n",
              "    <tr>\n",
              "      <th>max</th>\n",
              "      <td>8,167,877,776.00</td>\n",
              "    </tr>\n",
              "  </tbody>\n",
              "</table>\n",
              "</div>"
            ],
            "text/plain": [
              "       Total_Data_Other_Bytes\n",
              "count              106,856.00\n",
              "mean           598,508,764.28\n",
              "std            448,922,110.04\n",
              "min                149,045.00\n",
              "25%            285,559,911.00\n",
              "50%            539,832,343.00\n",
              "75%            775,397,530.75\n",
              "max          8,167,877,776.00"
            ]
          },
          "metadata": {
            "tags": []
          },
          "execution_count": 24
        }
      ]
    },
    {
      "cell_type": "code",
      "metadata": {
        "id": "tvQj5C-LZ_X6",
        "colab_type": "code",
        "colab": {
          "base_uri": "https://localhost:8080/",
          "height": 295
        },
        "outputId": "7b639840-98d1-41a3-f2c6-53affde65ab7"
      },
      "source": [
        "sample_k = total_data_volume_other_per_user.sample(n=1000)\n",
        "plt.xlabel('other')\n",
        "plt.ylabel('total other bytes per user (bytes)')\n",
        "plt.title('Distribution of the other bytes per user ')\n",
        "plt.boxplot(sample_k['Total_Data_Other_Bytes'])\n",
        "plt.savefig('other.png', dpi=300)\n",
        "plt.show()"
      ],
      "execution_count": 50,
      "outputs": [
        {
          "output_type": "display_data",
          "data": {
            "image/png": "[encoded data removed]",
            "text/plain": [
              "<Figure size 432x288 with 1 Axes>"
            ]
          },
          "metadata": {
            "tags": [],
            "needs_background": "light"
          }
        }
      ]
    },
    {
      "cell_type": "code",
      "metadata": {
        "id": "slqFPpwBSlIe",
        "colab_type": "code",
        "colab": {
          "base_uri": "https://localhost:8080/",
          "height": 289
        },
        "outputId": "835e27cb-688f-4c5b-d617-a3aff8de26b7"
      },
      "source": [
        "sample_o = data.sample(n=1000)\n",
        "plt.scatter(x=sample_o['MSISDN/Number'], y=sample_o['Total_Data_Social_Media_Bytes'])\n",
        "plt.show()"
      ],
      "execution_count": 38,
      "outputs": [
        {
          "output_type": "display_data",
          "data": {
            "image/png": "[encoded data removed]",
            "text/plain": [
              "<Figure size 432x288 with 1 Axes>"
            ]
          },
          "metadata": {
            "tags": [],
            "needs_background": "light"
          }
        }
      ]
    }
  ]
}