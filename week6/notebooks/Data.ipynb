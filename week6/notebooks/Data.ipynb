{
 "cells": [
  {
   "cell_type": "markdown",
   "metadata": {},
   "source": [
    "### Data Preprocessing"
   ]
  },
  {
   "cell_type": "markdown",
   "metadata": {},
   "source": [
    "This file contains all functions and classes for the pre-processing of the data"
   ]
  },
  {
   "cell_type": "code",
   "execution_count": 254,
   "metadata": {},
   "outputs": [],
   "source": [
    "#import required libraries\n",
    "import pandas as pd\n",
    "import numpy as np\n",
    "import matplotlib.pyplot as plt\n",
    "import seaborn as sns\n",
    "from sklearn.preprocessing import OneHotEncoder\n",
    "from sklearn.ensemble import IsolationForest\n",
    "from sklearn.preprocessing import MinMaxScaler\n",
    "from sklearn.decomposition import PCA\n",
    "from sklearn.model_selection import train_test_split,cross_val_score\n",
    "from sklearn.linear_model import LogisticRegression\n",
    "from sklearn.metrics import accuracy_score,confusion_matrix,recall_score,precision_recall_curve, f1_score, precision_score\n",
    "from sklearn.metrics import confusion_matrix\n",
    "from sklearn.metrics import classification_report\n",
    "from sklearn.metrics import roc_auc_score\n",
    "from sklearn.metrics import roc_curve\n",
    "from sklearn.tree import DecisionTreeClassifier \n",
    "from sklearn import metrics \n",
    "from sklearn.model_selection import KFold\n",
    "from sklearn.model_selection import StratifiedKFold\n",
    "\n",
    "import warnings \n",
    "warnings.filterwarnings('ignore')"
   ]
  },
  {
   "cell_type": "code",
   "execution_count": 255,
   "metadata": {},
   "outputs": [],
   "source": [
    "#importing the dataset\n",
    "data = pd.read_csv('./data/bank-additional-full.csv', sep=\";\")"
   ]
  },
  {
   "cell_type": "markdown",
   "metadata": {},
   "source": [
    "#### Aggregating columns to reduce variance"
   ]
  },
  {
   "cell_type": "code",
   "execution_count": 256,
   "metadata": {},
   "outputs": [],
   "source": [
    "#Aggregate the pdays column - number of days that passed by after the client was last contacted from a previous campaign \n",
    "def aggregate_column(x):\n",
    "    if x == 999:\n",
    "       return 'Not Previously Contacted'\n",
    "    elif x >= 0 & x <= 7:\n",
    "       return '1 week'\n",
    "    elif x > 7 & x <= 14:\n",
    "       return '2 weeks'\n",
    "    elif x > 14 & x < 21:\n",
    "       return '3 weeks'\n",
    "    else:\n",
    "       return '4 weeks'\n",
    "\n",
    "data['pdays'] = data['pdays'].apply(aggregate_column)\n"
   ]
  },
  {
   "cell_type": "code",
   "execution_count": 257,
   "metadata": {},
   "outputs": [
    {
     "data": {
      "text/html": [
       "<div>\n",
       "<style scoped>\n",
       "    .dataframe tbody tr th:only-of-type {\n",
       "        vertical-align: middle;\n",
       "    }\n",
       "\n",
       "    .dataframe tbody tr th {\n",
       "        vertical-align: top;\n",
       "    }\n",
       "\n",
       "    .dataframe thead th {\n",
       "        text-align: right;\n",
       "    }\n",
       "</style>\n",
       "<table border=\"1\" class=\"dataframe\">\n",
       "  <thead>\n",
       "    <tr style=\"text-align: right;\">\n",
       "      <th></th>\n",
       "      <th>age</th>\n",
       "      <th>job</th>\n",
       "      <th>marital</th>\n",
       "      <th>education</th>\n",
       "      <th>default</th>\n",
       "      <th>housing</th>\n",
       "      <th>loan</th>\n",
       "      <th>contact</th>\n",
       "      <th>month</th>\n",
       "      <th>day_of_week</th>\n",
       "      <th>...</th>\n",
       "      <th>campaign</th>\n",
       "      <th>pdays</th>\n",
       "      <th>previous</th>\n",
       "      <th>poutcome</th>\n",
       "      <th>emp.var.rate</th>\n",
       "      <th>cons.price.idx</th>\n",
       "      <th>cons.conf.idx</th>\n",
       "      <th>euribor3m</th>\n",
       "      <th>nr.employed</th>\n",
       "      <th>y</th>\n",
       "    </tr>\n",
       "  </thead>\n",
       "  <tbody>\n",
       "    <tr>\n",
       "      <th>0</th>\n",
       "      <td>56</td>\n",
       "      <td>housemaid</td>\n",
       "      <td>married</td>\n",
       "      <td>basic.4y</td>\n",
       "      <td>no</td>\n",
       "      <td>no</td>\n",
       "      <td>no</td>\n",
       "      <td>telephone</td>\n",
       "      <td>may</td>\n",
       "      <td>mon</td>\n",
       "      <td>...</td>\n",
       "      <td>1</td>\n",
       "      <td>Not Previously Contacted</td>\n",
       "      <td>0</td>\n",
       "      <td>nonexistent</td>\n",
       "      <td>1.1</td>\n",
       "      <td>93.994</td>\n",
       "      <td>-36.4</td>\n",
       "      <td>4.857</td>\n",
       "      <td>5191.0</td>\n",
       "      <td>no</td>\n",
       "    </tr>\n",
       "    <tr>\n",
       "      <th>1</th>\n",
       "      <td>57</td>\n",
       "      <td>services</td>\n",
       "      <td>married</td>\n",
       "      <td>high.school</td>\n",
       "      <td>unknown</td>\n",
       "      <td>no</td>\n",
       "      <td>no</td>\n",
       "      <td>telephone</td>\n",
       "      <td>may</td>\n",
       "      <td>mon</td>\n",
       "      <td>...</td>\n",
       "      <td>1</td>\n",
       "      <td>Not Previously Contacted</td>\n",
       "      <td>0</td>\n",
       "      <td>nonexistent</td>\n",
       "      <td>1.1</td>\n",
       "      <td>93.994</td>\n",
       "      <td>-36.4</td>\n",
       "      <td>4.857</td>\n",
       "      <td>5191.0</td>\n",
       "      <td>no</td>\n",
       "    </tr>\n",
       "    <tr>\n",
       "      <th>2</th>\n",
       "      <td>37</td>\n",
       "      <td>services</td>\n",
       "      <td>married</td>\n",
       "      <td>high.school</td>\n",
       "      <td>no</td>\n",
       "      <td>yes</td>\n",
       "      <td>no</td>\n",
       "      <td>telephone</td>\n",
       "      <td>may</td>\n",
       "      <td>mon</td>\n",
       "      <td>...</td>\n",
       "      <td>1</td>\n",
       "      <td>Not Previously Contacted</td>\n",
       "      <td>0</td>\n",
       "      <td>nonexistent</td>\n",
       "      <td>1.1</td>\n",
       "      <td>93.994</td>\n",
       "      <td>-36.4</td>\n",
       "      <td>4.857</td>\n",
       "      <td>5191.0</td>\n",
       "      <td>no</td>\n",
       "    </tr>\n",
       "    <tr>\n",
       "      <th>3</th>\n",
       "      <td>40</td>\n",
       "      <td>admin.</td>\n",
       "      <td>married</td>\n",
       "      <td>basic.6y</td>\n",
       "      <td>no</td>\n",
       "      <td>no</td>\n",
       "      <td>no</td>\n",
       "      <td>telephone</td>\n",
       "      <td>may</td>\n",
       "      <td>mon</td>\n",
       "      <td>...</td>\n",
       "      <td>1</td>\n",
       "      <td>Not Previously Contacted</td>\n",
       "      <td>0</td>\n",
       "      <td>nonexistent</td>\n",
       "      <td>1.1</td>\n",
       "      <td>93.994</td>\n",
       "      <td>-36.4</td>\n",
       "      <td>4.857</td>\n",
       "      <td>5191.0</td>\n",
       "      <td>no</td>\n",
       "    </tr>\n",
       "    <tr>\n",
       "      <th>4</th>\n",
       "      <td>56</td>\n",
       "      <td>services</td>\n",
       "      <td>married</td>\n",
       "      <td>high.school</td>\n",
       "      <td>no</td>\n",
       "      <td>no</td>\n",
       "      <td>yes</td>\n",
       "      <td>telephone</td>\n",
       "      <td>may</td>\n",
       "      <td>mon</td>\n",
       "      <td>...</td>\n",
       "      <td>1</td>\n",
       "      <td>Not Previously Contacted</td>\n",
       "      <td>0</td>\n",
       "      <td>nonexistent</td>\n",
       "      <td>1.1</td>\n",
       "      <td>93.994</td>\n",
       "      <td>-36.4</td>\n",
       "      <td>4.857</td>\n",
       "      <td>5191.0</td>\n",
       "      <td>no</td>\n",
       "    </tr>\n",
       "  </tbody>\n",
       "</table>\n",
       "<p>5 rows × 21 columns</p>\n",
       "</div>"
      ],
      "text/plain": [
       "   age        job  marital    education  default housing loan    contact  \\\n",
       "0   56  housemaid  married     basic.4y       no      no   no  telephone   \n",
       "1   57   services  married  high.school  unknown      no   no  telephone   \n",
       "2   37   services  married  high.school       no     yes   no  telephone   \n",
       "3   40     admin.  married     basic.6y       no      no   no  telephone   \n",
       "4   56   services  married  high.school       no      no  yes  telephone   \n",
       "\n",
       "  month day_of_week  ...  campaign                     pdays previous  \\\n",
       "0   may         mon  ...         1  Not Previously Contacted        0   \n",
       "1   may         mon  ...         1  Not Previously Contacted        0   \n",
       "2   may         mon  ...         1  Not Previously Contacted        0   \n",
       "3   may         mon  ...         1  Not Previously Contacted        0   \n",
       "4   may         mon  ...         1  Not Previously Contacted        0   \n",
       "\n",
       "      poutcome emp.var.rate  cons.price.idx  cons.conf.idx  euribor3m  \\\n",
       "0  nonexistent          1.1          93.994          -36.4      4.857   \n",
       "1  nonexistent          1.1          93.994          -36.4      4.857   \n",
       "2  nonexistent          1.1          93.994          -36.4      4.857   \n",
       "3  nonexistent          1.1          93.994          -36.4      4.857   \n",
       "4  nonexistent          1.1          93.994          -36.4      4.857   \n",
       "\n",
       "   nr.employed   y  \n",
       "0       5191.0  no  \n",
       "1       5191.0  no  \n",
       "2       5191.0  no  \n",
       "3       5191.0  no  \n",
       "4       5191.0  no  \n",
       "\n",
       "[5 rows x 21 columns]"
      ]
     },
     "execution_count": 257,
     "metadata": {},
     "output_type": "execute_result"
    }
   ],
   "source": [
    "data.head()"
   ]
  },
  {
   "cell_type": "code",
   "execution_count": 258,
   "metadata": {},
   "outputs": [
    {
     "data": {
      "text/plain": [
       "Index(['age', 'duration', 'campaign', 'previous', 'emp.var.rate',\n",
       "       'cons.price.idx', 'cons.conf.idx', 'euribor3m', 'nr.employed'],\n",
       "      dtype='object')"
      ]
     },
     "execution_count": 258,
     "metadata": {},
     "output_type": "execute_result"
    }
   ],
   "source": [
    "#getting the numerical variables\n",
    "numerics = ['int16', 'int32', 'int64', 'float16', 'float32', 'float64']\n",
    "newdf = data.select_dtypes(include=numerics)\n",
    "numerical_feature = newdf.columns\n",
    "numerical_feature"
   ]
  },
  {
   "cell_type": "markdown",
   "metadata": {},
   "source": [
    "#### One Hot Encoding for all categorical data"
   ]
  },
  {
   "cell_type": "code",
   "execution_count": 259,
   "metadata": {},
   "outputs": [
    {
     "data": {
      "text/plain": [
       "Index(['job', 'marital', 'education', 'default', 'housing', 'loan', 'contact',\n",
       "       'month', 'day_of_week', 'pdays', 'poutcome', 'y'],\n",
       "      dtype='object')"
      ]
     },
     "execution_count": 259,
     "metadata": {},
     "output_type": "execute_result"
    }
   ],
   "source": [
    "#getting the categorical variables\n",
    "categorical_features = data.select_dtypes(include=[np.object])\n",
    "categorical_feature=categorical_features.columns\n",
    "categorical_feature"
   ]
  },
  {
   "cell_type": "code",
   "execution_count": 260,
   "metadata": {},
   "outputs": [],
   "source": [
    "#encoding categorical data with one hot encoding\n",
    "encoder = OneHotEncoder(sparse=False)\n",
    "for feature in categorical_feature:\n",
    "    data[feature] = encoder.fit_transform(data[feature].values.reshape(-1, 1))\n",
    "    "
   ]
  },
  {
   "cell_type": "code",
   "execution_count": 261,
   "metadata": {},
   "outputs": [
    {
     "data": {
      "text/plain": [
       "pandas.core.frame.DataFrame"
      ]
     },
     "execution_count": 261,
     "metadata": {},
     "output_type": "execute_result"
    }
   ],
   "source": [
    "type(data)"
   ]
  },
  {
   "cell_type": "markdown",
   "metadata": {},
   "source": [
    "#### Outlier Treatment using Isolation Forest - a tree-based anomaly detection algorithm."
   ]
  },
  {
   "cell_type": "code",
   "execution_count": 262,
   "metadata": {},
   "outputs": [],
   "source": [
    "#creating a copy of data\n",
    "data_copy = data.copy()"
   ]
  },
  {
   "cell_type": "code",
   "execution_count": 263,
   "metadata": {},
   "outputs": [
    {
     "data": {
      "text/plain": [
       "['age', 'duration', 'campaign']"
      ]
     },
     "execution_count": 263,
     "metadata": {},
     "output_type": "execute_result"
    }
   ],
   "source": [
    "#selecting the columns to remove outliers from\n",
    "#from the EDA, the columns with outliers - Age, Campaign, duration\n",
    "out_list = ['pdays', 'previous', 'emp.var.rate',\n",
    "       'cons.price.idx', 'cons.conf.idx', 'euribor3m', 'nr.employed']\n",
    "outliers = [x for x in newdf.columns if x not in out_list]\n",
    "outliers"
   ]
  },
  {
   "cell_type": "code",
   "execution_count": 264,
   "metadata": {},
   "outputs": [],
   "source": [
    "# identify outliers in the training dataset\n",
    "for feature in outliers:\n",
    "    iso = IsolationForest(contamination=0.1)\n",
    "    #the predicted anomalies have a -1 anomaly score predicted\n",
    "    data['anomaly'] = iso.fit_predict(data[feature].values.reshape(-1, 1))\n",
    "    data=data[data['anomaly'] != -1]\n",
    "    \n",
    "    "
   ]
  },
  {
   "cell_type": "code",
   "execution_count": 265,
   "metadata": {},
   "outputs": [
    {
     "data": {
      "text/plain": [
       "(30893, 22)"
      ]
     },
     "execution_count": 265,
     "metadata": {},
     "output_type": "execute_result"
    }
   ],
   "source": [
    "#checking the shape\n",
    "data.shape"
   ]
  },
  {
   "cell_type": "code",
   "execution_count": 266,
   "metadata": {},
   "outputs": [],
   "source": [
    "#dropping the anomaly column\n",
    "data = data.drop('anomaly', axis=1)"
   ]
  },
  {
   "cell_type": "code",
   "execution_count": 267,
   "metadata": {},
   "outputs": [
    {
     "data": {
      "text/html": [
       "<div>\n",
       "<style scoped>\n",
       "    .dataframe tbody tr th:only-of-type {\n",
       "        vertical-align: middle;\n",
       "    }\n",
       "\n",
       "    .dataframe tbody tr th {\n",
       "        vertical-align: top;\n",
       "    }\n",
       "\n",
       "    .dataframe thead th {\n",
       "        text-align: right;\n",
       "    }\n",
       "</style>\n",
       "<table border=\"1\" class=\"dataframe\">\n",
       "  <thead>\n",
       "    <tr style=\"text-align: right;\">\n",
       "      <th></th>\n",
       "      <th>age</th>\n",
       "      <th>job</th>\n",
       "      <th>marital</th>\n",
       "      <th>education</th>\n",
       "      <th>default</th>\n",
       "      <th>housing</th>\n",
       "      <th>loan</th>\n",
       "      <th>contact</th>\n",
       "      <th>month</th>\n",
       "      <th>day_of_week</th>\n",
       "      <th>...</th>\n",
       "      <th>campaign</th>\n",
       "      <th>pdays</th>\n",
       "      <th>previous</th>\n",
       "      <th>poutcome</th>\n",
       "      <th>emp.var.rate</th>\n",
       "      <th>cons.price.idx</th>\n",
       "      <th>cons.conf.idx</th>\n",
       "      <th>euribor3m</th>\n",
       "      <th>nr.employed</th>\n",
       "      <th>y</th>\n",
       "    </tr>\n",
       "  </thead>\n",
       "  <tbody>\n",
       "    <tr>\n",
       "      <th>0</th>\n",
       "      <td>56</td>\n",
       "      <td>0.0</td>\n",
       "      <td>0.0</td>\n",
       "      <td>1.0</td>\n",
       "      <td>1.0</td>\n",
       "      <td>1.0</td>\n",
       "      <td>1.0</td>\n",
       "      <td>0.0</td>\n",
       "      <td>0.0</td>\n",
       "      <td>0.0</td>\n",
       "      <td>...</td>\n",
       "      <td>1</td>\n",
       "      <td>0.0</td>\n",
       "      <td>0</td>\n",
       "      <td>0.0</td>\n",
       "      <td>1.1</td>\n",
       "      <td>93.994</td>\n",
       "      <td>-36.4</td>\n",
       "      <td>4.857</td>\n",
       "      <td>5191.0</td>\n",
       "      <td>1.0</td>\n",
       "    </tr>\n",
       "    <tr>\n",
       "      <th>1</th>\n",
       "      <td>57</td>\n",
       "      <td>0.0</td>\n",
       "      <td>0.0</td>\n",
       "      <td>0.0</td>\n",
       "      <td>0.0</td>\n",
       "      <td>1.0</td>\n",
       "      <td>1.0</td>\n",
       "      <td>0.0</td>\n",
       "      <td>0.0</td>\n",
       "      <td>0.0</td>\n",
       "      <td>...</td>\n",
       "      <td>1</td>\n",
       "      <td>0.0</td>\n",
       "      <td>0</td>\n",
       "      <td>0.0</td>\n",
       "      <td>1.1</td>\n",
       "      <td>93.994</td>\n",
       "      <td>-36.4</td>\n",
       "      <td>4.857</td>\n",
       "      <td>5191.0</td>\n",
       "      <td>1.0</td>\n",
       "    </tr>\n",
       "    <tr>\n",
       "      <th>2</th>\n",
       "      <td>37</td>\n",
       "      <td>0.0</td>\n",
       "      <td>0.0</td>\n",
       "      <td>0.0</td>\n",
       "      <td>1.0</td>\n",
       "      <td>0.0</td>\n",
       "      <td>1.0</td>\n",
       "      <td>0.0</td>\n",
       "      <td>0.0</td>\n",
       "      <td>0.0</td>\n",
       "      <td>...</td>\n",
       "      <td>1</td>\n",
       "      <td>0.0</td>\n",
       "      <td>0</td>\n",
       "      <td>0.0</td>\n",
       "      <td>1.1</td>\n",
       "      <td>93.994</td>\n",
       "      <td>-36.4</td>\n",
       "      <td>4.857</td>\n",
       "      <td>5191.0</td>\n",
       "      <td>1.0</td>\n",
       "    </tr>\n",
       "    <tr>\n",
       "      <th>3</th>\n",
       "      <td>40</td>\n",
       "      <td>1.0</td>\n",
       "      <td>0.0</td>\n",
       "      <td>0.0</td>\n",
       "      <td>1.0</td>\n",
       "      <td>1.0</td>\n",
       "      <td>1.0</td>\n",
       "      <td>0.0</td>\n",
       "      <td>0.0</td>\n",
       "      <td>0.0</td>\n",
       "      <td>...</td>\n",
       "      <td>1</td>\n",
       "      <td>0.0</td>\n",
       "      <td>0</td>\n",
       "      <td>0.0</td>\n",
       "      <td>1.1</td>\n",
       "      <td>93.994</td>\n",
       "      <td>-36.4</td>\n",
       "      <td>4.857</td>\n",
       "      <td>5191.0</td>\n",
       "      <td>1.0</td>\n",
       "    </tr>\n",
       "    <tr>\n",
       "      <th>4</th>\n",
       "      <td>56</td>\n",
       "      <td>0.0</td>\n",
       "      <td>0.0</td>\n",
       "      <td>0.0</td>\n",
       "      <td>1.0</td>\n",
       "      <td>1.0</td>\n",
       "      <td>0.0</td>\n",
       "      <td>0.0</td>\n",
       "      <td>0.0</td>\n",
       "      <td>0.0</td>\n",
       "      <td>...</td>\n",
       "      <td>1</td>\n",
       "      <td>0.0</td>\n",
       "      <td>0</td>\n",
       "      <td>0.0</td>\n",
       "      <td>1.1</td>\n",
       "      <td>93.994</td>\n",
       "      <td>-36.4</td>\n",
       "      <td>4.857</td>\n",
       "      <td>5191.0</td>\n",
       "      <td>1.0</td>\n",
       "    </tr>\n",
       "  </tbody>\n",
       "</table>\n",
       "<p>5 rows × 21 columns</p>\n",
       "</div>"
      ],
      "text/plain": [
       "   age  job  marital  education  default  housing  loan  contact  month  \\\n",
       "0   56  0.0      0.0        1.0      1.0      1.0   1.0      0.0    0.0   \n",
       "1   57  0.0      0.0        0.0      0.0      1.0   1.0      0.0    0.0   \n",
       "2   37  0.0      0.0        0.0      1.0      0.0   1.0      0.0    0.0   \n",
       "3   40  1.0      0.0        0.0      1.0      1.0   1.0      0.0    0.0   \n",
       "4   56  0.0      0.0        0.0      1.0      1.0   0.0      0.0    0.0   \n",
       "\n",
       "   day_of_week  ...  campaign  pdays  previous  poutcome  emp.var.rate  \\\n",
       "0          0.0  ...         1    0.0         0       0.0           1.1   \n",
       "1          0.0  ...         1    0.0         0       0.0           1.1   \n",
       "2          0.0  ...         1    0.0         0       0.0           1.1   \n",
       "3          0.0  ...         1    0.0         0       0.0           1.1   \n",
       "4          0.0  ...         1    0.0         0       0.0           1.1   \n",
       "\n",
       "   cons.price.idx  cons.conf.idx  euribor3m  nr.employed    y  \n",
       "0          93.994          -36.4      4.857       5191.0  1.0  \n",
       "1          93.994          -36.4      4.857       5191.0  1.0  \n",
       "2          93.994          -36.4      4.857       5191.0  1.0  \n",
       "3          93.994          -36.4      4.857       5191.0  1.0  \n",
       "4          93.994          -36.4      4.857       5191.0  1.0  \n",
       "\n",
       "[5 rows x 21 columns]"
      ]
     },
     "execution_count": 267,
     "metadata": {},
     "output_type": "execute_result"
    }
   ],
   "source": [
    "data.head()"
   ]
  },
  {
   "cell_type": "markdown",
   "metadata": {},
   "source": [
    "#### Normalization using MinMaxScaler "
   ]
  },
  {
   "cell_type": "code",
   "execution_count": 268,
   "metadata": {},
   "outputs": [],
   "source": [
    "for feature in numerical_feature:\n",
    "    #creating a nminmax scaler instance\n",
    "    scaler = MinMaxScaler()\n",
    "    data[feature] = scaler.fit_transform(data[feature].values.reshape(-1, 1))"
   ]
  },
  {
   "cell_type": "code",
   "execution_count": 269,
   "metadata": {},
   "outputs": [
    {
     "data": {
      "text/html": [
       "<div>\n",
       "<style scoped>\n",
       "    .dataframe tbody tr th:only-of-type {\n",
       "        vertical-align: middle;\n",
       "    }\n",
       "\n",
       "    .dataframe tbody tr th {\n",
       "        vertical-align: top;\n",
       "    }\n",
       "\n",
       "    .dataframe thead th {\n",
       "        text-align: right;\n",
       "    }\n",
       "</style>\n",
       "<table border=\"1\" class=\"dataframe\">\n",
       "  <thead>\n",
       "    <tr style=\"text-align: right;\">\n",
       "      <th></th>\n",
       "      <th>age</th>\n",
       "      <th>job</th>\n",
       "      <th>marital</th>\n",
       "      <th>education</th>\n",
       "      <th>default</th>\n",
       "      <th>housing</th>\n",
       "      <th>loan</th>\n",
       "      <th>contact</th>\n",
       "      <th>month</th>\n",
       "      <th>day_of_week</th>\n",
       "      <th>...</th>\n",
       "      <th>campaign</th>\n",
       "      <th>pdays</th>\n",
       "      <th>previous</th>\n",
       "      <th>poutcome</th>\n",
       "      <th>emp.var.rate</th>\n",
       "      <th>cons.price.idx</th>\n",
       "      <th>cons.conf.idx</th>\n",
       "      <th>euribor3m</th>\n",
       "      <th>nr.employed</th>\n",
       "      <th>y</th>\n",
       "    </tr>\n",
       "  </thead>\n",
       "  <tbody>\n",
       "    <tr>\n",
       "      <th>0</th>\n",
       "      <td>0.935484</td>\n",
       "      <td>0.0</td>\n",
       "      <td>0.0</td>\n",
       "      <td>1.0</td>\n",
       "      <td>1.0</td>\n",
       "      <td>1.0</td>\n",
       "      <td>1.0</td>\n",
       "      <td>0.0</td>\n",
       "      <td>0.0</td>\n",
       "      <td>0.0</td>\n",
       "      <td>...</td>\n",
       "      <td>0.0</td>\n",
       "      <td>0.0</td>\n",
       "      <td>0.0</td>\n",
       "      <td>0.0</td>\n",
       "      <td>0.9375</td>\n",
       "      <td>0.698753</td>\n",
       "      <td>0.60251</td>\n",
       "      <td>0.957379</td>\n",
       "      <td>0.859735</td>\n",
       "      <td>1.0</td>\n",
       "    </tr>\n",
       "    <tr>\n",
       "      <th>1</th>\n",
       "      <td>0.967742</td>\n",
       "      <td>0.0</td>\n",
       "      <td>0.0</td>\n",
       "      <td>0.0</td>\n",
       "      <td>0.0</td>\n",
       "      <td>1.0</td>\n",
       "      <td>1.0</td>\n",
       "      <td>0.0</td>\n",
       "      <td>0.0</td>\n",
       "      <td>0.0</td>\n",
       "      <td>...</td>\n",
       "      <td>0.0</td>\n",
       "      <td>0.0</td>\n",
       "      <td>0.0</td>\n",
       "      <td>0.0</td>\n",
       "      <td>0.9375</td>\n",
       "      <td>0.698753</td>\n",
       "      <td>0.60251</td>\n",
       "      <td>0.957379</td>\n",
       "      <td>0.859735</td>\n",
       "      <td>1.0</td>\n",
       "    </tr>\n",
       "    <tr>\n",
       "      <th>2</th>\n",
       "      <td>0.322581</td>\n",
       "      <td>0.0</td>\n",
       "      <td>0.0</td>\n",
       "      <td>0.0</td>\n",
       "      <td>1.0</td>\n",
       "      <td>0.0</td>\n",
       "      <td>1.0</td>\n",
       "      <td>0.0</td>\n",
       "      <td>0.0</td>\n",
       "      <td>0.0</td>\n",
       "      <td>...</td>\n",
       "      <td>0.0</td>\n",
       "      <td>0.0</td>\n",
       "      <td>0.0</td>\n",
       "      <td>0.0</td>\n",
       "      <td>0.9375</td>\n",
       "      <td>0.698753</td>\n",
       "      <td>0.60251</td>\n",
       "      <td>0.957379</td>\n",
       "      <td>0.859735</td>\n",
       "      <td>1.0</td>\n",
       "    </tr>\n",
       "    <tr>\n",
       "      <th>3</th>\n",
       "      <td>0.419355</td>\n",
       "      <td>1.0</td>\n",
       "      <td>0.0</td>\n",
       "      <td>0.0</td>\n",
       "      <td>1.0</td>\n",
       "      <td>1.0</td>\n",
       "      <td>1.0</td>\n",
       "      <td>0.0</td>\n",
       "      <td>0.0</td>\n",
       "      <td>0.0</td>\n",
       "      <td>...</td>\n",
       "      <td>0.0</td>\n",
       "      <td>0.0</td>\n",
       "      <td>0.0</td>\n",
       "      <td>0.0</td>\n",
       "      <td>0.9375</td>\n",
       "      <td>0.698753</td>\n",
       "      <td>0.60251</td>\n",
       "      <td>0.957379</td>\n",
       "      <td>0.859735</td>\n",
       "      <td>1.0</td>\n",
       "    </tr>\n",
       "    <tr>\n",
       "      <th>4</th>\n",
       "      <td>0.935484</td>\n",
       "      <td>0.0</td>\n",
       "      <td>0.0</td>\n",
       "      <td>0.0</td>\n",
       "      <td>1.0</td>\n",
       "      <td>1.0</td>\n",
       "      <td>0.0</td>\n",
       "      <td>0.0</td>\n",
       "      <td>0.0</td>\n",
       "      <td>0.0</td>\n",
       "      <td>...</td>\n",
       "      <td>0.0</td>\n",
       "      <td>0.0</td>\n",
       "      <td>0.0</td>\n",
       "      <td>0.0</td>\n",
       "      <td>0.9375</td>\n",
       "      <td>0.698753</td>\n",
       "      <td>0.60251</td>\n",
       "      <td>0.957379</td>\n",
       "      <td>0.859735</td>\n",
       "      <td>1.0</td>\n",
       "    </tr>\n",
       "  </tbody>\n",
       "</table>\n",
       "<p>5 rows × 21 columns</p>\n",
       "</div>"
      ],
      "text/plain": [
       "        age  job  marital  education  default  housing  loan  contact  month  \\\n",
       "0  0.935484  0.0      0.0        1.0      1.0      1.0   1.0      0.0    0.0   \n",
       "1  0.967742  0.0      0.0        0.0      0.0      1.0   1.0      0.0    0.0   \n",
       "2  0.322581  0.0      0.0        0.0      1.0      0.0   1.0      0.0    0.0   \n",
       "3  0.419355  1.0      0.0        0.0      1.0      1.0   1.0      0.0    0.0   \n",
       "4  0.935484  0.0      0.0        0.0      1.0      1.0   0.0      0.0    0.0   \n",
       "\n",
       "   day_of_week  ...  campaign  pdays  previous  poutcome  emp.var.rate  \\\n",
       "0          0.0  ...       0.0    0.0       0.0       0.0        0.9375   \n",
       "1          0.0  ...       0.0    0.0       0.0       0.0        0.9375   \n",
       "2          0.0  ...       0.0    0.0       0.0       0.0        0.9375   \n",
       "3          0.0  ...       0.0    0.0       0.0       0.0        0.9375   \n",
       "4          0.0  ...       0.0    0.0       0.0       0.0        0.9375   \n",
       "\n",
       "   cons.price.idx  cons.conf.idx  euribor3m  nr.employed    y  \n",
       "0        0.698753        0.60251   0.957379     0.859735  1.0  \n",
       "1        0.698753        0.60251   0.957379     0.859735  1.0  \n",
       "2        0.698753        0.60251   0.957379     0.859735  1.0  \n",
       "3        0.698753        0.60251   0.957379     0.859735  1.0  \n",
       "4        0.698753        0.60251   0.957379     0.859735  1.0  \n",
       "\n",
       "[5 rows x 21 columns]"
      ]
     },
     "execution_count": 269,
     "metadata": {},
     "output_type": "execute_result"
    }
   ],
   "source": [
    "data.head()"
   ]
  },
  {
   "cell_type": "markdown",
   "metadata": {},
   "source": [
    "#### Principal Component Analysis for Dimensionality Reduction"
   ]
  },
  {
   "cell_type": "code",
   "execution_count": 270,
   "metadata": {},
   "outputs": [
    {
     "data": {
      "text/plain": [
       "['age',\n",
       " 'job',\n",
       " 'marital',\n",
       " 'education',\n",
       " 'default',\n",
       " 'housing',\n",
       " 'loan',\n",
       " 'contact',\n",
       " 'month',\n",
       " 'day_of_week',\n",
       " 'duration',\n",
       " 'campaign',\n",
       " 'pdays',\n",
       " 'previous',\n",
       " 'poutcome',\n",
       " 'emp.var.rate',\n",
       " 'cons.price.idx',\n",
       " 'cons.conf.idx',\n",
       " 'euribor3m',\n",
       " 'nr.employed']"
      ]
     },
     "execution_count": 270,
     "metadata": {},
     "output_type": "execute_result"
    }
   ],
   "source": [
    "feat_cols = [x for x in data.columns if x not in ['y']]\n",
    "feat_cols"
   ]
  },
  {
   "cell_type": "code",
   "execution_count": 271,
   "metadata": {},
   "outputs": [],
   "source": [
    "pca = PCA()\n",
    "processed_data = pd.DataFrame(pca.fit_transform(data[feat_cols].values), columns=feat_cols)\n"
   ]
  },
  {
   "cell_type": "code",
   "execution_count": 272,
   "metadata": {},
   "outputs": [
    {
     "data": {
      "text/html": [
       "<div>\n",
       "<style scoped>\n",
       "    .dataframe tbody tr th:only-of-type {\n",
       "        vertical-align: middle;\n",
       "    }\n",
       "\n",
       "    .dataframe tbody tr th {\n",
       "        vertical-align: top;\n",
       "    }\n",
       "\n",
       "    .dataframe thead th {\n",
       "        text-align: right;\n",
       "    }\n",
       "</style>\n",
       "<table border=\"1\" class=\"dataframe\">\n",
       "  <thead>\n",
       "    <tr style=\"text-align: right;\">\n",
       "      <th></th>\n",
       "      <th>age</th>\n",
       "      <th>job</th>\n",
       "      <th>marital</th>\n",
       "      <th>education</th>\n",
       "      <th>default</th>\n",
       "      <th>housing</th>\n",
       "      <th>loan</th>\n",
       "      <th>contact</th>\n",
       "      <th>month</th>\n",
       "      <th>day_of_week</th>\n",
       "      <th>duration</th>\n",
       "      <th>campaign</th>\n",
       "      <th>pdays</th>\n",
       "      <th>previous</th>\n",
       "      <th>poutcome</th>\n",
       "      <th>emp.var.rate</th>\n",
       "      <th>cons.price.idx</th>\n",
       "      <th>cons.conf.idx</th>\n",
       "      <th>euribor3m</th>\n",
       "      <th>nr.employed</th>\n",
       "    </tr>\n",
       "  </thead>\n",
       "  <tbody>\n",
       "    <tr>\n",
       "      <th>0</th>\n",
       "      <td>-0.771821</td>\n",
       "      <td>0.512852</td>\n",
       "      <td>0.329542</td>\n",
       "      <td>0.197132</td>\n",
       "      <td>-0.328973</td>\n",
       "      <td>-0.167373</td>\n",
       "      <td>-0.022621</td>\n",
       "      <td>0.153255</td>\n",
       "      <td>1.006157</td>\n",
       "      <td>0.183775</td>\n",
       "      <td>0.094315</td>\n",
       "      <td>-0.085543</td>\n",
       "      <td>-0.001605</td>\n",
       "      <td>0.054714</td>\n",
       "      <td>-0.019124</td>\n",
       "      <td>-0.061955</td>\n",
       "      <td>-0.023918</td>\n",
       "      <td>-0.016454</td>\n",
       "      <td>0.024018</td>\n",
       "      <td>-0.004324</td>\n",
       "    </tr>\n",
       "    <tr>\n",
       "      <th>1</th>\n",
       "      <td>-0.913944</td>\n",
       "      <td>0.460678</td>\n",
       "      <td>0.526455</td>\n",
       "      <td>0.036025</td>\n",
       "      <td>0.287619</td>\n",
       "      <td>-0.529737</td>\n",
       "      <td>-0.101356</td>\n",
       "      <td>-0.001303</td>\n",
       "      <td>-0.040178</td>\n",
       "      <td>0.111283</td>\n",
       "      <td>-0.236855</td>\n",
       "      <td>-0.497581</td>\n",
       "      <td>0.017882</td>\n",
       "      <td>-0.106278</td>\n",
       "      <td>-0.006364</td>\n",
       "      <td>-0.035523</td>\n",
       "      <td>-0.031252</td>\n",
       "      <td>-0.010864</td>\n",
       "      <td>0.025377</td>\n",
       "      <td>-0.003826</td>\n",
       "    </tr>\n",
       "    <tr>\n",
       "      <th>2</th>\n",
       "      <td>-0.562696</td>\n",
       "      <td>-0.445925</td>\n",
       "      <td>-0.000751</td>\n",
       "      <td>0.343695</td>\n",
       "      <td>-0.539179</td>\n",
       "      <td>-0.110972</td>\n",
       "      <td>-0.164069</td>\n",
       "      <td>-0.147116</td>\n",
       "      <td>-0.011440</td>\n",
       "      <td>0.143596</td>\n",
       "      <td>-0.201446</td>\n",
       "      <td>-0.045497</td>\n",
       "      <td>-0.012127</td>\n",
       "      <td>0.033620</td>\n",
       "      <td>0.003109</td>\n",
       "      <td>-0.086467</td>\n",
       "      <td>-0.028138</td>\n",
       "      <td>-0.011042</td>\n",
       "      <td>0.020652</td>\n",
       "      <td>-0.003655</td>\n",
       "    </tr>\n",
       "    <tr>\n",
       "      <th>3</th>\n",
       "      <td>-0.593915</td>\n",
       "      <td>0.545885</td>\n",
       "      <td>-0.810859</td>\n",
       "      <td>0.191628</td>\n",
       "      <td>-0.084914</td>\n",
       "      <td>-0.396733</td>\n",
       "      <td>-0.069920</td>\n",
       "      <td>-0.099452</td>\n",
       "      <td>0.165560</td>\n",
       "      <td>0.179977</td>\n",
       "      <td>-0.140455</td>\n",
       "      <td>-0.104372</td>\n",
       "      <td>0.023302</td>\n",
       "      <td>-0.105248</td>\n",
       "      <td>-0.008298</td>\n",
       "      <td>-0.051154</td>\n",
       "      <td>-0.020638</td>\n",
       "      <td>-0.012293</td>\n",
       "      <td>0.024351</td>\n",
       "      <td>-0.004444</td>\n",
       "    </tr>\n",
       "    <tr>\n",
       "      <th>4</th>\n",
       "      <td>-0.704892</td>\n",
       "      <td>0.359598</td>\n",
       "      <td>0.078620</td>\n",
       "      <td>0.306690</td>\n",
       "      <td>-0.211861</td>\n",
       "      <td>-0.018687</td>\n",
       "      <td>0.938146</td>\n",
       "      <td>0.082809</td>\n",
       "      <td>0.214974</td>\n",
       "      <td>0.136579</td>\n",
       "      <td>-0.184353</td>\n",
       "      <td>-0.546966</td>\n",
       "      <td>0.097720</td>\n",
       "      <td>0.149032</td>\n",
       "      <td>-0.050708</td>\n",
       "      <td>-0.037905</td>\n",
       "      <td>-0.022128</td>\n",
       "      <td>-0.016165</td>\n",
       "      <td>0.022424</td>\n",
       "      <td>-0.004367</td>\n",
       "    </tr>\n",
       "  </tbody>\n",
       "</table>\n",
       "</div>"
      ],
      "text/plain": [
       "        age       job   marital  education   default   housing      loan  \\\n",
       "0 -0.771821  0.512852  0.329542   0.197132 -0.328973 -0.167373 -0.022621   \n",
       "1 -0.913944  0.460678  0.526455   0.036025  0.287619 -0.529737 -0.101356   \n",
       "2 -0.562696 -0.445925 -0.000751   0.343695 -0.539179 -0.110972 -0.164069   \n",
       "3 -0.593915  0.545885 -0.810859   0.191628 -0.084914 -0.396733 -0.069920   \n",
       "4 -0.704892  0.359598  0.078620   0.306690 -0.211861 -0.018687  0.938146   \n",
       "\n",
       "    contact     month  day_of_week  duration  campaign     pdays  previous  \\\n",
       "0  0.153255  1.006157     0.183775  0.094315 -0.085543 -0.001605  0.054714   \n",
       "1 -0.001303 -0.040178     0.111283 -0.236855 -0.497581  0.017882 -0.106278   \n",
       "2 -0.147116 -0.011440     0.143596 -0.201446 -0.045497 -0.012127  0.033620   \n",
       "3 -0.099452  0.165560     0.179977 -0.140455 -0.104372  0.023302 -0.105248   \n",
       "4  0.082809  0.214974     0.136579 -0.184353 -0.546966  0.097720  0.149032   \n",
       "\n",
       "   poutcome  emp.var.rate  cons.price.idx  cons.conf.idx  euribor3m  \\\n",
       "0 -0.019124     -0.061955       -0.023918      -0.016454   0.024018   \n",
       "1 -0.006364     -0.035523       -0.031252      -0.010864   0.025377   \n",
       "2  0.003109     -0.086467       -0.028138      -0.011042   0.020652   \n",
       "3 -0.008298     -0.051154       -0.020638      -0.012293   0.024351   \n",
       "4 -0.050708     -0.037905       -0.022128      -0.016165   0.022424   \n",
       "\n",
       "   nr.employed  \n",
       "0    -0.004324  \n",
       "1    -0.003826  \n",
       "2    -0.003655  \n",
       "3    -0.004444  \n",
       "4    -0.004367  "
      ]
     },
     "execution_count": 272,
     "metadata": {},
     "output_type": "execute_result"
    }
   ],
   "source": [
    "processed_data.head()\n"
   ]
  },
  {
   "cell_type": "code",
   "execution_count": 276,
   "metadata": {},
   "outputs": [
    {
     "data": {
      "text/plain": [
       "(30893, 20)"
      ]
     },
     "execution_count": 276,
     "metadata": {},
     "output_type": "execute_result"
    }
   ],
   "source": [
    "processed_data.shape"
   ]
  },
  {
   "cell_type": "code",
   "execution_count": 277,
   "metadata": {},
   "outputs": [
    {
     "data": {
      "text/plain": [
       "(30893,)"
      ]
     },
     "execution_count": 277,
     "metadata": {},
     "output_type": "execute_result"
    }
   ],
   "source": [
    "data.y.shape"
   ]
  },
  {
   "cell_type": "code",
   "execution_count": 281,
   "metadata": {},
   "outputs": [],
   "source": [
    "processed_data['y'] = data['y'].values"
   ]
  },
  {
   "cell_type": "code",
   "execution_count": 282,
   "metadata": {},
   "outputs": [
    {
     "data": {
      "text/plain": [
       "age               0\n",
       "job               0\n",
       "marital           0\n",
       "education         0\n",
       "default           0\n",
       "housing           0\n",
       "loan              0\n",
       "contact           0\n",
       "month             0\n",
       "day_of_week       0\n",
       "duration          0\n",
       "campaign          0\n",
       "pdays             0\n",
       "previous          0\n",
       "poutcome          0\n",
       "emp.var.rate      0\n",
       "cons.price.idx    0\n",
       "cons.conf.idx     0\n",
       "euribor3m         0\n",
       "nr.employed       0\n",
       "y                 0\n",
       "dtype: int64"
      ]
     },
     "execution_count": 282,
     "metadata": {},
     "output_type": "execute_result"
    }
   ],
   "source": [
    "processed_data.isnull().sum()"
   ]
  },
  {
   "cell_type": "markdown",
   "metadata": {},
   "source": [
    "#### Train, Test Split - Split the data using 90% for training and 10% for testing"
   ]
  },
  {
   "cell_type": "code",
   "execution_count": 283,
   "metadata": {},
   "outputs": [
    {
     "name": "stdout",
     "output_type": "stream",
     "text": [
      "(30893, 20)\n",
      "(30893,)\n"
     ]
    }
   ],
   "source": [
    "X = processed_data.drop(columns=[\"y\"])\n",
    "y = processed_data['y']\n",
    "print(X.shape)\n",
    "print(y.shape)"
   ]
  },
  {
   "cell_type": "code",
   "execution_count": 284,
   "metadata": {},
   "outputs": [],
   "source": [
    "X_train,X_test,y_train,y_test = train_test_split(X,y,test_size = 0.1,random_state=1)"
   ]
  },
  {
   "cell_type": "code",
   "execution_count": 285,
   "metadata": {},
   "outputs": [
    {
     "name": "stdout",
     "output_type": "stream",
     "text": [
      "(27803, 20)\n",
      "(27803,)\n",
      "(3090, 20)\n",
      "(3090,)\n"
     ]
    }
   ],
   "source": [
    "print(X_train.shape)\n",
    "print(y_train.shape)\n",
    "\n",
    "print(X_test.shape)\n",
    "print(y_test.shape)"
   ]
  },
  {
   "cell_type": "markdown",
   "metadata": {},
   "source": [
    "### Machine Learning Models"
   ]
  },
  {
   "cell_type": "markdown",
   "metadata": {},
   "source": [
    "#### Evaluation Metrics"
   ]
  },
  {
   "cell_type": "code",
   "execution_count": 329,
   "metadata": {},
   "outputs": [],
   "source": [
    "def eval_metrics(y_test, y_pred):\n",
    "    accuracy = accuracy_score(y_test, y_pred)\n",
    "    precision = precision_score(y_test, y_pred, average='binary') \n",
    "    recall = recall_score(y_test, y_pred, average='binary')\n",
    "    score = f1_score(y_test, y_pred, average='binary')\n",
    "    print('Accuracy: %.3f' % accuracy)\n",
    "    print('Precision: %.3f' % precision)\n",
    "    print('Recall: %.3f' % recall)\n",
    "    print('F1-Score: %.3f' % score)\n",
    "\n"
   ]
  },
  {
   "cell_type": "code",
   "execution_count": 345,
   "metadata": {},
   "outputs": [],
   "source": [
    "from sklearn.metrics import roc_curve\n",
    "def the_roc_curve(y_test, y_pred, pred, name):\n",
    "    logit_roc_auc = roc_auc_score(y_test, pred)\n",
    "    fpr, tpr, thresholds = roc_curve(y_test, pred)\n",
    "    plt.figure()\n",
    "    plt.plot(fpr, tpr, label=name+ '(area = %0.2f)' % logit_roc_auc)\n",
    "    plt.plot([0, 1], [0, 1],'r--')\n",
    "    plt.xlim([0.0, 1.0])\n",
    "    plt.ylim([0.0, 1.05])\n",
    "    plt.xlabel('False Positive Rate')\n",
    "    plt.ylabel('True Positive Rate')\n",
    "    plt.title('Receiver operating characteristic')\n",
    "    plt.legend(loc=\"lower right\")\n",
    "   # plt.savefig('Log_ROC')\n",
    "    plt.show()"
   ]
  },
  {
   "cell_type": "markdown",
   "metadata": {},
   "source": [
    "#### Machine Learning Models - Stratified K-Fold Cross Validation"
   ]
  },
  {
   "cell_type": "markdown",
   "metadata": {},
   "source": [
    "#### 1. Logistic Regression"
   ]
  },
  {
   "cell_type": "code",
   "execution_count": 385,
   "metadata": {},
   "outputs": [
    {
     "name": "stdout",
     "output_type": "stream",
     "text": [
      "1 of KFold 5\n",
      "Accuracy Score: 0.946925566343042\n",
      "2 of KFold 5\n",
      "Accuracy Score: 0.9461077844311377\n",
      "3 of KFold 5\n",
      "Accuracy Score: 0.94512787309809\n",
      "4 of KFold 5\n",
      "Accuracy Score: 0.9418905794755584\n",
      "5 of KFold 5\n",
      "Accuracy Score: 0.9446422790547102\n"
     ]
    }
   ],
   "source": [
    "kf = StratifiedKFold(n_splits=5,shuffle=True,random_state=1)\n",
    "pred_test_full =0\n",
    "cv_score =[]\n",
    "i=1\n",
    "for train_index,test_index in kf.split(X,y):\n",
    "    print('{} of KFold {}'.format(i,kf.n_splits))\n",
    "    xtr,xvl = X.loc[train_index],X.loc[test_index]\n",
    "    ytr,yvl = y.loc[train_index],y.loc[test_index]\n",
    "    \n",
    "    #model\n",
    "    lr = LogisticRegression(C=2)\n",
    "    lr.fit(xtr,ytr)\n",
    "    score = accuracy_score(yvl, lr.predict(xvl))\n",
    "    print('Accuracy Score:',score)\n",
    "    cv_score.append(score)    \n",
    "    pred_test = lr.predict_proba(X_test)[:,1]\n",
    "    pred_test_full +=pred_test\n",
    "    i+=1\n",
    "    \n"
   ]
  },
  {
   "cell_type": "code",
   "execution_count": 393,
   "metadata": {},
   "outputs": [
    {
     "name": "stdout",
     "output_type": "stream",
     "text": [
      "Confusion matrix\n",
      " [[ 160  262]\n",
      " [  80 5676]]\n",
      "Cv [0.9474110032362459, 0.9464314614015212, 0.9457753318225963, 0.9425380382000648, 0.9446422790547102] \n",
      "Mean Accuracy Score 0.9453596227430276\n",
      "              precision    recall  f1-score   support\n",
      "\n",
      "         0.0       0.67      0.38      0.48       422\n",
      "         1.0       0.96      0.99      0.97      5756\n",
      "\n",
      "    accuracy                           0.94      6178\n",
      "   macro avg       0.81      0.68      0.73      6178\n",
      "weighted avg       0.94      0.94      0.94      6178\n",
      "\n"
     ]
    }
   ],
   "source": [
    "print('Confusion matrix\\n',confusion_matrix(yvl,lr.predict(xvl)))\n",
    "print('Cv',cv_score,'\\nMean Accuracy Score',np.mean(cv_score))\n",
    "print(classification_report(yvl,lr.predict(xvl)))"
   ]
  },
  {
   "cell_type": "code",
   "execution_count": 389,
   "metadata": {},
   "outputs": [
    {
     "data": {
      "image/png": "[encoded data removed]",
      "text/plain": [
       "<Figure size 432x288 with 1 Axes>"
      ]
     },
     "metadata": {
      "needs_background": "light"
     },
     "output_type": "display_data"
    }
   ],
   "source": [
    "from sklearn.metrics import roc_auc_score\n",
    "from sklearn.metrics import roc_curve\n",
    "logit_roc_auc = roc_auc_score(yvl, lr.predict(xvl))\n",
    "fpr, tpr, thresholds = roc_curve(yvl, lr.predict_proba(xvl)[:,1])\n",
    "plt.figure()\n",
    "plt.plot(fpr, tpr, label='Logistic Regression (area = %0.2f)' % logit_roc_auc)\n",
    "plt.plot([0, 1], [0, 1],'r--')\n",
    "plt.xlim([0.0, 1.0])\n",
    "plt.ylim([0.0, 1.05])\n",
    "plt.xlabel('False Positive Rate')\n",
    "plt.ylabel('True Positive Rate')\n",
    "plt.title('Receiver operating characteristic')\n",
    "plt.legend(loc=\"lower right\")\n",
    "#plt.savefig('Log_ROC')\n",
    "plt.show()"
   ]
  },
  {
   "cell_type": "markdown",
   "metadata": {},
   "source": [
    "#### 2.XGBoost Classifier"
   ]
  },
  {
   "cell_type": "code",
   "execution_count": 403,
   "metadata": {},
   "outputs": [
    {
     "name": "stdout",
     "output_type": "stream",
     "text": [
      "1 of KFold 5\n",
      "Accuracy Score: 0.9475728155339805\n",
      "2 of KFold 5\n",
      "Accuracy Score: 0.9490208771645897\n",
      "3 of KFold 5\n",
      "Accuracy Score: 0.9477177079961152\n",
      "4 of KFold 5\n",
      "Accuracy Score: 0.9452897377792165\n",
      "5 of KFold 5\n",
      "Accuracy Score: 0.9464227905471027\n"
     ]
    }
   ],
   "source": [
    "from xgboost import XGBClassifier\n",
    "kf = StratifiedKFold(n_splits=5,shuffle=True,random_state=1)\n",
    "pred_test_full =0\n",
    "cv_score =[]\n",
    "i=1\n",
    "for train_index,test_index in kf.split(X,y):\n",
    "    print('{} of KFold {}'.format(i,kf.n_splits))\n",
    "    xtr,xvl = X.loc[train_index],X.loc[test_index]\n",
    "    ytr,yvl = y.loc[train_index],y.loc[test_index]\n",
    "    \n",
    "    #model\n",
    "    xgb = XGBClassifier()\n",
    "    xgb.fit(xtr,ytr)\n",
    "    score = accuracy_score(yvl, xgb.predict(xvl))\n",
    "    print('Accuracy Score:',score)\n",
    "    cv_score.append(score)    \n",
    "    pred_test = xgb.predict_proba(X_test)[:,1]\n",
    "    pred_test_full +=pred_test\n",
    "    i+=1\n",
    "    \n"
   ]
  },
  {
   "cell_type": "code",
   "execution_count": 404,
   "metadata": {},
   "outputs": [
    {
     "name": "stdout",
     "output_type": "stream",
     "text": [
      "Confusion matrix\n",
      " [[ 180  242]\n",
      " [  89 5667]]\n",
      "Cv [0.9475728155339805, 0.9490208771645897, 0.9477177079961152, 0.9452897377792165, 0.9464227905471027] \n",
      "Mean Accuracy Score 0.9472047858042011\n",
      "              precision    recall  f1-score   support\n",
      "\n",
      "         0.0       0.67      0.43      0.52       422\n",
      "         1.0       0.96      0.98      0.97      5756\n",
      "\n",
      "    accuracy                           0.95      6178\n",
      "   macro avg       0.81      0.71      0.75      6178\n",
      "weighted avg       0.94      0.95      0.94      6178\n",
      "\n"
     ]
    }
   ],
   "source": [
    "print('Confusion matrix\\n',confusion_matrix(yvl,xgb.predict(xvl)))\n",
    "print('Cv',cv_score,'\\nMean Accuracy Score',np.mean(cv_score))\n",
    "print(classification_report(yvl,xgb.predict(xvl)))"
   ]
  },
  {
   "cell_type": "code",
   "execution_count": 412,
   "metadata": {},
   "outputs": [
    {
     "data": {
      "image/png": "[encoded data removed]",
      "text/plain": [
       "<Figure size 432x288 with 1 Axes>"
      ]
     },
     "metadata": {
      "needs_background": "light"
     },
     "output_type": "display_data"
    }
   ],
   "source": [
    "from sklearn.metrics import roc_auc_score\n",
    "from sklearn.metrics import roc_curve\n",
    "logit_roc_auc = roc_auc_score(yvl, xgb.predict(xvl))\n",
    "fpr, tpr, thresholds = roc_curve(yvl, xgb.predict_proba(xvl)[:,1])\n",
    "plt.figure()\n",
    "plt.plot(fpr, tpr, label='XGB %0.2f)' % logit_roc_auc)\n",
    "plt.plot([0, 1], [0, 1],'r--')\n",
    "plt.xlim([0.0, 1.0])\n",
    "plt.ylim([0.0, 1.05])\n",
    "plt.xlabel('False Positive Rate')\n",
    "plt.ylabel('True Positive Rate')\n",
    "plt.title('Receiver operating characteristic')\n",
    "plt.legend(loc=\"lower right\")\n",
    "#lt.savefig('Log_ROC')\n",
    "plt.show()"
   ]
  },
  {
   "cell_type": "code",
   "execution_count": 396,
   "metadata": {},
   "outputs": [
    {
     "data": {
      "image/png": "[encoded data removed]",
      "text/plain": [
       "<Figure size 432x288 with 1 Axes>"
      ]
     },
     "metadata": {
      "needs_background": "light"
     },
     "output_type": "display_data"
    }
   ],
   "source": [
    "#feature importances\n",
    "from xgboost import plot_importance\n",
    "#plot feature importance\n",
    "plot_importance(xgb)\n",
    "plt.show()"
   ]
  },
  {
   "cell_type": "markdown",
   "metadata": {},
   "source": [
    "#### 3. Support Vector Machine"
   ]
  },
  {
   "cell_type": "code",
   "execution_count": 407,
   "metadata": {},
   "outputs": [
    {
     "name": "stdout",
     "output_type": "stream",
     "text": [
      "1 of KFold 5\n",
      "Accuracy Score: 0.9368932038834952\n",
      "2 of KFold 5\n",
      "Accuracy Score: 0.9409289529050008\n",
      "3 of KFold 5\n",
      "Accuracy Score: 0.9342829394626092\n",
      "4 of KFold 5\n",
      "Accuracy Score: 0.9373583684040142\n",
      "5 of KFold 5\n",
      "Accuracy Score: 0.9384914211719003\n"
     ]
    }
   ],
   "source": [
    "from sklearn.svm import SVC\n",
    "kf = StratifiedKFold(n_splits=5,shuffle=True,random_state=1)\n",
    "pred_test_full =0\n",
    "cv_score =[]\n",
    "i=1\n",
    "#kernel = [\"linear\", \"rbf\", \"poly\"]\n",
    "for train_index,test_index in kf.split(X,y):\n",
    "    print('{} of KFold {}'.format(i,kf.n_splits))\n",
    "    xtr,xvl = X.loc[train_index],X.loc[test_index]\n",
    "    ytr,yvl = y.loc[train_index],y.loc[test_index]\n",
    "    # create model\n",
    "    model = SVC(kernel = 'linear', C = 1.0)\n",
    "    model.fit(xtr,ytr)\n",
    "    score = accuracy_score(yvl, model.predict(xvl))\n",
    "    print('Accuracy Score:',score)\n",
    "    cv_score.append(score)    \n",
    "    i+=1\n",
    "    "
   ]
  },
  {
   "cell_type": "code",
   "execution_count": 402,
   "metadata": {},
   "outputs": [
    {
     "name": "stdout",
     "output_type": "stream",
     "text": [
      "Confusion matrix\n",
      " [[ 111  311]\n",
      " [  69 5687]]\n",
      "Cv [0.9474110032362459, 0.9464314614015212, 0.9457753318225963, 0.9425380382000648, 0.9446422790547102] \n",
      "Mean Accuracy Score 0.9453596227430276\n",
      "              precision    recall  f1-score   support\n",
      "\n",
      "         0.0       0.62      0.26      0.37       422\n",
      "         1.0       0.95      0.99      0.97      5756\n",
      "\n",
      "    accuracy                           0.94      6178\n",
      "   macro avg       0.78      0.63      0.67      6178\n",
      "weighted avg       0.93      0.94      0.93      6178\n",
      "\n"
     ]
    }
   ],
   "source": [
    "print('Confusion matrix\\n',confusion_matrix(yvl,model.predict(xvl)))\n",
    "print('Cv',cv_score,'\\nMean Accuracy Score',np.mean(cv_score))\n",
    "print(classification_report(yvl,model.predict(xvl)))\n"
   ]
  },
  {
   "cell_type": "markdown",
   "metadata": {},
   "source": [
    "#### 4.Random Forest"
   ]
  },
  {
   "cell_type": "code",
   "execution_count": 406,
   "metadata": {},
   "outputs": [
    {
     "name": "stdout",
     "output_type": "stream",
     "text": [
      "1 of KFold 5\n",
      "Accuracy Score: 0.9420711974110032\n",
      "2 of KFold 5\n",
      "Accuracy Score: 0.943032853212494\n",
      "3 of KFold 5\n",
      "Accuracy Score: 0.9423761735189382\n",
      "4 of KFold 5\n",
      "Accuracy Score: 0.936710909679508\n",
      "5 of KFold 5\n",
      "Accuracy Score: 0.940919391388799\n"
     ]
    }
   ],
   "source": [
    "from xgboost import XGBClassifier\n",
    "kf = StratifiedKFold(n_splits=5,shuffle=True,random_state=1)\n",
    "pred_test_full =0\n",
    "cv_score =[]\n",
    "i=1\n",
    "for train_index,test_index in kf.split(X,y):\n",
    "    print('{} of KFold {}'.format(i,kf.n_splits))\n",
    "    xtr,xvl = X.loc[train_index],X.loc[test_index]\n",
    "    ytr,yvl = y.loc[train_index],y.loc[test_index]\n",
    "    \n",
    "    #model\n",
    "    rfc_model = RandomForestClassifier()\n",
    "    rfc_model.fit(xtr,ytr)\n",
    "    score = accuracy_score(yvl, rfc_model.predict(xvl))\n",
    "    print('Accuracy Score:',score)\n",
    "    cv_score.append(score)    \n",
    "    pred_test = rfc_model.predict_proba(X_test)[:,1]\n",
    "    pred_test_full +=pred_test\n",
    "    i+=1\n",
    "    \n"
   ]
  },
  {
   "cell_type": "code",
   "execution_count": 408,
   "metadata": {},
   "outputs": [
    {
     "name": "stdout",
     "output_type": "stream",
     "text": [
      "Confusion matrix\n",
      " [[ 203  219]\n",
      " [ 146 5610]]\n",
      "Cv [0.9368932038834952, 0.9409289529050008, 0.9342829394626092, 0.9373583684040142, 0.9384914211719003] \n",
      "Mean Accuracy Score 0.9375909771654038\n",
      "              precision    recall  f1-score   support\n",
      "\n",
      "         0.0       0.58      0.48      0.53       422\n",
      "         1.0       0.96      0.97      0.97      5756\n",
      "\n",
      "    accuracy                           0.94      6178\n",
      "   macro avg       0.77      0.73      0.75      6178\n",
      "weighted avg       0.94      0.94      0.94      6178\n",
      "\n"
     ]
    }
   ],
   "source": [
    "print('Confusion matrix\\n',confusion_matrix(yvl,rfc_model.predict(xvl)))\n",
    "print('Cv',cv_score,'\\nMean Accuracy Score',np.mean(cv_score))\n",
    "print(classification_report(yvl,rfc_model.predict(xvl)))"
   ]
  },
  {
   "cell_type": "code",
   "execution_count": 411,
   "metadata": {},
   "outputs": [
    {
     "data": {
      "image/png": "[encoded data removed]",
      "text/plain": [
       "<Figure size 432x288 with 1 Axes>"
      ]
     },
     "metadata": {
      "needs_background": "light"
     },
     "output_type": "display_data"
    }
   ],
   "source": [
    "from sklearn.metrics import roc_auc_score\n",
    "from sklearn.metrics import roc_curve\n",
    "logit_roc_auc = roc_auc_score(yvl, rfc_model.predict(xvl))\n",
    "fpr, tpr, thresholds = roc_curve(yvl, rfc_model.predict_proba(xvl)[:,1])\n",
    "plt.figure()\n",
    "plt.plot(fpr, tpr, label='RandomForest %0.2f)' % logit_roc_auc)\n",
    "plt.plot([0, 1], [0, 1],'r--')\n",
    "plt.xlim([0.0, 1.0])\n",
    "plt.ylim([0.0, 1.05])\n",
    "plt.xlabel('False Positive Rate')\n",
    "plt.ylabel('True Positive Rate')\n",
    "plt.title('Receiver operating characteristic')\n",
    "plt.legend(loc=\"lower right\")\n",
    "#lt.savefig('Log_ROC')\n",
    "plt.show()"
   ]
  },
  {
   "cell_type": "markdown",
   "metadata": {},
   "source": [
    "#### 5.Decision Trees"
   ]
  },
  {
   "cell_type": "code",
   "execution_count": 413,
   "metadata": {},
   "outputs": [
    {
     "name": "stdout",
     "output_type": "stream",
     "text": [
      "1 of KFold 5\n",
      "Accuracy Score: 0.9388349514563107\n",
      "2 of KFold 5\n",
      "Accuracy Score: 0.9376921832011652\n",
      "3 of KFold 5\n",
      "Accuracy Score: 0.9391388798964067\n",
      "4 of KFold 5\n",
      "Accuracy Score: 0.9360634509550017\n",
      "5 of KFold 5\n",
      "Accuracy Score: 0.9404337973454192\n"
     ]
    }
   ],
   "source": [
    "\n",
    "kf = StratifiedKFold(n_splits=5,shuffle=True,random_state=1)\n",
    "pred_test_full =0\n",
    "cv_score =[]\n",
    "i=1\n",
    "for train_index,test_index in kf.split(X,y):\n",
    "    print('{} of KFold {}'.format(i,kf.n_splits))\n",
    "    xtr,xvl = X.loc[train_index],X.loc[test_index]\n",
    "    ytr,yvl = y.loc[train_index],y.loc[test_index]\n",
    "    \n",
    "    #model\n",
    "    clf_decision_model = DecisionTreeClassifier(criterion=\"entropy\", max_depth=3)\n",
    "    clf_decision_model.fit(xtr,ytr)\n",
    "    score = accuracy_score(yvl,  clf_decision_model.predict(xvl))\n",
    "    print('Accuracy Score:',score)\n",
    "    cv_score.append(score)    \n",
    "    pred_test =  clf_decision_model.predict_proba(X_test)[:,1]\n",
    "    pred_test_full +=pred_test\n",
    "    i+=1"
   ]
  },
  {
   "cell_type": "code",
   "execution_count": 414,
   "metadata": {},
   "outputs": [
    {
     "name": "stdout",
     "output_type": "stream",
     "text": [
      "Confusion matrix\n",
      " [[  96  326]\n",
      " [  42 5714]]\n",
      "Cv [0.9388349514563107, 0.9376921832011652, 0.9391388798964067, 0.9360634509550017, 0.9404337973454192] \n",
      "Mean Accuracy Score 0.9384326525708607\n",
      "              precision    recall  f1-score   support\n",
      "\n",
      "         0.0       0.70      0.23      0.34       422\n",
      "         1.0       0.95      0.99      0.97      5756\n",
      "\n",
      "    accuracy                           0.94      6178\n",
      "   macro avg       0.82      0.61      0.66      6178\n",
      "weighted avg       0.93      0.94      0.93      6178\n",
      "\n"
     ]
    }
   ],
   "source": [
    "print('Confusion matrix\\n',confusion_matrix(yvl, clf_decision_model.predict(xvl)))\n",
    "print('Cv',cv_score,'\\nMean Accuracy Score',np.mean(cv_score))\n",
    "print(classification_report(yvl, clf_decision_model.predict(xvl)))"
   ]
  },
  {
   "cell_type": "code",
   "execution_count": 415,
   "metadata": {},
   "outputs": [
    {
     "data": {
      "image/png": "[encoded data removed]",
      "text/plain": [
       "<Figure size 432x288 with 1 Axes>"
      ]
     },
     "metadata": {
      "needs_background": "light"
     },
     "output_type": "display_data"
    }
   ],
   "source": [
    "from sklearn.metrics import roc_auc_score\n",
    "from sklearn.metrics import roc_curve\n",
    "logit_roc_auc = roc_auc_score(yvl,  clf_decision_model.predict(xvl))\n",
    "fpr, tpr, thresholds = roc_curve(yvl,  clf_decision_model.predict_proba(xvl)[:,1])\n",
    "plt.figure()\n",
    "plt.plot(fpr, tpr, label='DecisionTrees %0.2f)' % logit_roc_auc)\n",
    "plt.plot([0, 1], [0, 1],'r--')\n",
    "plt.xlim([0.0, 1.0])\n",
    "plt.ylim([0.0, 1.05])\n",
    "plt.xlabel('False Positive Rate')\n",
    "plt.ylabel('True Positive Rate')\n",
    "plt.title('Receiver operating characteristic')\n",
    "plt.legend(loc=\"lower right\")\n",
    "#lt.savefig('Log_ROC')\n",
    "plt.show()"
   ]
  },
  {
   "cell_type": "code",
   "execution_count": null,
   "metadata": {},
   "outputs": [],
   "source": []
  },
  {
   "cell_type": "markdown",
   "metadata": {},
   "source": [
    "#### Machine Learning Models - K-Fold Cross Validation"
   ]
  },
  {
   "cell_type": "markdown",
   "metadata": {},
   "source": [
    "#### 1.Logistic Regression"
   ]
  },
  {
   "cell_type": "code",
   "execution_count": 366,
   "metadata": {},
   "outputs": [
    {
     "name": "stdout",
     "output_type": "stream",
     "text": [
      "Accuracy: 0.945 (0.002)\n"
     ]
    }
   ],
   "source": [
    "from numpy import mean\n",
    "from numpy import std\n",
    "\n",
    "#prepare the cross-validation procedure\n",
    "cv = KFold(n_splits=5, random_state=1, shuffle=True)\n",
    "# create model\n",
    "model_kfold = LogisticRegression()\n",
    "# evaluate model\n",
    "scores = cross_val_score(model_kfold, X_train, y_train, scoring='accuracy', cv=cv, n_jobs=-1)\n",
    "# report performance\n",
    "print('Accuracy: %.3f (%.3f)' % (mean(scores), std(scores)))"
   ]
  },
  {
   "cell_type": "code",
   "execution_count": 367,
   "metadata": {},
   "outputs": [
    {
     "name": "stdout",
     "output_type": "stream",
     "text": [
      "Accuracy: 0.945\n",
      "Precision: 0.955\n",
      "Recall: 0.987\n",
      "F1-Score: 0.971\n"
     ]
    }
   ],
   "source": [
    "model_kfold.fit(X_train, y_train)\n",
    "pred = model_kfold.predict(X_test)\n",
    "eval_metrics(y_test, pred)\n"
   ]
  },
  {
   "cell_type": "code",
   "execution_count": 368,
   "metadata": {},
   "outputs": [
    {
     "data": {
      "image/png": "[encoded data removed]",
      "text/plain": [
       "<Figure size 432x288 with 1 Axes>"
      ]
     },
     "metadata": {
      "needs_background": "light"
     },
     "output_type": "display_data"
    }
   ],
   "source": [
    "pred_o = model_kfold.predict_proba(X_test)[:,1]\n",
    "#the roc curve\n",
    "the_roc_curve(y_test, pred, pred_o, 'Logistic Regression')"
   ]
  },
  {
   "cell_type": "markdown",
   "metadata": {},
   "source": [
    "#### 2.XGBoost Classifier"
   ]
  },
  {
   "cell_type": "code",
   "execution_count": 369,
   "metadata": {},
   "outputs": [
    {
     "name": "stdout",
     "output_type": "stream",
     "text": [
      "Accuracy: 0.948 (0.003)\n"
     ]
    }
   ],
   "source": [
    "#prepare the cross-validation procedure\n",
    "cv = KFold(n_splits=5, random_state=1, shuffle=True)\n",
    "# create model\n",
    "model_xgb = XGBClassifier()\n",
    "# evaluate model\n",
    "scores = cross_val_score(model_xgb, X_train, y_train, scoring='accuracy', cv=cv, n_jobs=-1)\n",
    "# report performance\n",
    "print('Accuracy: %.3f (%.3f)' % (mean(scores), std(scores)))"
   ]
  },
  {
   "cell_type": "code",
   "execution_count": 370,
   "metadata": {},
   "outputs": [
    {
     "name": "stdout",
     "output_type": "stream",
     "text": [
      "Accuracy: 0.946\n",
      "Precision: 0.959\n",
      "Recall: 0.985\n",
      "F1-Score: 0.971\n"
     ]
    }
   ],
   "source": [
    "model_xgb.fit(X_train, y_train)\n",
    "pred_x = model_xgb.predict(X_test)\n",
    "eval_metrics(y_test, pred_x)\n"
   ]
  },
  {
   "cell_type": "code",
   "execution_count": 371,
   "metadata": {},
   "outputs": [
    {
     "data": {
      "image/png": "[encoded data removed]",
      "text/plain": [
       "<Figure size 432x288 with 1 Axes>"
      ]
     },
     "metadata": {
      "needs_background": "light"
     },
     "output_type": "display_data"
    }
   ],
   "source": [
    "pred_xgb = model_xgb.predict_proba(X_test)[:,1]\n",
    "#the roc curve\n",
    "the_roc_curve(y_test, pred_x, pred_xgb, 'XGBoost Classifier')"
   ]
  },
  {
   "cell_type": "code",
   "execution_count": 382,
   "metadata": {},
   "outputs": [
    {
     "data": {
      "image/png": "[encoded data removed]",
      "text/plain": [
       "<Figure size 432x288 with 1 Axes>"
      ]
     },
     "metadata": {
      "needs_background": "light"
     },
     "output_type": "display_data"
    }
   ],
   "source": [
    "#feature importances\n",
    "from xgboost import plot_importance\n",
    "#plot feature importance\n",
    "plot_importance(model_xgb)\n",
    "plt.show()"
   ]
  },
  {
   "cell_type": "markdown",
   "metadata": {},
   "source": [
    "   #### 3.SVM"
   ]
  },
  {
   "cell_type": "code",
   "execution_count": 373,
   "metadata": {},
   "outputs": [
    {
     "name": "stdout",
     "output_type": "stream",
     "text": [
      "for kernel linear\n",
      "Cross Validation Score: 0.937 (0.004)\n",
      "Accuracy: 0.939\n",
      "Precision: 0.948\n",
      "Recall: 0.989\n",
      "F1-Score: 0.968\n",
      "for kernel rbf\n",
      "Cross Validation Score: 0.937 (0.004)\n",
      "Accuracy: 0.940\n",
      "Precision: 0.948\n",
      "Recall: 0.989\n",
      "F1-Score: 0.968\n",
      "for kernel poly\n",
      "Cross Validation Score: 0.931 (0.002)\n",
      "Accuracy: 0.934\n",
      "Precision: 0.934\n",
      "Recall: 1.000\n",
      "F1-Score: 0.966\n"
     ]
    }
   ],
   "source": [
    "from sklearn.svm import SVC\n",
    "kernel = [\"linear\", \"rbf\", \"poly\"]\n",
    "for i in kernel:\n",
    "    #prepare the cross-validation procedure\n",
    "    cv = KFold(n_splits=5, random_state=1, shuffle=True)\n",
    "    # create model\n",
    "    model = SVC(kernel = i, C = 1.0)\n",
    "    # evaluate model\n",
    "    scores = cross_val_score(model, X_train, y_train, scoring='accuracy', cv=cv, n_jobs=-1)\n",
    "    # report performance\n",
    "    print(\"for kernel\", i)\n",
    "    print('Cross Validation Score: %.3f (%.3f)' % (mean(scores), std(scores)))\n",
    "    model.fit(X_train, y_train)\n",
    "    y_pred = model.predict(X_test)\n",
    "    #the evaluation metrics\n",
    "    eval_metrics(y_test, y_pred)\n",
    "    "
   ]
  },
  {
   "cell_type": "markdown",
   "metadata": {},
   "source": [
    "#### 4.Random Forest"
   ]
  },
  {
   "cell_type": "code",
   "execution_count": 374,
   "metadata": {},
   "outputs": [
    {
     "name": "stdout",
     "output_type": "stream",
     "text": [
      "Accuracy: 0.940 (0.002)\n"
     ]
    }
   ],
   "source": [
    "from sklearn import model_selection\n",
    "from sklearn.ensemble import RandomForestClassifier\n",
    "# random forest model creation\n",
    "#prepare the cross-validation procedure\n",
    "cv = KFold(n_splits=5, random_state=1, shuffle=True)\n",
    "# create model\n",
    "rfc_model = RandomForestClassifier()\n",
    "# evaluate model\n",
    "scores = cross_val_score(rfc_model , X_train, y_train, scoring='accuracy', cv=cv, n_jobs=-1)\n",
    "# report performance\n",
    "print('Accuracy: %.3f (%.3f)' % (mean(scores), std(scores)))\n",
    "\n"
   ]
  },
  {
   "cell_type": "code",
   "execution_count": 375,
   "metadata": {},
   "outputs": [
    {
     "name": "stdout",
     "output_type": "stream",
     "text": [
      "Accuracy: 0.939\n",
      "Precision: 0.959\n",
      "Recall: 0.976\n",
      "F1-Score: 0.967\n"
     ]
    },
    {
     "data": {
      "image/png": "[encoded data removed]",
      "text/plain": [
       "<Figure size 432x288 with 1 Axes>"
      ]
     },
     "metadata": {
      "needs_background": "light"
     },
     "output_type": "display_data"
    }
   ],
   "source": [
    "rfc_model.fit(X_train,y_train)\n",
    "# predictions\n",
    "rfc_predict = rfc_model.predict(X_test)\n",
    "rfc_proba = rfc_model.predict_proba(X_test)[:,1]\n",
    "#the evaluation metrics\n",
    "eval_metrics(y_test, rfc_predict)\n",
    "#the roc curve\n",
    "the_roc_curve(y_test,rfc_predict , rfc_proba, 'RandomForestClassifier')"
   ]
  },
  {
   "cell_type": "code",
   "execution_count": 376,
   "metadata": {},
   "outputs": [
    {
     "data": {
      "text/html": [
       "<div>\n",
       "<style scoped>\n",
       "    .dataframe tbody tr th:only-of-type {\n",
       "        vertical-align: middle;\n",
       "    }\n",
       "\n",
       "    .dataframe tbody tr th {\n",
       "        vertical-align: top;\n",
       "    }\n",
       "\n",
       "    .dataframe thead th {\n",
       "        text-align: right;\n",
       "    }\n",
       "</style>\n",
       "<table border=\"1\" class=\"dataframe\">\n",
       "  <thead>\n",
       "    <tr style=\"text-align: right;\">\n",
       "      <th></th>\n",
       "      <th>feature</th>\n",
       "      <th>importance</th>\n",
       "    </tr>\n",
       "  </thead>\n",
       "  <tbody>\n",
       "    <tr>\n",
       "      <th>14</th>\n",
       "      <td>poutcome</td>\n",
       "      <td>0.149166</td>\n",
       "    </tr>\n",
       "    <tr>\n",
       "      <th>13</th>\n",
       "      <td>previous</td>\n",
       "      <td>0.111803</td>\n",
       "    </tr>\n",
       "    <tr>\n",
       "      <th>16</th>\n",
       "      <td>cons.price.idx</td>\n",
       "      <td>0.077920</td>\n",
       "    </tr>\n",
       "    <tr>\n",
       "      <th>12</th>\n",
       "      <td>pdays</td>\n",
       "      <td>0.068617</td>\n",
       "    </tr>\n",
       "    <tr>\n",
       "      <th>0</th>\n",
       "      <td>age</td>\n",
       "      <td>0.055647</td>\n",
       "    </tr>\n",
       "    <tr>\n",
       "      <th>18</th>\n",
       "      <td>euribor3m</td>\n",
       "      <td>0.050180</td>\n",
       "    </tr>\n",
       "    <tr>\n",
       "      <th>17</th>\n",
       "      <td>cons.conf.idx</td>\n",
       "      <td>0.047991</td>\n",
       "    </tr>\n",
       "    <tr>\n",
       "      <th>19</th>\n",
       "      <td>nr.employed</td>\n",
       "      <td>0.046018</td>\n",
       "    </tr>\n",
       "    <tr>\n",
       "      <th>15</th>\n",
       "      <td>emp.var.rate</td>\n",
       "      <td>0.044175</td>\n",
       "    </tr>\n",
       "    <tr>\n",
       "      <th>9</th>\n",
       "      <td>day_of_week</td>\n",
       "      <td>0.042612</td>\n",
       "    </tr>\n",
       "    <tr>\n",
       "      <th>10</th>\n",
       "      <td>duration</td>\n",
       "      <td>0.040072</td>\n",
       "    </tr>\n",
       "    <tr>\n",
       "      <th>3</th>\n",
       "      <td>education</td>\n",
       "      <td>0.032051</td>\n",
       "    </tr>\n",
       "    <tr>\n",
       "      <th>7</th>\n",
       "      <td>contact</td>\n",
       "      <td>0.030812</td>\n",
       "    </tr>\n",
       "    <tr>\n",
       "      <th>1</th>\n",
       "      <td>job</td>\n",
       "      <td>0.029957</td>\n",
       "    </tr>\n",
       "    <tr>\n",
       "      <th>6</th>\n",
       "      <td>loan</td>\n",
       "      <td>0.029745</td>\n",
       "    </tr>\n",
       "    <tr>\n",
       "      <th>8</th>\n",
       "      <td>month</td>\n",
       "      <td>0.029652</td>\n",
       "    </tr>\n",
       "    <tr>\n",
       "      <th>11</th>\n",
       "      <td>campaign</td>\n",
       "      <td>0.029315</td>\n",
       "    </tr>\n",
       "    <tr>\n",
       "      <th>5</th>\n",
       "      <td>housing</td>\n",
       "      <td>0.028842</td>\n",
       "    </tr>\n",
       "    <tr>\n",
       "      <th>4</th>\n",
       "      <td>default</td>\n",
       "      <td>0.028349</td>\n",
       "    </tr>\n",
       "    <tr>\n",
       "      <th>2</th>\n",
       "      <td>marital</td>\n",
       "      <td>0.027078</td>\n",
       "    </tr>\n",
       "  </tbody>\n",
       "</table>\n",
       "</div>"
      ],
      "text/plain": [
       "           feature  importance\n",
       "14        poutcome    0.149166\n",
       "13        previous    0.111803\n",
       "16  cons.price.idx    0.077920\n",
       "12           pdays    0.068617\n",
       "0              age    0.055647\n",
       "18       euribor3m    0.050180\n",
       "17   cons.conf.idx    0.047991\n",
       "19     nr.employed    0.046018\n",
       "15    emp.var.rate    0.044175\n",
       "9      day_of_week    0.042612\n",
       "10        duration    0.040072\n",
       "3        education    0.032051\n",
       "7          contact    0.030812\n",
       "1              job    0.029957\n",
       "6             loan    0.029745\n",
       "8            month    0.029652\n",
       "11        campaign    0.029315\n",
       "5          housing    0.028842\n",
       "4          default    0.028349\n",
       "2          marital    0.027078"
      ]
     },
     "execution_count": 376,
     "metadata": {},
     "output_type": "execute_result"
    }
   ],
   "source": [
    "#feature importances\n",
    "fi = pd.DataFrame({'feature': list(X_train.columns),\n",
    "                   'importance': rfc_model.feature_importances_}).\\\n",
    "                    sort_values('importance', ascending = False)\n",
    "fi"
   ]
  },
  {
   "cell_type": "markdown",
   "metadata": {},
   "source": [
    "#### 5.Decision Trees"
   ]
  },
  {
   "cell_type": "code",
   "execution_count": 378,
   "metadata": {},
   "outputs": [
    {
     "name": "stdout",
     "output_type": "stream",
     "text": [
      "Accuracy: 0.939 (0.002)\n"
     ]
    }
   ],
   "source": [
    "from sklearn import model_selection\n",
    "from sklearn.tree import DecisionTreeClassifier \n",
    "# random forest model creation\n",
    "#prepare the cross-validation procedure\n",
    "cv = KFold(n_splits=5, random_state=1, shuffle=True)\n",
    "# create model\n",
    "clf_decision_model = DecisionTreeClassifier(criterion=\"entropy\", max_depth=3)\n",
    "# evaluate model\n",
    "scores = cross_val_score(clf_decision_model , X_train, y_train, scoring='accuracy', cv=cv, n_jobs=-1)\n",
    "# report performance\n",
    "print('Accuracy: %.3f (%.3f)' % (mean(scores), std(scores)))\n",
    "\n",
    "\n",
    "\n",
    "\n"
   ]
  },
  {
   "cell_type": "code",
   "execution_count": 379,
   "metadata": {},
   "outputs": [
    {
     "name": "stdout",
     "output_type": "stream",
     "text": [
      "Accuracy: 0.939\n",
      "Precision: 0.943\n",
      "Recall: 0.995\n",
      "F1-Score: 0.968\n"
     ]
    },
    {
     "data": {
      "image/png": "[encoded data removed]",
      "text/plain": [
       "<Figure size 432x288 with 1 Axes>"
      ]
     },
     "metadata": {
      "needs_background": "light"
     },
     "output_type": "display_data"
    }
   ],
   "source": [
    "clf_decision_model.fit(X_train, y_train)\n",
    "# predictions\n",
    "y_pred = clf_decision_model.predict(X_test)\n",
    "y_proba = clf_decision_model.predict_proba(X_test)[:,1]\n",
    "#the evaluation metrics\n",
    "eval_metrics(y_test, y_pred)\n",
    "#the roc curve\n",
    "the_roc_curve(y_test,y_pred , y_proba, 'DecisionTreeClassifier')"
   ]
  },
  {
   "cell_type": "code",
   "execution_count": 381,
   "metadata": {},
   "outputs": [
    {
     "data": {
      "text/html": [
       "<div>\n",
       "<style scoped>\n",
       "    .dataframe tbody tr th:only-of-type {\n",
       "        vertical-align: middle;\n",
       "    }\n",
       "\n",
       "    .dataframe tbody tr th {\n",
       "        vertical-align: top;\n",
       "    }\n",
       "\n",
       "    .dataframe thead th {\n",
       "        text-align: right;\n",
       "    }\n",
       "</style>\n",
       "<table border=\"1\" class=\"dataframe\">\n",
       "  <thead>\n",
       "    <tr style=\"text-align: right;\">\n",
       "      <th></th>\n",
       "      <th>feature</th>\n",
       "      <th>importance</th>\n",
       "    </tr>\n",
       "  </thead>\n",
       "  <tbody>\n",
       "    <tr>\n",
       "      <th>0</th>\n",
       "      <td>age</td>\n",
       "      <td>0.509715</td>\n",
       "    </tr>\n",
       "    <tr>\n",
       "      <th>13</th>\n",
       "      <td>previous</td>\n",
       "      <td>0.161575</td>\n",
       "    </tr>\n",
       "    <tr>\n",
       "      <th>14</th>\n",
       "      <td>poutcome</td>\n",
       "      <td>0.147556</td>\n",
       "    </tr>\n",
       "    <tr>\n",
       "      <th>16</th>\n",
       "      <td>cons.price.idx</td>\n",
       "      <td>0.113387</td>\n",
       "    </tr>\n",
       "    <tr>\n",
       "      <th>18</th>\n",
       "      <td>euribor3m</td>\n",
       "      <td>0.067768</td>\n",
       "    </tr>\n",
       "    <tr>\n",
       "      <th>1</th>\n",
       "      <td>job</td>\n",
       "      <td>0.000000</td>\n",
       "    </tr>\n",
       "    <tr>\n",
       "      <th>17</th>\n",
       "      <td>cons.conf.idx</td>\n",
       "      <td>0.000000</td>\n",
       "    </tr>\n",
       "    <tr>\n",
       "      <th>15</th>\n",
       "      <td>emp.var.rate</td>\n",
       "      <td>0.000000</td>\n",
       "    </tr>\n",
       "    <tr>\n",
       "      <th>12</th>\n",
       "      <td>pdays</td>\n",
       "      <td>0.000000</td>\n",
       "    </tr>\n",
       "    <tr>\n",
       "      <th>11</th>\n",
       "      <td>campaign</td>\n",
       "      <td>0.000000</td>\n",
       "    </tr>\n",
       "    <tr>\n",
       "      <th>10</th>\n",
       "      <td>duration</td>\n",
       "      <td>0.000000</td>\n",
       "    </tr>\n",
       "    <tr>\n",
       "      <th>9</th>\n",
       "      <td>day_of_week</td>\n",
       "      <td>0.000000</td>\n",
       "    </tr>\n",
       "    <tr>\n",
       "      <th>8</th>\n",
       "      <td>month</td>\n",
       "      <td>0.000000</td>\n",
       "    </tr>\n",
       "    <tr>\n",
       "      <th>7</th>\n",
       "      <td>contact</td>\n",
       "      <td>0.000000</td>\n",
       "    </tr>\n",
       "    <tr>\n",
       "      <th>6</th>\n",
       "      <td>loan</td>\n",
       "      <td>0.000000</td>\n",
       "    </tr>\n",
       "    <tr>\n",
       "      <th>5</th>\n",
       "      <td>housing</td>\n",
       "      <td>0.000000</td>\n",
       "    </tr>\n",
       "    <tr>\n",
       "      <th>4</th>\n",
       "      <td>default</td>\n",
       "      <td>0.000000</td>\n",
       "    </tr>\n",
       "    <tr>\n",
       "      <th>3</th>\n",
       "      <td>education</td>\n",
       "      <td>0.000000</td>\n",
       "    </tr>\n",
       "    <tr>\n",
       "      <th>2</th>\n",
       "      <td>marital</td>\n",
       "      <td>0.000000</td>\n",
       "    </tr>\n",
       "    <tr>\n",
       "      <th>19</th>\n",
       "      <td>nr.employed</td>\n",
       "      <td>0.000000</td>\n",
       "    </tr>\n",
       "  </tbody>\n",
       "</table>\n",
       "</div>"
      ],
      "text/plain": [
       "           feature  importance\n",
       "0              age    0.509715\n",
       "13        previous    0.161575\n",
       "14        poutcome    0.147556\n",
       "16  cons.price.idx    0.113387\n",
       "18       euribor3m    0.067768\n",
       "1              job    0.000000\n",
       "17   cons.conf.idx    0.000000\n",
       "15    emp.var.rate    0.000000\n",
       "12           pdays    0.000000\n",
       "11        campaign    0.000000\n",
       "10        duration    0.000000\n",
       "9      day_of_week    0.000000\n",
       "8            month    0.000000\n",
       "7          contact    0.000000\n",
       "6             loan    0.000000\n",
       "5          housing    0.000000\n",
       "4          default    0.000000\n",
       "3        education    0.000000\n",
       "2          marital    0.000000\n",
       "19     nr.employed    0.000000"
      ]
     },
     "execution_count": 381,
     "metadata": {},
     "output_type": "execute_result"
    }
   ],
   "source": [
    "fi= pd.DataFrame({'feature': list(X_train.columns),\n",
    "                   'importance': clf_decision_model.feature_importances_}).\\\n",
    "                    sort_values('importance', ascending = False)\n",
    "\n",
    "fi"
   ]
  },
  {
   "cell_type": "code",
   "execution_count": null,
   "metadata": {},
   "outputs": [],
   "source": []
  }
 ],
 "metadata": {
  "kernelspec": {
   "display_name": "Python 3",
   "language": "python",
   "name": "python3"
  },
  "language_info": {
   "codemirror_mode": {
    "name": "ipython",
    "version": 3
   },
   "file_extension": ".py",
   "mimetype": "text/x-python",
   "name": "python",
   "nbconvert_exporter": "python",
   "pygments_lexer": "ipython3",
   "version": "3.7.3"
  }
 },
 "nbformat": 4,
 "nbformat_minor": 4
}
